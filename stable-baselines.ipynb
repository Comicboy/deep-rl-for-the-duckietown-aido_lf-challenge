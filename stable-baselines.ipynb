{
  "nbformat": 4,
  "nbformat_minor": 0,
  "metadata": {
    "colab": {
      "name": "Untitled11.ipynb",
      "provenance": []
    },
    "kernelspec": {
      "name": "python3",
      "display_name": "Python 3"
    }
  },
  "cells": [
    {
      "cell_type": "markdown",
      "metadata": {
        "id": "MqWylYUN4zpa"
      },
      "source": [
        "Clone OpenAI-Gym"
      ]
    },
    {
      "cell_type": "code",
      "metadata": {
        "colab": {
          "base_uri": "https://localhost:8080/"
        },
        "id": "vk0Ww5nKneiU",
        "outputId": "6b35c2e2-7bdd-4c4d-8b80-13ed4b588ee8"
      },
      "source": [
        "!git clone https://github.com/openai/gym.git"
      ],
      "execution_count": 1,
      "outputs": [
        {
          "output_type": "stream",
          "text": [
            "Cloning into 'gym'...\n",
            "remote: Enumerating objects: 10828, done.\u001b[K\n",
            "remote: Total 10828 (delta 0), reused 0 (delta 0), pack-reused 10828\n",
            "Receiving objects: 100% (10828/10828), 4.13 MiB | 3.12 MiB/s, done.\n",
            "Resolving deltas: 100% (7334/7334), done.\n"
          ],
          "name": "stdout"
        }
      ]
    },
    {
      "cell_type": "markdown",
      "metadata": {
        "id": "McRhtX0W49Sg"
      },
      "source": [
        "Installing requirements for the Gym"
      ]
    },
    {
      "cell_type": "code",
      "metadata": {
        "colab": {
          "base_uri": "https://localhost:8080/"
        },
        "id": "5jwrcUrIoNtH",
        "outputId": "03c9a88b-98d3-4133-d964-792168e082a0"
      },
      "source": [
        "%cd gym\n",
        "!pip3 install -e ."
      ],
      "execution_count": 2,
      "outputs": [
        {
          "output_type": "stream",
          "text": [
            "/content/gym\n",
            "Obtaining file:///content/gym\n",
            "Requirement already satisfied: scipy in /usr/local/lib/python3.6/dist-packages (from gym==0.17.3) (1.4.1)\n",
            "Requirement already satisfied: numpy>=1.10.4 in /usr/local/lib/python3.6/dist-packages (from gym==0.17.3) (1.18.5)\n",
            "Requirement already satisfied: pyglet<=1.5.0,>=1.4.0 in /usr/local/lib/python3.6/dist-packages (from gym==0.17.3) (1.5.0)\n",
            "Requirement already satisfied: Pillow<=7.2.0 in /usr/local/lib/python3.6/dist-packages (from gym==0.17.3) (7.0.0)\n",
            "Requirement already satisfied: cloudpickle<1.7.0,>=1.2.0 in /usr/local/lib/python3.6/dist-packages (from gym==0.17.3) (1.3.0)\n",
            "Requirement already satisfied: future in /usr/local/lib/python3.6/dist-packages (from pyglet<=1.5.0,>=1.4.0->gym==0.17.3) (0.16.0)\n",
            "Installing collected packages: gym\n",
            "  Found existing installation: gym 0.17.3\n",
            "    Uninstalling gym-0.17.3:\n",
            "      Successfully uninstalled gym-0.17.3\n",
            "  Running setup.py develop for gym\n",
            "Successfully installed gym\n"
          ],
          "name": "stdout"
        }
      ]
    },
    {
      "cell_type": "markdown",
      "metadata": {
        "id": "z2vTuf2N5Dz3"
      },
      "source": [
        "Checking whether the installation was successful by listing all the available environments"
      ]
    },
    {
      "cell_type": "code",
      "metadata": {
        "id": "hjZrD9s_4xxE"
      },
      "source": [
        "from gym import envs\n",
        "envids = [spec.id for spec in envs.registry.all()]\n",
        "for envid in sorted(envids):\n",
        "    print(envid)"
      ],
      "execution_count": null,
      "outputs": []
    },
    {
      "cell_type": "code",
      "metadata": {
        "colab": {
          "base_uri": "https://localhost:8080/"
        },
        "id": "1tNM7mrFoUKi",
        "outputId": "7095e40f-cf42-49f4-bc9e-f0391a6880e2"
      },
      "source": [
        "%cd .."
      ],
      "execution_count": 4,
      "outputs": [
        {
          "output_type": "stream",
          "text": [
            "/content\n"
          ],
          "name": "stdout"
        }
      ]
    },
    {
      "cell_type": "markdown",
      "metadata": {
        "id": "R8LRYnhU5Vcl"
      },
      "source": [
        "Cloning the DT Gym"
      ]
    },
    {
      "cell_type": "code",
      "metadata": {
        "colab": {
          "base_uri": "https://localhost:8080/"
        },
        "id": "sc16IyT7nrI-",
        "outputId": "ba42e0e5-c0ef-41a4-8dcf-7ef75ac6c529"
      },
      "source": [
        "!git clone https://github.com/duckietown/gym-duckietown.git"
      ],
      "execution_count": 5,
      "outputs": [
        {
          "output_type": "stream",
          "text": [
            "Cloning into 'gym-duckietown'...\n",
            "remote: Enumerating objects: 193, done.\u001b[K\n",
            "remote: Counting objects: 100% (193/193), done.\u001b[K\n",
            "remote: Compressing objects: 100% (107/107), done.\u001b[K\n",
            "remote: Total 5515 (delta 89), reused 149 (delta 57), pack-reused 5322\u001b[K\n",
            "Receiving objects: 100% (5515/5515), 79.04 MiB | 16.94 MiB/s, done.\n",
            "Resolving deltas: 100% (3198/3198), done.\n"
          ],
          "name": "stdout"
        }
      ]
    },
    {
      "cell_type": "code",
      "metadata": {
        "colab": {
          "base_uri": "https://localhost:8080/"
        },
        "id": "Rb77CaT_xx1V",
        "outputId": "32e6c4a9-dad4-4f09-8372-cf439705e56b"
      },
      "source": [
        "%cd gym-duckietown"
      ],
      "execution_count": 6,
      "outputs": [
        {
          "output_type": "stream",
          "text": [
            "/content/gym-duckietown\n"
          ],
          "name": "stdout"
        }
      ]
    },
    {
      "cell_type": "markdown",
      "metadata": {
        "id": "vTbtsq4V5aOY"
      },
      "source": [
        "Going back to an older commit because it is possible only with this version to register the environments"
      ]
    },
    {
      "cell_type": "code",
      "metadata": {
        "colab": {
          "base_uri": "https://localhost:8080/"
        },
        "id": "5JzDYiuboitZ",
        "outputId": "587d6a0c-06d0-4a9e-d7fa-d34738a70caa"
      },
      "source": [
        "!git checkout dcf8dd3\n",
        "!pip install -e ."
      ],
      "execution_count": 7,
      "outputs": [
        {
          "output_type": "stream",
          "text": [
            "Note: checking out 'dcf8dd3'.\n",
            "\n",
            "You are in 'detached HEAD' state. You can look around, make experimental\n",
            "changes and commit them, and you can discard any commits you make in this\n",
            "state without impacting any branches by performing another checkout.\n",
            "\n",
            "If you want to create a new branch to retain commits you create, you may\n",
            "do so (now or later) by using -b with the checkout command again. Example:\n",
            "\n",
            "  git checkout -b <new-branch-name>\n",
            "\n",
            "HEAD is now at dcf8dd3 fix\n",
            "Obtaining file:///content/gym-duckietown\n",
            "Requirement already satisfied: gym>=0.9.0 in /content/gym (from gym-duckietown==2018.10.1) (0.17.3)\n",
            "Requirement already satisfied: numpy>=1.10.0 in /usr/local/lib/python3.6/dist-packages (from gym-duckietown==2018.10.1) (1.18.5)\n",
            "Requirement already satisfied: pyglet in /usr/local/lib/python3.6/dist-packages (from gym-duckietown==2018.10.1) (1.5.0)\n",
            "Requirement already satisfied: pyzmq>=16.0.0 in /usr/local/lib/python3.6/dist-packages (from gym-duckietown==2018.10.1) (20.0.0)\n",
            "Requirement already satisfied: scikit-image>=0.13.1 in /usr/local/lib/python3.6/dist-packages (from gym-duckietown==2018.10.1) (0.16.2)\n",
            "Requirement already satisfied: opencv-python>=3.4 in /usr/local/lib/python3.6/dist-packages (from gym-duckietown==2018.10.1) (4.1.2.30)\n",
            "Requirement already satisfied: pyyaml>=3.11 in /usr/local/lib/python3.6/dist-packages (from gym-duckietown==2018.10.1) (3.13)\n",
            "Requirement already satisfied: cloudpickle in /usr/local/lib/python3.6/dist-packages (from gym-duckietown==2018.10.1) (1.3.0)\n",
            "Collecting duckietown_slimremote>=2018.8.2\n",
            "  Downloading https://files.pythonhosted.org/packages/66/0d/269674f3e7bcb85c7981d5a3eb4d6c734f6d3755f0db07b9d92f1c108f9d/duckietown_slimremote-2018.10.1.tar.gz\n",
            "Requirement already satisfied: scipy in /usr/local/lib/python3.6/dist-packages (from gym>=0.9.0->gym-duckietown==2018.10.1) (1.4.1)\n",
            "Requirement already satisfied: Pillow<=7.2.0 in /usr/local/lib/python3.6/dist-packages (from gym>=0.9.0->gym-duckietown==2018.10.1) (7.0.0)\n",
            "Requirement already satisfied: future in /usr/local/lib/python3.6/dist-packages (from pyglet->gym-duckietown==2018.10.1) (0.16.0)\n",
            "Requirement already satisfied: imageio>=2.3.0 in /usr/local/lib/python3.6/dist-packages (from scikit-image>=0.13.1->gym-duckietown==2018.10.1) (2.4.1)\n",
            "Requirement already satisfied: matplotlib!=3.0.0,>=2.0.0 in /usr/local/lib/python3.6/dist-packages (from scikit-image>=0.13.1->gym-duckietown==2018.10.1) (3.2.2)\n",
            "Requirement already satisfied: networkx>=2.0 in /usr/local/lib/python3.6/dist-packages (from scikit-image>=0.13.1->gym-duckietown==2018.10.1) (2.5)\n",
            "Requirement already satisfied: PyWavelets>=0.4.0 in /usr/local/lib/python3.6/dist-packages (from scikit-image>=0.13.1->gym-duckietown==2018.10.1) (1.1.1)\n",
            "Requirement already satisfied: cycler>=0.10 in /usr/local/lib/python3.6/dist-packages (from matplotlib!=3.0.0,>=2.0.0->scikit-image>=0.13.1->gym-duckietown==2018.10.1) (0.10.0)\n",
            "Requirement already satisfied: pyparsing!=2.0.4,!=2.1.2,!=2.1.6,>=2.0.1 in /usr/local/lib/python3.6/dist-packages (from matplotlib!=3.0.0,>=2.0.0->scikit-image>=0.13.1->gym-duckietown==2018.10.1) (2.4.7)\n",
            "Requirement already satisfied: python-dateutil>=2.1 in /usr/local/lib/python3.6/dist-packages (from matplotlib!=3.0.0,>=2.0.0->scikit-image>=0.13.1->gym-duckietown==2018.10.1) (2.8.1)\n",
            "Requirement already satisfied: kiwisolver>=1.0.1 in /usr/local/lib/python3.6/dist-packages (from matplotlib!=3.0.0,>=2.0.0->scikit-image>=0.13.1->gym-duckietown==2018.10.1) (1.3.1)\n",
            "Requirement already satisfied: decorator>=4.3.0 in /usr/local/lib/python3.6/dist-packages (from networkx>=2.0->scikit-image>=0.13.1->gym-duckietown==2018.10.1) (4.4.2)\n",
            "Requirement already satisfied: six in /usr/local/lib/python3.6/dist-packages (from cycler>=0.10->matplotlib!=3.0.0,>=2.0.0->scikit-image>=0.13.1->gym-duckietown==2018.10.1) (1.15.0)\n",
            "Building wheels for collected packages: duckietown-slimremote\n",
            "  Building wheel for duckietown-slimremote (setup.py) ... \u001b[?25l\u001b[?25hdone\n",
            "  Created wheel for duckietown-slimremote: filename=duckietown_slimremote-2018.10.1-cp36-none-any.whl size=1521 sha256=6e30a5dfc25a7d53a6ec12706d132ab9fdffed2757d981346b971698884b05cd\n",
            "  Stored in directory: /root/.cache/pip/wheels/fe/b7/45/f23813d245dd37135151cdac7c098b81f9636d2ae64320f832\n",
            "Successfully built duckietown-slimremote\n",
            "Installing collected packages: duckietown-slimremote, gym-duckietown\n",
            "  Running setup.py develop for gym-duckietown\n",
            "Successfully installed duckietown-slimremote-2018.10.1 gym-duckietown\n"
          ],
          "name": "stdout"
        }
      ]
    },
    {
      "cell_type": "code",
      "metadata": {
        "colab": {
          "base_uri": "https://localhost:8080/"
        },
        "id": "VC91zAdFo8kT",
        "outputId": "b0e65969-1432-4ed2-8141-0de7c9502575"
      },
      "source": [
        "%cd .."
      ],
      "execution_count": 8,
      "outputs": [
        {
          "output_type": "stream",
          "text": [
            "/content\n"
          ],
          "name": "stdout"
        }
      ]
    },
    {
      "cell_type": "markdown",
      "metadata": {
        "id": "DTdAiFm15wzm"
      },
      "source": [
        "Import Gym"
      ]
    },
    {
      "cell_type": "code",
      "metadata": {
        "id": "EyB1g7MApBb5"
      },
      "source": [
        "import gym"
      ],
      "execution_count": 9,
      "outputs": []
    },
    {
      "cell_type": "markdown",
      "metadata": {
        "id": "zqAfPZqb5ymR"
      },
      "source": [
        "Import the DT Gym"
      ]
    },
    {
      "cell_type": "code",
      "metadata": {
        "colab": {
          "base_uri": "https://localhost:8080/"
        },
        "id": "RJFYtYSTpEWH",
        "outputId": "8ef7e194-69b2-4610-e093-89c11f366776"
      },
      "source": [
        "%cd gym-duckietown/"
      ],
      "execution_count": 11,
      "outputs": [
        {
          "output_type": "stream",
          "text": [
            "/content/gym-duckietown\n"
          ],
          "name": "stdout"
        }
      ]
    },
    {
      "cell_type": "code",
      "metadata": {
        "colab": {
          "base_uri": "https://localhost:8080/"
        },
        "id": "d4pq-A09pM_Q",
        "outputId": "970179b8-7fc5-4633-d559-0fd2417bd9d7"
      },
      "source": [
        "import gym_duckietown.envs.duckietown_env"
      ],
      "execution_count": 12,
      "outputs": [
        {
          "output_type": "stream",
          "text": [
            "INFO:gym-duckietown:gym-duckietown 2018.10.1\n",
            "\n",
            "INFO:gym-duckietown:Registering gym environment id: Duckietown-loop_empty-v0\n",
            "INFO:gym-duckietown:Registering gym environment id: Duckietown-udem1-v0\n",
            "INFO:gym-duckietown:Registering gym environment id: Duckietown-straight_road-v0\n",
            "INFO:gym-duckietown:Registering gym environment id: Duckietown-small_loop_cw-v0\n",
            "INFO:gym-duckietown:Registering gym environment id: Duckietown-loop_obstacles-v0\n",
            "INFO:gym-duckietown:Registering gym environment id: Duckietown-small_loop-v0\n",
            "INFO:gym-duckietown:Registering gym environment id: Duckietown-zigzag_dists-v0\n",
            "INFO:gym-duckietown:Registering gym environment id: Duckietown-loop_dyn_duckiebots-v0\n",
            "INFO:gym-duckietown:Registering gym environment id: Duckietown-loop_pedestrians-v0\n",
            "INFO:gym-duckietown:Registering gym environment id: Duckietown-4way-v0\n"
          ],
          "name": "stderr"
        }
      ]
    },
    {
      "cell_type": "markdown",
      "metadata": {
        "id": "4lkL6xJe53eC"
      },
      "source": [
        "Get the StableBaselines"
      ]
    },
    {
      "cell_type": "code",
      "metadata": {
        "id": "R0SBqbempbQ9"
      },
      "source": [
        "!pip install stable-baselines3[extra]"
      ],
      "execution_count": null,
      "outputs": []
    },
    {
      "cell_type": "code",
      "metadata": {
        "id": "phwUdoZZp0Mm"
      },
      "source": [
        "import numpy as np\n",
        "from stable_baselines3 import PPO\n",
        "from stable_baselines3.common.evaluation import evaluate_policy"
      ],
      "execution_count": 14,
      "outputs": []
    },
    {
      "cell_type": "markdown",
      "metadata": {
        "id": "5p8Dq7o057cd"
      },
      "source": [
        "Virtual display is necessary for training"
      ]
    },
    {
      "cell_type": "code",
      "metadata": {
        "id": "F7h4x8iV1_ZZ"
      },
      "source": [
        "!apt-get install python-opengl -y\n",
        "!apt install xvfb -y"
      ],
      "execution_count": null,
      "outputs": []
    },
    {
      "cell_type": "code",
      "metadata": {
        "id": "5G1hfaYs12Me"
      },
      "source": [
        "!pip install pyvirtualdisplay\n",
        "!pip install piglet"
      ],
      "execution_count": null,
      "outputs": []
    },
    {
      "cell_type": "code",
      "metadata": {
        "colab": {
          "base_uri": "https://localhost:8080/"
        },
        "id": "AYyiWK4k1XZZ",
        "outputId": "e38bf392-4e5a-423f-ff2f-afedff67cc1c"
      },
      "source": [
        "from pyvirtualdisplay import Display\n",
        "display = Display(visible=0, size=(1400, 900))\n",
        "display.start()"
      ],
      "execution_count": 21,
      "outputs": [
        {
          "output_type": "execute_result",
          "data": {
            "text/plain": [
              "<pyvirtualdisplay.display.Display at 0x7f61a8974c50>"
            ]
          },
          "metadata": {
            "tags": []
          },
          "execution_count": 21
        }
      ]
    },
    {
      "cell_type": "markdown",
      "metadata": {
        "id": "KRk6Gj8w5__s"
      },
      "source": [
        "Creating a PPO model"
      ]
    },
    {
      "cell_type": "code",
      "metadata": {
        "colab": {
          "base_uri": "https://localhost:8080/"
        },
        "id": "-QDGoAtTwZcs",
        "outputId": "ad8956a9-9a56-4970-ef8a-e3a5df10d268"
      },
      "source": [
        "model = PPO('CnnPolicy', 'Duckietown-udem1-v0', verbose = 1)"
      ],
      "execution_count": 22,
      "outputs": [
        {
          "output_type": "stream",
          "text": [
            "Using cpu device\n",
            "Creating environment from the given name 'Duckietown-udem1-v0'\n"
          ],
          "name": "stdout"
        },
        {
          "output_type": "stream",
          "text": [
            "DEBUG:gym-duckietown:Falling back to non-multisampled frame buffer\n",
            "DEBUG:gym-duckietown:Falling back to non-multisampled frame buffer\n",
            "DEBUG:gym-duckietown:loading map file \"/content/gym-duckietown/gym_duckietown/maps/udem1.yaml\"\n",
            "DEBUG:gym-duckietown:loading mesh \"/content/gym-duckietown/gym_duckietown/meshes/duckiebot.obj\"\n",
            "DEBUG:gym-duckietown:loading materials from \"/content/gym-duckietown/gym_duckietown/meshes/duckiebot.mtl\"\n",
            "DEBUG:gym-duckietown:loading mesh \"/content/gym-duckietown/gym_duckietown/meshes/tree.obj\"\n",
            "DEBUG:gym-duckietown:loading materials from \"/content/gym-duckietown/gym_duckietown/meshes/tree.mtl\"\n",
            "DEBUG:gym-duckietown:loading mesh \"/content/gym-duckietown/gym_duckietown/meshes/duckie.obj\"\n",
            "DEBUG:gym-duckietown:loading texture \"/content/gym-duckietown/gym_duckietown/textures/duckie.png\"\n",
            "DEBUG:gym-duckietown:loading mesh \"/content/gym-duckietown/gym_duckietown/meshes/sign_stop.obj\"\n",
            "DEBUG:gym-duckietown:loading materials from \"/content/gym-duckietown/gym_duckietown/meshes/sign_stop.mtl\"\n",
            "DEBUG:gym-duckietown:loading texture \"/content/gym-duckietown/gym_duckietown/meshes/../textures/sign_stop.png\"\n",
            "DEBUG:gym-duckietown:loading texture \"/content/gym-duckietown/gym_duckietown/meshes/../textures/wood_osb.jpg\"\n",
            "DEBUG:gym-duckietown:loading mesh \"/content/gym-duckietown/gym_duckietown/meshes/sign_left_T_intersect.obj\"\n",
            "DEBUG:gym-duckietown:loading materials from \"/content/gym-duckietown/gym_duckietown/meshes/sign_left_T_intersect.mtl\"\n",
            "DEBUG:gym-duckietown:loading texture \"/content/gym-duckietown/gym_duckietown/meshes/../textures/sign_left_T_intersect.png\"\n",
            "DEBUG:gym-duckietown:loading texture \"/content/gym-duckietown/gym_duckietown/meshes/../textures/wood_osb.jpg\"\n",
            "DEBUG:gym-duckietown:loading mesh \"/content/gym-duckietown/gym_duckietown/meshes/sign_right_T_intersect.obj\"\n",
            "DEBUG:gym-duckietown:loading materials from \"/content/gym-duckietown/gym_duckietown/meshes/sign_right_T_intersect.mtl\"\n",
            "DEBUG:gym-duckietown:loading texture \"/content/gym-duckietown/gym_duckietown/meshes/../textures/sign_right_T_intersect.png\"\n",
            "DEBUG:gym-duckietown:loading texture \"/content/gym-duckietown/gym_duckietown/meshes/../textures/wood_osb.jpg\"\n",
            "DEBUG:gym-duckietown:loading mesh \"/content/gym-duckietown/gym_duckietown/meshes/sign_T_intersect.obj\"\n",
            "DEBUG:gym-duckietown:loading materials from \"/content/gym-duckietown/gym_duckietown/meshes/sign_T_intersect.mtl\"\n",
            "DEBUG:gym-duckietown:loading texture \"/content/gym-duckietown/gym_duckietown/meshes/../textures/sign_T_intersect.png\"\n",
            "DEBUG:gym-duckietown:loading texture \"/content/gym-duckietown/gym_duckietown/meshes/../textures/wood_osb.jpg\"\n",
            "DEBUG:gym-duckietown:loading mesh \"/content/gym-duckietown/gym_duckietown/meshes/house.obj\"\n",
            "DEBUG:gym-duckietown:loading texture \"/content/gym-duckietown/gym_duckietown/textures/house.png\"\n",
            "DEBUG:gym-duckietown:loading mesh \"/content/gym-duckietown/gym_duckietown/meshes/truck.obj\"\n",
            "DEBUG:gym-duckietown:loading texture \"/content/gym-duckietown/gym_duckietown/textures/truck.png\"\n",
            "DEBUG:gym-duckietown:loading mesh \"/content/gym-duckietown/gym_duckietown/meshes/bus.obj\"\n",
            "DEBUG:gym-duckietown:loading texture \"/content/gym-duckietown/gym_duckietown/textures/bus.png\"\n",
            "DEBUG:gym-duckietown:loading texture \"/content/gym-duckietown/gym_duckietown/textures/floor_1.png\"\n",
            "DEBUG:gym-duckietown:loading texture \"/content/gym-duckietown/gym_duckietown/textures/curve_left_3.png\"\n",
            "DEBUG:gym-duckietown:loading texture \"/content/gym-duckietown/gym_duckietown/textures/straight_1.png\"\n",
            "DEBUG:gym-duckietown:loading texture \"/content/gym-duckietown/gym_duckietown/textures/3way_left_2.png\"\n",
            "DEBUG:gym-duckietown:loading texture \"/content/gym-duckietown/gym_duckietown/textures/asphalt_1.png\"\n",
            "DEBUG:gym-duckietown:loading texture \"/content/gym-duckietown/gym_duckietown/textures/grass_1.png\"\n",
            "DEBUG:gym-duckietown:loading texture \"/content/gym-duckietown/gym_duckietown/textures/3way_left_1.png\"\n",
            "DEBUG:gym-duckietown:loading texture \"/content/gym-duckietown/gym_duckietown/textures/grass_2.png\"\n",
            "DEBUG:gym-duckietown:loading texture \"/content/gym-duckietown/gym_duckietown/textures/curve_right_1.png\"\n",
            "DEBUG:gym-duckietown:loading texture \"/content/gym-duckietown/gym_duckietown/textures/curve_left_1.png\"\n",
            "INFO:gym-duckietown:Starting at [2.08166653 0.         2.89313304] 4.279282003215922\n",
            "INFO:gym-duckietown:Pos: [2.08166653 0.         2.89313304] angle 4.279282003215922\n",
            "INFO:gym-duckietown:using DuckietownEnv\n",
            "/content/gym/gym/logger.py:30: UserWarning: \u001b[33mWARN: Box bound precision lowered by casting to float32\u001b[0m\n",
            "  warnings.warn(colorize('%s: %s'%('WARN', msg % args), 'yellow'))\n"
          ],
          "name": "stderr"
        },
        {
          "output_type": "stream",
          "text": [
            "Wrapping the env in a DummyVecEnv.\n",
            "Wrapping the env in a VecTransposeImage.\n"
          ],
          "name": "stdout"
        }
      ]
    },
    {
      "cell_type": "markdown",
      "metadata": {
        "id": "1_RrE2Vz6C-g"
      },
      "source": [
        "Start learning (at this point you should run out of RAM and experience a crash ;) )"
      ]
    },
    {
      "cell_type": "code",
      "metadata": {
        "colab": {
          "base_uri": "https://localhost:8080/"
        },
        "id": "5nHj4szk4I_7",
        "outputId": "c53b3de2-7766-4278-e41d-f22f50761ad2"
      },
      "source": [
        "model.learn(total_timesteps=int(1e5))"
      ],
      "execution_count": null,
      "outputs": [
        {
          "output_type": "stream",
          "text": [
            "INFO:gym-duckietown:Starting at [3.47942584 0.         2.72251078] 2.357442518493873\n",
            "INFO:gym-duckietown:Pos: [3.47942584 0.         2.72251078] angle 2.357442518493873\n"
          ],
          "name": "stderr"
        }
      ]
    }
  ]
}