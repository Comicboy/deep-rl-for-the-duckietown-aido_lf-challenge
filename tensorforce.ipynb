{
  "nbformat": 4,
  "nbformat_minor": 0,
  "metadata": {
    "colab": {
      "name": "Untitled.ipynb",
      "provenance": []
    },
    "kernelspec": {
      "name": "python3",
      "display_name": "Python 3"
    }
  },
  "cells": [
    {
      "cell_type": "code",
      "metadata": {
        "colab": {
          "base_uri": "https://localhost:8080/"
        },
        "id": "RZW3YcNreJ2G",
        "outputId": "4b5fcd42-10df-41fc-cc84-3f6b1325f548"
      },
      "source": [
        "!ln -sf /opt/bin/nvidia-smi /usr/bin/nvidia-smi\n",
        "!nvidia-smi"
      ],
      "execution_count": 1,
      "outputs": [
        {
          "output_type": "stream",
          "text": [
            "/bin/bash: nvidia-smi: command not found\n"
          ],
          "name": "stdout"
        }
      ]
    },
    {
      "cell_type": "markdown",
      "metadata": {
        "id": "MqWylYUN4zpa"
      },
      "source": [
        "Clone OpenAI-Gym"
      ]
    },
    {
      "cell_type": "code",
      "metadata": {
        "id": "vk0Ww5nKneiU"
      },
      "source": [
        "!git clone https://github.com/openai/gym.git"
      ],
      "execution_count": null,
      "outputs": []
    },
    {
      "cell_type": "markdown",
      "metadata": {
        "id": "McRhtX0W49Sg"
      },
      "source": [
        "Installing requirements for the Gym"
      ]
    },
    {
      "cell_type": "code",
      "metadata": {
        "id": "5jwrcUrIoNtH"
      },
      "source": [
        "%cd gym\n",
        "!pip3 install -e ."
      ],
      "execution_count": null,
      "outputs": []
    },
    {
      "cell_type": "markdown",
      "metadata": {
        "id": "z2vTuf2N5Dz3"
      },
      "source": [
        "Checking whether the installation was successful by listing all the available environments"
      ]
    },
    {
      "cell_type": "code",
      "metadata": {
        "id": "hjZrD9s_4xxE"
      },
      "source": [
        "from gym import envs\n",
        "envids = [spec.id for spec in envs.registry.all()]\n",
        "for envid in sorted(envids):\n",
        "    print(envid)"
      ],
      "execution_count": null,
      "outputs": []
    },
    {
      "cell_type": "code",
      "metadata": {
        "colab": {
          "base_uri": "https://localhost:8080/"
        },
        "id": "1tNM7mrFoUKi",
        "outputId": "5f7c272d-ff0c-4ed2-c38e-f87fd21751dc"
      },
      "source": [
        "%cd .."
      ],
      "execution_count": 5,
      "outputs": [
        {
          "output_type": "stream",
          "text": [
            "/content\n"
          ],
          "name": "stdout"
        }
      ]
    },
    {
      "cell_type": "markdown",
      "metadata": {
        "id": "R8LRYnhU5Vcl"
      },
      "source": [
        "Cloning the DT Gym and our repository"
      ]
    },
    {
      "cell_type": "code",
      "metadata": {
        "id": "oh3Ti8QB39k2"
      },
      "source": [
        "!git clone https://github.com/Comicboy/deep-rl-for-the-duckietown-aido_lf-challenge"
      ],
      "execution_count": null,
      "outputs": []
    },
    {
      "cell_type": "code",
      "metadata": {
        "id": "sc16IyT7nrI-"
      },
      "source": [
        "!git clone https://github.com/duckietown/gym-duckietown.git"
      ],
      "execution_count": null,
      "outputs": []
    },
    {
      "cell_type": "code",
      "metadata": {
        "id": "Rb77CaT_xx1V"
      },
      "source": [
        "%cd gym-duckietown"
      ],
      "execution_count": null,
      "outputs": []
    },
    {
      "cell_type": "markdown",
      "metadata": {
        "id": "vTbtsq4V5aOY"
      },
      "source": [
        "Going back to an older commit because it is possible only with this version to register the environments"
      ]
    },
    {
      "cell_type": "code",
      "metadata": {
        "id": "w4mqbuVVfC02"
      },
      "source": [
        "!git checkout dcf8dd3"
      ],
      "execution_count": null,
      "outputs": []
    },
    {
      "cell_type": "code",
      "metadata": {
        "id": "5JzDYiuboitZ"
      },
      "source": [
        "!pip install -e ."
      ],
      "execution_count": null,
      "outputs": []
    },
    {
      "cell_type": "code",
      "metadata": {
        "id": "VC91zAdFo8kT"
      },
      "source": [
        "%cd .."
      ],
      "execution_count": null,
      "outputs": []
    },
    {
      "cell_type": "markdown",
      "metadata": {
        "id": "WFAUvRJX420Y"
      },
      "source": [
        "Copy our map into the maps folder"
      ]
    },
    {
      "cell_type": "code",
      "metadata": {
        "id": "gvNO0jyC4qbr"
      },
      "source": [
        "!cp deep-rl-for-the-duckietown-aido_lf-challenge/my.yaml gym-duckietown/gym_duckietown/maps"
      ],
      "execution_count": 12,
      "outputs": []
    },
    {
      "cell_type": "markdown",
      "metadata": {
        "id": "DTdAiFm15wzm"
      },
      "source": [
        "Import Gym"
      ]
    },
    {
      "cell_type": "code",
      "metadata": {
        "id": "EyB1g7MApBb5"
      },
      "source": [
        "import gym"
      ],
      "execution_count": 1,
      "outputs": []
    },
    {
      "cell_type": "markdown",
      "metadata": {
        "id": "zqAfPZqb5ymR"
      },
      "source": [
        "Import the DT Gym"
      ]
    },
    {
      "cell_type": "code",
      "metadata": {
        "colab": {
          "base_uri": "https://localhost:8080/"
        },
        "id": "RJFYtYSTpEWH",
        "outputId": "d47401e3-b61b-45e2-fe92-847a4ae58026"
      },
      "source": [
        "%cd gym-duckietown/"
      ],
      "execution_count": 14,
      "outputs": [
        {
          "output_type": "stream",
          "text": [
            "/content/gym-duckietown\n"
          ],
          "name": "stdout"
        }
      ]
    },
    {
      "cell_type": "code",
      "metadata": {
        "id": "d4pq-A09pM_Q",
        "colab": {
          "base_uri": "https://localhost:8080/"
        },
        "outputId": "e4d6aecd-ab15-4475-c14b-b7dc88997d7c"
      },
      "source": [
        "import gym_duckietown.envs.duckietown_env"
      ],
      "execution_count": 2,
      "outputs": [
        {
          "output_type": "stream",
          "text": [
            "INFO:gym-duckietown:gym-duckietown 2018.10.1\n",
            "\n",
            "INFO:gym-duckietown:Registering gym environment id: Duckietown-loop_empty-v0\n",
            "INFO:gym-duckietown:Registering gym environment id: Duckietown-small_loop_cw-v0\n",
            "INFO:gym-duckietown:Registering gym environment id: Duckietown-my-v0\n",
            "INFO:gym-duckietown:Registering gym environment id: Duckietown-loop_obstacles-v0\n",
            "INFO:gym-duckietown:Registering gym environment id: Duckietown-small_loop-v0\n",
            "INFO:gym-duckietown:Registering gym environment id: Duckietown-loop_pedestrians-v0\n",
            "INFO:gym-duckietown:Registering gym environment id: Duckietown-udem1-v0\n",
            "INFO:gym-duckietown:Registering gym environment id: Duckietown-loop_dyn_duckiebots-v0\n",
            "INFO:gym-duckietown:Registering gym environment id: Duckietown-straight_road-v0\n",
            "INFO:gym-duckietown:Registering gym environment id: Duckietown-4way-v0\n",
            "INFO:gym-duckietown:Registering gym environment id: Duckietown-zigzag_dists-v0\n"
          ],
          "name": "stderr"
        }
      ]
    },
    {
      "cell_type": "code",
      "metadata": {
        "colab": {
          "base_uri": "https://localhost:8080/"
        },
        "id": "dsZHyxuEvLQW",
        "outputId": "32898235-bef7-45c1-e430-d47a624ba78e"
      },
      "source": [
        "%cd .."
      ],
      "execution_count": 16,
      "outputs": [
        {
          "output_type": "stream",
          "text": [
            "/content\n"
          ],
          "name": "stdout"
        }
      ]
    },
    {
      "cell_type": "markdown",
      "metadata": {
        "id": "4lkL6xJe53eC"
      },
      "source": [
        "Get TensorForce"
      ]
    },
    {
      "cell_type": "code",
      "metadata": {
        "id": "phwUdoZZp0Mm",
        "colab": {
          "base_uri": "https://localhost:8080/"
        },
        "outputId": "53823e12-2548-4afe-b8be-d94bc9697378"
      },
      "source": [
        "!git clone https://github.com/tensorforce/tensorforce.git"
      ],
      "execution_count": 17,
      "outputs": [
        {
          "output_type": "stream",
          "text": [
            "Cloning into 'tensorforce'...\n",
            "remote: Enumerating objects: 212, done.\u001b[K\n",
            "remote: Counting objects: 100% (212/212), done.\u001b[K\n",
            "remote: Compressing objects: 100% (124/124), done.\u001b[K\n",
            "remote: Total 21053 (delta 130), reused 139 (delta 88), pack-reused 20841\u001b[K\n",
            "Receiving objects: 100% (21053/21053), 27.01 MiB | 11.78 MiB/s, done.\n",
            "Resolving deltas: 100% (16560/16560), done.\n"
          ],
          "name": "stdout"
        }
      ]
    },
    {
      "cell_type": "code",
      "metadata": {
        "colab": {
          "base_uri": "https://localhost:8080/"
        },
        "id": "oNrCuyHPvGie",
        "outputId": "88ada053-48be-415f-ed7d-2fdf35d2c81f"
      },
      "source": [
        "%cd tensorforce"
      ],
      "execution_count": 18,
      "outputs": [
        {
          "output_type": "stream",
          "text": [
            "/content/tensorforce\n"
          ],
          "name": "stdout"
        }
      ]
    },
    {
      "cell_type": "code",
      "metadata": {
        "id": "HW8ErzYYvH0G"
      },
      "source": [
        "!pip3 install -e ."
      ],
      "execution_count": null,
      "outputs": []
    },
    {
      "cell_type": "code",
      "metadata": {
        "colab": {
          "base_uri": "https://localhost:8080/"
        },
        "id": "LvRryauFvV37",
        "outputId": "c39475a2-f1fe-453d-942c-853946725537"
      },
      "source": [
        "%cd .."
      ],
      "execution_count": 20,
      "outputs": [
        {
          "output_type": "stream",
          "text": [
            "/content\n"
          ],
          "name": "stdout"
        }
      ]
    },
    {
      "cell_type": "markdown",
      "metadata": {
        "id": "5p8Dq7o057cd"
      },
      "source": [
        "Virtual display is necessary for training"
      ]
    },
    {
      "cell_type": "code",
      "metadata": {
        "id": "vDDQ7HUnyrQN"
      },
      "source": [
        "!apt update"
      ],
      "execution_count": null,
      "outputs": []
    },
    {
      "cell_type": "code",
      "metadata": {
        "id": "F7h4x8iV1_ZZ"
      },
      "source": [
        "!apt-get install python-opengl -y\n",
        "!apt-get install xvfb -y"
      ],
      "execution_count": null,
      "outputs": []
    },
    {
      "cell_type": "code",
      "metadata": {
        "id": "5G1hfaYs12Me"
      },
      "source": [
        "!pip install pyvirtualdisplay\n",
        "!pip install piglet"
      ],
      "execution_count": null,
      "outputs": []
    },
    {
      "cell_type": "code",
      "metadata": {
        "id": "AYyiWK4k1XZZ",
        "colab": {
          "base_uri": "https://localhost:8080/",
          "height": 354
        },
        "outputId": "b4ac72e0-d8e8-416b-fb34-b86c7d61484d"
      },
      "source": [
        "from pyvirtualdisplay import Display\n",
        "display = Display(visible=0, size=(1400, 900))\n",
        "display.start()"
      ],
      "execution_count": 4,
      "outputs": [
        {
          "output_type": "error",
          "ename": "ModuleNotFoundError",
          "evalue": "ignored",
          "traceback": [
            "\u001b[0;31m---------------------------------------------------------------------------\u001b[0m",
            "\u001b[0;31mModuleNotFoundError\u001b[0m                       Traceback (most recent call last)",
            "\u001b[0;32m<ipython-input-4-babc120eca7d>\u001b[0m in \u001b[0;36m<module>\u001b[0;34m()\u001b[0m\n\u001b[0;32m----> 1\u001b[0;31m \u001b[0;32mfrom\u001b[0m \u001b[0mpyvirtualdisplay\u001b[0m \u001b[0;32mimport\u001b[0m \u001b[0mDisplay\u001b[0m\u001b[0;34m\u001b[0m\u001b[0;34m\u001b[0m\u001b[0m\n\u001b[0m\u001b[1;32m      2\u001b[0m \u001b[0mdisplay\u001b[0m \u001b[0;34m=\u001b[0m \u001b[0mDisplay\u001b[0m\u001b[0;34m(\u001b[0m\u001b[0mvisible\u001b[0m\u001b[0;34m=\u001b[0m\u001b[0;36m0\u001b[0m\u001b[0;34m,\u001b[0m \u001b[0msize\u001b[0m\u001b[0;34m=\u001b[0m\u001b[0;34m(\u001b[0m\u001b[0;36m1400\u001b[0m\u001b[0;34m,\u001b[0m \u001b[0;36m900\u001b[0m\u001b[0;34m)\u001b[0m\u001b[0;34m)\u001b[0m\u001b[0;34m\u001b[0m\u001b[0;34m\u001b[0m\u001b[0m\n\u001b[1;32m      3\u001b[0m \u001b[0mdisplay\u001b[0m\u001b[0;34m.\u001b[0m\u001b[0mstart\u001b[0m\u001b[0;34m(\u001b[0m\u001b[0;34m)\u001b[0m\u001b[0;34m\u001b[0m\u001b[0;34m\u001b[0m\u001b[0m\n",
            "\u001b[0;31mModuleNotFoundError\u001b[0m: No module named 'pyvirtualdisplay'",
            "",
            "\u001b[0;31m---------------------------------------------------------------------------\u001b[0;32m\nNOTE: If your import is failing due to a missing package, you can\nmanually install dependencies using either !pip or !apt.\n\nTo view examples of installing some common dependencies, click the\n\"Open Examples\" button below.\n\u001b[0;31m---------------------------------------------------------------------------\u001b[0m\n"
          ]
        }
      ]
    },
    {
      "cell_type": "markdown",
      "metadata": {
        "id": "dRny-aXfDayM"
      },
      "source": [
        "A different way of creating a virtual display"
      ]
    },
    {
      "cell_type": "code",
      "metadata": {
        "id": "Ay6-0kVmDt1F"
      },
      "source": [
        "!apt-get install ffmpeg freeglut3-dev xvfb  # For visualization"
      ],
      "execution_count": null,
      "outputs": []
    },
    {
      "cell_type": "code",
      "metadata": {
        "id": "NnhM0F1gDkeS"
      },
      "source": [
        "import os\n",
        "os.system(\"Xvfb :1 -screen 0 1024x768x24 &\")\n",
        "os.environ['DISPLAY'] = ':1'"
      ],
      "execution_count": 5,
      "outputs": []
    },
    {
      "cell_type": "markdown",
      "metadata": {
        "id": "LnXZUwdX0Q5c"
      },
      "source": [
        "Check if the DT environments follow the Gym interface"
      ]
    },
    {
      "cell_type": "code",
      "metadata": {
        "id": "_0vYUPak0GaN"
      },
      "source": [
        "from gym_duckietown.simulator import Simulator"
      ],
      "execution_count": null,
      "outputs": []
    },
    {
      "cell_type": "code",
      "metadata": {
        "id": "lG9uDTTc0J56"
      },
      "source": [
        "from stable_baselines3.common.env_checker import check_env\n",
        "check_env(Simulator())"
      ],
      "execution_count": null,
      "outputs": []
    },
    {
      "cell_type": "code",
      "metadata": {
        "id": "3tx572FY0JrH"
      },
      "source": [
        "from gym_duckietown.envs.duckietown_env import DuckietownEnv\n",
        "check_env(DuckietownEnv())"
      ],
      "execution_count": null,
      "outputs": []
    },
    {
      "cell_type": "code",
      "metadata": {
        "id": "HNtKOXLr0zge"
      },
      "source": [
        "from tensorforce.environments import Environment"
      ],
      "execution_count": 6,
      "outputs": []
    },
    {
      "cell_type": "code",
      "metadata": {
        "id": "v-HmJukX1Q2p"
      },
      "source": [
        "environment = Environment.create(\n",
        "    environment='gym',\n",
        "    level = 'Duckietown-my-v0',\n",
        "    max_episode_timesteps = 100\n",
        ")"
      ],
      "execution_count": null,
      "outputs": []
    },
    {
      "cell_type": "markdown",
      "metadata": {
        "id": "8V6rwnSS0j79"
      },
      "source": [
        "If you want to see for yourself that the prewritten PPO doesn't work"
      ]
    },
    {
      "cell_type": "code",
      "metadata": {
        "id": "XoHZg41RdTgi"
      },
      "source": [
        "!python3 pytorch_rl/main.py \\\n",
        "        --algo a2c \\\n",
        "        --env-name Duckietown-loop_obstacles-v0 \\\n",
        "        --lr 0.0002 \\\n",
        "        --max-grad-norm 0.5 \\\n",
        "        --no-vis \\\n",
        "        --num-steps 20"
      ],
      "execution_count": null,
      "outputs": []
    },
    {
      "cell_type": "markdown",
      "metadata": {
        "id": "KRk6Gj8w5__s"
      },
      "source": [
        "Creating a PPO model"
      ]
    },
    {
      "cell_type": "code",
      "metadata": {
        "id": "zh-9E6NZ2YrB"
      },
      "source": [
        "from tensorforce.agents import Agent"
      ],
      "execution_count": 8,
      "outputs": []
    },
    {
      "cell_type": "code",
      "metadata": {
        "id": "lkp2Luwg3Vob"
      },
      "source": [
        "agent = Agent.create(\n",
        "    agent = 'ppo',\n",
        "    environment = environment,\n",
        "    batch_size = 10,\n",
        "    learning_rate = 1e-3\n",
        ")"
      ],
      "execution_count": 9,
      "outputs": []
    },
    {
      "cell_type": "code",
      "metadata": {
        "id": "eVdpTg6h4aF7"
      },
      "source": [
        "from tensorforce.execution import Runner"
      ],
      "execution_count": 10,
      "outputs": []
    },
    {
      "cell_type": "code",
      "metadata": {
        "id": "-QDGoAtTwZcs",
        "colab": {
          "base_uri": "https://localhost:8080/"
        },
        "outputId": "cabd47b3-d3e0-4900-e0ea-58dee1d4a564"
      },
      "source": [
        "runner = Runner(\n",
        "    agent = agent,\n",
        "    environment = environment\n",
        ")\n",
        "runner.run(num_episodes = 10)"
      ],
      "execution_count": null,
      "outputs": [
        {
          "output_type": "stream",
          "text": [
            "\rEpisodes:   0%|          | 0/10 [00:00, reward=0.00, ts/ep=0, sec/ep=0.00, ms/ts=0.0, agent=0.0%]DEBUG:gym-duckietown:loading texture \"/content/gym-duckietown/gym_duckietown/textures/curve_left_2.png\"\n",
            "INFO:gym-duckietown:Starting at [0.77657456 0.         4.24764955] 1.459328925684415\n",
            "INFO:gym-duckietown:Pos: [0.77657456 0.         4.24764955] angle 1.459328925684415\n",
            "INFO:gym-duckietown:Pos: [0.77645332 0.         4.24873425] angle 1.4596460469652222\n",
            "INFO:gym-duckietown:Pos: [0.77626961 0.         4.25036504] angle 1.4575884479074197\n",
            "INFO:gym-duckietown:Pos: [0.7760828  0.         4.25199466] angle 1.4557420826152192\n",
            "INFO:gym-duckietown:Pos: [0.77747885 0.         4.24004624] angle 1.4532258217894674\n",
            "INFO:gym-duckietown:Pos: [0.77794297 0.         4.23613725] angle 1.4520111198615624\n",
            "INFO:gym-duckietown:Pos: [0.77733462 0.         4.24127561] angle 1.4538915959006398\n",
            "INFO:gym-duckietown:Pos: [0.77753231 0.         4.23955346] angle 1.459119331441375\n",
            "INFO:gym-duckietown:Pos: [0.77731717 0.         4.24145551] angle 1.4572094718605058\n",
            "INFO:gym-duckietown:Pos: [0.77690149 0.         4.24505349] angle 1.454337966727106\n",
            "INFO:gym-duckietown:Pos: [0.77713558 0.         4.24305702] angle 1.4538104034025081\n",
            "INFO:gym-duckietown:Pos: [0.77754275 0.         4.23949298] angle 1.4602796552382402\n",
            "INFO:gym-duckietown:Pos: [0.77762782 0.         4.23871142] angle 1.464480904869686\n",
            "INFO:gym-duckietown:Pos: [0.77767495 0.         4.23826703] angle 1.4657860946456291\n",
            "INFO:gym-duckietown:Pos: [0.77803853 0.         4.23489932] angle 1.460721500960742\n",
            "INFO:gym-duckietown:Pos: [0.77729837 0.         4.24179387] angle 1.4669812451774973\n",
            "INFO:gym-duckietown:Pos: [0.77761424 0.         4.2387847 ] angle 1.465438707376993\n",
            "INFO:gym-duckietown:Pos: [0.77750228 0.         4.23988785] angle 1.473868637549897\n",
            "INFO:gym-duckietown:Pos: [0.7777615  0.         4.23723709] angle 1.4727636858154731\n",
            "INFO:gym-duckietown:Pos: [0.77739877 0.         4.24102039] angle 1.4776630026097461\n",
            "INFO:gym-duckietown:Pos: [0.77729692 0.         4.24212801] angle 1.4805399393951595\n",
            "INFO:gym-duckietown:Pos: [0.77734286 0.         4.2416165 ] angle 1.4819324594169185\n",
            "INFO:gym-duckietown:Pos: [0.77700342 0.         4.24545337] angle 1.483186421635194\n",
            "INFO:gym-duckietown:Pos: [0.77697478 0.         4.24578188] angle 1.4844873924526225\n",
            "INFO:gym-duckietown:Pos: [0.77618436 0.         4.2546961 ] angle 1.4802278182947912\n",
            "INFO:gym-duckietown:Pos: [0.77648398 0.         4.25129901] angle 1.4854206567252515\n",
            "INFO:gym-duckietown:Pos: [0.77614765 0.         4.2551382 ] angle 1.4814066695318229\n",
            "INFO:gym-duckietown:Pos: [0.77613305 0.         4.25530068] angle 1.4809977232077256\n",
            "INFO:gym-duckietown:Pos: [0.77592532 0.         4.25761256] angle 1.481365364063153\n",
            "INFO:gym-duckietown:Pos: [0.77594382 0.         4.25739878] angle 1.487502808379147\n",
            "INFO:gym-duckietown:Pos: [0.77515117 0.         4.26666894] angle 1.4834919794821475\n",
            "INFO:gym-duckietown:Pos: [0.77565818 0.         4.26076076] angle 1.4868885799461693\n",
            "INFO:gym-duckietown:Pos: [0.77539662 0.         4.26377783] angle 1.4817493554979864\n",
            "INFO:gym-duckietown:Pos: [0.77547474 0.         4.2629014 ] angle 1.4820534518648745\n",
            "INFO:gym-duckietown:Pos: [0.77505603 0.         4.26753604] angle 1.4793405937681547\n",
            "INFO:gym-duckietown:Pos: [0.77488996 0.         4.26932089] angle 1.4767039830701434\n",
            "INFO:gym-duckietown:Pos: [0.77519592 0.         4.26616903] angle 1.4713493075465867\n",
            "INFO:gym-duckietown:Pos: [0.77545394 0.         4.26366434] angle 1.46493587276022\n",
            "INFO:gym-duckietown:Pos: [0.7744411  0.         4.27339885] angle 1.469308814105481\n",
            "INFO:gym-duckietown:Pos: [0.77408018 0.         4.27692203] angle 1.468114630604479\n",
            "INFO:gym-duckietown:Pos: [0.77399584 0.         4.27775978] angle 1.4728011645094043\n",
            "INFO:gym-duckietown:Pos: [0.77418624 0.         4.27584973] angle 1.4700744547194822\n",
            "INFO:gym-duckietown:Pos: [0.77364041 0.         4.28103538] angle 1.4617740976579534\n",
            "INFO:gym-duckietown:Pos: [0.77402837 0.         4.27742906] angle 1.465490022057685\n",
            "INFO:gym-duckietown:Pos: [0.77332228 0.         4.28410215] angle 1.4652657571302978\n",
            "INFO:gym-duckietown:Pos: [0.77234511 0.         4.29360649] angle 1.4714198763073156\n",
            "INFO:gym-duckietown:Pos: [0.77314683 0.         4.28533976] angle 1.476815275076499\n",
            "INFO:gym-duckietown:Pos: [0.77319924 0.         4.28477309] angle 1.4803216179241687\n",
            "INFO:gym-duckietown:Pos: [0.77299759 0.         4.28704155] angle 1.483953973293614\n",
            "INFO:gym-duckietown:Pos: [0.77298009 0.         4.28724391] angle 1.4851610412834007\n",
            "INFO:gym-duckietown:Pos: [0.77331615 0.         4.28318079] angle 1.4913879807308938\n",
            "INFO:gym-duckietown:Pos: [0.77337795 0.         4.28239452] angle 1.4933454990361181\n",
            "INFO:gym-duckietown:Pos: [0.77310864 0.         4.28566332] angle 1.48384605771666\n",
            "INFO:gym-duckietown:Pos: [0.77259449 0.         4.2916292 ] angle 1.485805483009529\n",
            "INFO:gym-duckietown:Pos: [0.77285167 0.         4.28862224] angle 1.485143982872805\n",
            "INFO:gym-duckietown:Pos: [0.77275319 0.         4.28976299] angle 1.4842226093311106\n",
            "INFO:gym-duckietown:Pos: [0.77293265 0.         4.28770919] angle 1.4830526711092764\n",
            "INFO:gym-duckietown:Pos: [0.77271226 0.         4.29007631] angle 1.472864493468249\n",
            "INFO:gym-duckietown:Pos: [0.77316882 0.         4.28522958] angle 1.4808860936430364\n",
            "INFO:gym-duckietown:Pos: [0.77332208 0.         4.28359083] angle 1.4742019249245015\n",
            "INFO:gym-duckietown:Pos: [0.77329261 0.         4.28388545] angle 1.4680542917269401\n",
            "INFO:gym-duckietown:Pos: [0.77354826 0.         4.28134039] angle 1.4733153127755414\n",
            "INFO:gym-duckietown:Pos: [0.77429575 0.         4.27376325] angle 1.47161232438761\n",
            "INFO:gym-duckietown:Pos: [0.77506579 0.         4.26653434] angle 1.4577353495411391\n",
            "INFO:gym-duckietown:Pos: [0.77680771 0.         4.25071727] angle 1.4644831097373743\n",
            "INFO:gym-duckietown:Pos: [0.77726011 0.         4.24651587] angle 1.4625798477297962\n",
            "INFO:gym-duckietown:Pos: [0.7768696  0.         4.25014326] angle 1.4645267040511305\n",
            "INFO:gym-duckietown:Pos: [0.77625609 0.         4.25602716] angle 1.4692772740735767\n",
            "INFO:gym-duckietown:Pos: [0.77574257 0.         4.26100246] angle 1.4666164959343988\n",
            "INFO:gym-duckietown:Pos: [0.77508514 0.         4.26720099] angle 1.463642325514383\n",
            "INFO:gym-duckietown:Pos: [0.775376   0.         4.26450151] angle 1.4632871071527354\n",
            "INFO:gym-duckietown:Pos: [0.77451361 0.         4.27250289] angle 1.4635746800608884\n",
            "INFO:gym-duckietown:Pos: [0.77467302 0.         4.27101512] angle 1.4645347803945896\n",
            "INFO:gym-duckietown:Pos: [0.77442372 0.         4.27333885] angle 1.463301266314721\n",
            "INFO:gym-duckietown:Pos: [0.77384976 0.         4.27861553] angle 1.4615980811190001\n",
            "INFO:gym-duckietown:Pos: [0.77342925 0.         4.28246787] angle 1.4625426464801787\n",
            "INFO:gym-duckietown:Pos: [0.77332049 0.         4.28348325] angle 1.4656409436076498\n",
            "INFO:gym-duckietown:Pos: [0.77299591 0.         4.28646774] angle 1.4592921332795499\n",
            "INFO:gym-duckietown:Pos: [0.77264789 0.         4.28949762] angle 1.4535757076839786\n",
            "INFO:gym-duckietown:Pos: [0.77275257 0.         4.28858829] angle 1.45878804188711\n",
            "INFO:gym-duckietown:Pos: [0.77216012 0.         4.29385296] angle 1.458680525772262\n",
            "INFO:gym-duckietown:Pos: [0.77189228 0.         4.29622274] angle 1.457826109052045\n",
            "INFO:gym-duckietown:Pos: [0.77151019 0.         4.29952268] angle 1.453217667922569\n",
            "INFO:gym-duckietown:Pos: [0.77186463 0.         4.2964642 ] angle 1.4576292089331122\n",
            "INFO:gym-duckietown:Pos: [0.77252399 0.         4.2907522 ] angle 1.4541139635701312\n",
            "INFO:gym-duckietown:Pos: [0.77240951 0.         4.29171456] angle 1.4506881959834652\n",
            "INFO:gym-duckietown:Pos: [0.77237082 0.         4.29204189] angle 1.4555876811230255\n",
            "INFO:gym-duckietown:Pos: [0.77128481 0.         4.30188347] angle 1.4661967733533703\n",
            "INFO:gym-duckietown:Pos: [0.77181682 0.         4.29687614] angle 1.463698531547662\n",
            "INFO:gym-duckietown:Pos: [0.77133327 0.         4.30146298] angle 1.4678283368276397\n",
            "INFO:gym-duckietown:Pos: [0.77220051 0.         4.29320068] angle 1.4646034249534998\n",
            "INFO:gym-duckietown:Pos: [0.77063855 0.         4.30790453] angle 1.4653264275243965\n",
            "INFO:gym-duckietown:Pos: [0.77072184 0.         4.30708864] angle 1.4727995330678498\n",
            "INFO:gym-duckietown:Pos: [0.77090682 0.         4.30509369] angle 1.4838681239331284\n",
            "INFO:gym-duckietown:Pos: [0.77045904 0.         4.31020289] angle 1.4828864025976691\n",
            "INFO:gym-duckietown:Pos: [0.76959407 0.         4.3195014 ] angle 1.4731952205084506\n",
            "INFO:gym-duckietown:Pos: [0.76957662 0.         4.31968221] angle 1.4759416355481179\n",
            "INFO:gym-duckietown:Pos: [0.7695364  0.         4.32010772] angle 1.477198702608855\n",
            "INFO:gym-duckietown:Pos: [0.76932581 0.         4.32234634] angle 1.4768002655430263\n",
            "INFO:gym-duckietown:Pos: [0.76983482 0.         4.31678568] angle 1.4822254541388646\n",
            "INFO:gym-duckietown:Pos: [0.76958019 0.         4.31964153] angle 1.4815150838859252\n",
            "Episodes:  10%|█         | 1/10 [01:04, reward=-277.07, ts/ep=100, sec/ep=64.19, ms/ts=641.9, agent=94.7%]DEBUG:gym-duckietown:[4.36102973 0.         1.74139665] corresponds to tile at (7, 2) which is not drivable: {'coords': (7, 2), 'kind': 'grass', 'angle': 0, 'drivable': False, 'texture': <gym_duckietown.graphics.Texture object at 0x7f3e5bc51160>, 'color': array([0.97799043, 0.80326942, 1.11423048])}\n",
            "DEBUG:gym-duckietown:Invalid pose. Collision free: True On drivable area: False\n",
            "DEBUG:gym-duckietown:safety_factor: 1.3\n",
            "DEBUG:gym-duckietown:pos: [4.38409585 0.         1.83612893]\n",
            "DEBUG:gym-duckietown:l_pos: [4.36102973 0.         1.74139665]\n",
            "DEBUG:gym-duckietown:r_pos: [4.40716198 0.         1.9308612 ]\n",
            "DEBUG:gym-duckietown:f_pos: [4.49777458 0.         1.80844958]\n",
            "INFO:gym-duckietown:Starting at [4.2149298  0.         1.90538015] 4.104135858883091\n",
            "INFO:gym-duckietown:Pos: [4.2149298  0.         1.90538015] angle 4.104135858883091\n",
            "INFO:gym-duckietown:Pos: [4.21311765 0.         1.90799925] angle 4.11011304681617\n",
            "INFO:gym-duckietown:Pos: [4.2158771  0.         1.90398905] angle 4.109266095949112\n",
            "INFO:gym-duckietown:Pos: [4.21163071 0.         1.91017598] angle 4.112500664247766\n",
            "INFO:gym-duckietown:Pos: [4.2141591  0.         1.90648943] angle 4.109954089989451\n",
            "INFO:gym-duckietown:Pos: [4.21525757 0.         1.90489772] angle 4.10669703006622\n",
            "INFO:gym-duckietown:Pos: [4.22014016 0.         1.89785745] angle 4.1053497675055235\n",
            "INFO:gym-duckietown:Pos: [4.21829656 0.         1.90051171] angle 4.105266268644416\n",
            "INFO:gym-duckietown:Pos: [4.2180775  0.         1.90082767] angle 4.10709269213571\n",
            "INFO:gym-duckietown:Pos: [4.22008899 0.         1.89789879] angle 4.11409258706026\n",
            "INFO:gym-duckietown:Pos: [4.21952429 0.         1.89872813] angle 4.115087614268377\n",
            "INFO:gym-duckietown:Pos: [4.22373241 0.         1.89258142] angle 4.109041596368785\n",
            "INFO:gym-duckietown:Pos: [4.22506929 0.         1.89061469] angle 4.12172705590028\n",
            "INFO:gym-duckietown:Pos: [4.2222268  0.         1.89484208] angle 4.1191298534455845\n",
            "INFO:gym-duckietown:Pos: [4.22395679 0.         1.89227812] angle 4.118514715817892\n",
            "INFO:gym-duckietown:Pos: [4.22280125 0.         1.89398212] angle 4.114472727423097\n",
            "INFO:gym-duckietown:Pos: [4.22112917 0.         1.89645472] angle 4.1210937558987215\n",
            "INFO:gym-duckietown:Pos: [4.22390858 0.         1.89230193] angle 4.1240524638908855\n",
            "INFO:gym-duckietown:Pos: [4.22521861 0.         1.89032066] angle 4.132297566211018\n",
            "INFO:gym-duckietown:Pos: [4.22295929 0.         1.89375436] angle 4.1285448057798275\n",
            "INFO:gym-duckietown:Pos: [4.22097837 0.         1.89675514] angle 4.129297473133277\n",
            "INFO:gym-duckietown:Pos: [4.22000073 0.         1.89824835] angle 4.136102965002803\n",
            "INFO:gym-duckietown:Pos: [4.21941165 0.         1.89916002] angle 4.141340892549039\n",
            "INFO:gym-duckietown:Pos: [4.22134551 0.         1.8961424 ] angle 4.14359768503982\n",
            "INFO:gym-duckietown:Pos: [4.22230205 0.         1.89465249] angle 4.1396983475819376\n",
            "INFO:gym-duckietown:Pos: [4.22606722 0.         1.88876409] angle 4.1472743853347405\n",
            "INFO:gym-duckietown:Pos: [4.22908101 0.         1.88402148] angle 4.145315837172883\n",
            "INFO:gym-duckietown:Pos: [4.23367869 0.         1.87682947] angle 4.141862863599393\n",
            "INFO:gym-duckietown:Pos: [4.23028716 0.         1.88215158] angle 4.148190281233183\n",
            "INFO:gym-duckietown:Pos: [4.22822187 0.         1.88542696] angle 4.151428573607273\n",
            "INFO:gym-duckietown:Pos: [4.23056862 0.         1.88170839] angle 4.147419889116839\n",
            "INFO:gym-duckietown:Pos: [4.23181941 0.         1.87975906] angle 4.136391526874436\n",
            "INFO:gym-duckietown:Pos: [4.23738829 0.         1.87112647] angle 4.142540443661424\n",
            "INFO:gym-duckietown:Pos: [4.23948276 0.         1.86784621] angle 4.145732269265213\n",
            "INFO:gym-duckietown:Pos: [4.23423244 0.         1.87607568] angle 4.143273538619064\n",
            "INFO:gym-duckietown:Pos: [4.23412043 0.         1.8762501 ] angle 4.139774952844545\n",
            "INFO:gym-duckietown:Pos: [4.2354248  0.         1.87422882] angle 4.138845853729359\n",
            "INFO:gym-duckietown:Pos: [4.23487911 0.         1.8750759 ] angle 4.141362977107768\n",
            "INFO:gym-duckietown:Pos: [4.23745146 0.         1.87103985] angle 4.148564483736671\n",
            "INFO:gym-duckietown:Pos: [4.24178725 0.         1.86420476] angle 4.1456333479257195\n",
            "INFO:gym-duckietown:Pos: [4.24381381 0.         1.8610375 ] angle 4.140738144657217\n",
            "INFO:gym-duckietown:Pos: [4.24571103 0.         1.85809441] angle 4.138848854440716\n",
            "INFO:gym-duckietown:Pos: [4.24587083 0.         1.85784772] angle 4.136330268540931\n",
            "INFO:gym-duckietown:Pos: [4.24932522 0.         1.85251195] angle 4.1393516506157555\n",
            "INFO:gym-duckietown:Pos: [4.25102027 0.         1.8498929 ] angle 4.13661777695288\n",
            "INFO:gym-duckietown:Pos: [4.25422444 0.         1.84496825] angle 4.134511967796519\n",
            "INFO:gym-duckietown:Pos: [4.25767339 0.         1.83969419] angle 4.131978009195184\n",
            "INFO:gym-duckietown:Pos: [4.25662362 0.         1.84130994] angle 4.140456686609599\n",
            "INFO:gym-duckietown:Pos: [4.25881226 0.         1.83788602] angle 4.1468003952077375\n",
            "INFO:gym-duckietown:Pos: [4.25931961 0.         1.83708997] angle 4.143151673899548\n",
            "INFO:gym-duckietown:Pos: [4.2607645 0.        1.8348403] angle 4.139785203423792\n",
            "INFO:gym-duckietown:Pos: [4.26042584 0.         1.83536734] angle 4.142713635991246\n",
            "INFO:gym-duckietown:Pos: [4.25878351 0.         1.83793676] angle 4.144602167612643\n",
            "INFO:gym-duckietown:Pos: [4.25910609 0.         1.83743317] angle 4.140777110690437\n",
            "INFO:gym-duckietown:Pos: [4.25944739 0.         1.83690174] angle 4.142188390277952\n",
            "INFO:gym-duckietown:Pos: [4.25998188 0.         1.83607203] angle 4.138039376280051\n",
            "INFO:gym-duckietown:Pos: [4.26133498 0.         1.83398187] angle 4.1376939008151234\n",
            "INFO:gym-duckietown:Pos: [4.26050299 0.         1.8352579 ] angle 4.131499228820388\n",
            "INFO:gym-duckietown:Pos: [4.26230316 0.         1.83247667] angle 4.144389036621687\n",
            "INFO:gym-duckietown:Pos: [4.25927907 0.         1.83720768] angle 4.142889964706576\n",
            "INFO:gym-duckietown:Pos: [4.26084308 0.         1.83475707] angle 4.145802772401653\n",
            "INFO:gym-duckietown:Pos: [4.25697636 0.         1.84088665] angle 4.153414548644063\n",
            "INFO:gym-duckietown:Pos: [4.25599849 0.         1.84245517] angle 4.15641862343495\n",
            "INFO:gym-duckietown:Pos: [4.25881754 0.         1.83788436] angle 4.163068722538395\n",
            "INFO:gym-duckietown:Pos: [4.25971494 0.         1.83642911] angle 4.1565397404063535\n",
            "INFO:gym-duckietown:Pos: [4.25724074 0.         1.84044705] angle 4.164341622560168\n",
            "INFO:gym-duckietown:Pos: [4.25962882 0.         1.8365513 ] angle 4.160593793431029\n",
            "INFO:gym-duckietown:Pos: [4.26153294 0.         1.83345861] angle 4.160437532450161\n",
            "INFO:gym-duckietown:Pos: [4.26016303 0.         1.83568333] angle 4.160470481172542\n",
            "INFO:gym-duckietown:Pos: [4.2594558 0.        1.8368388] angle 4.1658077043228205\n",
            "INFO:gym-duckietown:Pos: [4.25800632 0.         1.83921942] angle 4.165148965786401\n",
            "INFO:gym-duckietown:Pos: [4.25821531 0.         1.83887223] angle 4.1759617467895485\n",
            "INFO:gym-duckietown:Pos: [4.25710571 0.         1.84074688] angle 4.179934716740529\n",
            "INFO:gym-duckietown:Pos: [4.25981263 0.         1.83612525] angle 4.185155990599066\n",
            "INFO:gym-duckietown:Pos: [4.25778655 0.         1.83960171] angle 4.1842704760787335\n",
            "INFO:gym-duckietown:Pos: [4.2560149  0.         1.84266549] angle 4.191953489104609\n",
            "INFO:gym-duckietown:Pos: [4.25551993 0.         1.84352212] angle 4.184924913002574\n",
            "INFO:gym-duckietown:Pos: [4.25324849 0.         1.84743312] angle 4.187518508355775\n",
            "INFO:gym-duckietown:Pos: [4.25472177 0.         1.84488729] angle 4.1880395425298955\n",
            "INFO:gym-duckietown:Pos: [4.25326746 0.         1.84740259] angle 4.188292363308644\n",
            "INFO:gym-duckietown:Pos: [4.25116897 0.         1.85100762] angle 4.182175510571654\n",
            "INFO:gym-duckietown:Pos: [4.25523714 0.         1.84403801] angle 4.185903476692423\n",
            "INFO:gym-duckietown:Pos: [4.25581918 0.         1.84304107] angle 4.181998660897081\n",
            "INFO:gym-duckietown:Pos: [4.25534028 0.         1.84386416] angle 4.188886907838753\n",
            "INFO:gym-duckietown:Pos: [4.2515728 0.        1.8503875] angle 4.188410680238008\n",
            "INFO:gym-duckietown:Pos: [4.25239805 0.         1.84895758] angle 4.189501926236329\n",
            "INFO:gym-duckietown:Pos: [4.25545038 0.         1.84362481] angle 4.195562907081571\n",
            "INFO:gym-duckietown:Pos: [4.25620462 0.         1.84229504] angle 4.197308798005615\n",
            "INFO:gym-duckietown:Pos: [4.25452732 0.         1.84522952] angle 4.18894321460803\n",
            "INFO:gym-duckietown:Pos: [4.25512116 0.         1.84419537] angle 4.19333018727265\n",
            "INFO:gym-duckietown:Pos: [4.25403761 0.         1.84608772] angle 4.191396210580649\n",
            "INFO:gym-duckietown:Pos: [4.2553657  0.         1.84375714] angle 4.1974646222215775\n",
            "INFO:gym-duckietown:Pos: [4.25713761 0.         1.84063838] angle 4.193977373547615\n",
            "INFO:gym-duckietown:Pos: [4.25694994 0.         1.8409693 ] angle 4.199033182732444\n",
            "INFO:gym-duckietown:Pos: [4.25797208 0.         1.83914485] angle 4.204390485136688\n",
            "INFO:gym-duckietown:Pos: [4.25935926 0.         1.83664652] angle 4.206672564651572\n",
            "INFO:gym-duckietown:Pos: [4.25708096 0.         1.8407385 ] angle 4.202050438959318\n",
            "INFO:gym-duckietown:Pos: [4.26373325 0.         1.82886352] angle 4.201455318063539\n",
            "INFO:gym-duckietown:Pos: [4.2626204  0.         1.83085962] angle 4.206137087970389\n",
            "INFO:gym-duckietown:Pos: [4.26624447 0.         1.82433807] angle 4.204213151426026\n",
            "INFO:gym-duckietown:Pos: [4.26872761 0.         1.81987039] angle 4.205990501398345\n",
            "Episodes:  20%|██        | 2/10 [02:02, reward=-90.31, ts/ep=100, sec/ep=58.80, ms/ts=588.0, agent=94.8%] DEBUG:gym-duckietown:[6.0062413  0.         0.55752867] corresponds to tile at (10, 0) which is not drivable: {'coords': (10, 0), 'kind': 'grass', 'angle': 0, 'drivable': False, 'texture': <gym_duckietown.graphics.Texture object at 0x7f3e5c152a58>, 'color': array([1.18948371, 1.01795773, 0.97361301])}\n",
            "DEBUG:gym-duckietown:Invalid pose. Collision free: True On drivable area: False\n",
            "DEBUG:gym-duckietown:safety_factor: 1.3\n",
            "DEBUG:gym-duckietown:pos: [5.95336058 0.         0.66189643]\n",
            "DEBUG:gym-duckietown:l_pos: [5.86638744 0.         0.61782917]\n",
            "DEBUG:gym-duckietown:r_pos: [6.04033371 0.         0.7059637 ]\n",
            "DEBUG:gym-duckietown:f_pos: [6.0062413  0.         0.55752867]\n",
            "INFO:gym-duckietown:Starting at [6.16940122 0.         1.10098516] 1.8878035261721862\n",
            "INFO:gym-duckietown:Pos: [6.16940122 0.         1.10098516] angle 1.8878035261721862\n",
            "INFO:gym-duckietown:Pos: [6.1717971  0.         1.10830649] angle 1.8863168477676968\n",
            "INFO:gym-duckietown:Pos: [6.17149035 0.         1.10735935] angle 1.8816991212675453\n",
            "INFO:gym-duckietown:Pos: [6.17239086 0.         1.11015566] angle 1.8829883380261154\n",
            "INFO:gym-duckietown:Pos: [6.17059338 0.         1.10461436] angle 1.8859453958873609\n",
            "INFO:gym-duckietown:Pos: [6.16914896 0.         1.10016364] angle 1.8832690386934925\n",
            "INFO:gym-duckietown:Pos: [6.17002734 0.         1.10289913] angle 1.879732847011541\n",
            "INFO:gym-duckietown:Pos: [6.16809487 0.         1.0967621 ] angle 1.8719760473785318\n",
            "INFO:gym-duckietown:Pos: [6.16671441 0.         1.09231736] angle 1.8718919843925843\n",
            "INFO:gym-duckietown:Pos: [6.16706635 0.         1.09345014] angle 1.8721645081865976\n",
            "INFO:gym-duckietown:Pos: [6.16566399 0.         1.08900671] angle 1.8808487070812716\n",
            "INFO:gym-duckietown:Pos: [6.16494415 0.         1.08677091] angle 1.8837017402243188\n",
            "INFO:gym-duckietown:Pos: [6.16237677 0.         1.0787427 ] angle 1.8769250461591156\n",
            "INFO:gym-duckietown:Pos: [6.16480988 0.         1.0864861 ] angle 1.8735641151110678\n",
            "INFO:gym-duckietown:Pos: [6.16629924 0.         1.09123928] angle 1.8753315236867474\n",
            "INFO:gym-duckietown:Pos: [6.16513835 0.         1.08752776] angle 1.8725416250593994\n",
            "INFO:gym-duckietown:Pos: [6.16462674 0.         1.08590418] angle 1.8795842623317114\n",
            "INFO:gym-duckietown:Pos: [6.16751532 0.         1.09489146] angle 1.8839678281736643\n",
            "INFO:gym-duckietown:Pos: [6.16535679 0.         1.08820813] angle 1.8824181915821476\n",
            "INFO:gym-duckietown:Pos: [6.16643996 0.         1.09152834] angle 1.8898742119880216\n",
            "INFO:gym-duckietown:Pos: [6.1664963  0.         1.09169855] angle 1.8909368830225848\n",
            "INFO:gym-duckietown:Pos: [6.166621   0.         1.09207776] angle 1.8860794345689949\n",
            "INFO:gym-duckietown:Pos: [6.16820134 0.         1.09693889] angle 1.884152131986647\n",
            "INFO:gym-duckietown:Pos: [6.16794713 0.         1.09615881] angle 1.887489322183957\n",
            "INFO:gym-duckietown:Pos: [6.16702597 0.         1.09337726] angle 1.8937053834019646\n",
            "INFO:gym-duckietown:Pos: [6.16902807 0.         1.09935126] angle 1.8946305183327408\n",
            "INFO:gym-duckietown:Pos: [6.17270756 0.         1.11045126] angle 1.8871369308950474\n",
            "INFO:gym-duckietown:Pos: [6.17522794 0.         1.11823021] angle 1.8811095295544926\n",
            "INFO:gym-duckietown:Pos: [6.1744247  0.         1.11572733] angle 1.8815721887854173\n",
            "INFO:gym-duckietown:Pos: [6.17380921 0.         1.11381028] angle 1.881351149557656\n",
            "INFO:gym-duckietown:Pos: [6.17672074 0.         1.12291348] angle 1.8793500959463019\n",
            "INFO:gym-duckietown:Pos: [6.17529055 0.         1.1184124 ] angle 1.8775530589471807\n",
            "INFO:gym-duckietown:Pos: [6.17557482 0.         1.11931412] angle 1.8748248198184227\n",
            "INFO:gym-duckietown:Pos: [6.17522586 0.         1.11819023] angle 1.8688833301109238\n",
            "INFO:gym-duckietown:Pos: [6.17784867 0.         1.12668354] angle 1.8717475504057361\n",
            "INFO:gym-duckietown:Pos: [6.17490507 0.         1.11714054] angle 1.8682396591285277\n",
            "INFO:gym-duckietown:Pos: [6.17336611 0.         1.11209873] angle 1.865866795165507\n",
            "INFO:gym-duckietown:Pos: [6.17242195 0.         1.1089897 ] angle 1.8653910986767885\n",
            "INFO:gym-duckietown:Pos: [6.17188102 0.         1.1071964 ] angle 1.8621198609564438\n",
            "INFO:gym-duckietown:Pos: [6.17324411 0.         1.11165054] angle 1.873426778765451\n",
            "INFO:gym-duckietown:Pos: [6.1777606  0.         1.12603758] angle 1.8765361183024507\n",
            "INFO:gym-duckietown:Pos: [6.17744326 0.         1.1250333 ] angle 1.8771638447299759\n",
            "INFO:gym-duckietown:Pos: [6.17976309 0.         1.13224492] angle 1.8868798586168138\n",
            "INFO:gym-duckietown:Pos: [6.17850648 0.         1.12840866] angle 1.8878072109327053\n",
            "INFO:gym-duckietown:Pos: [6.17880798 0.         1.12932533] angle 1.889310774022396\n",
            "INFO:gym-duckietown:Pos: [6.18060215 0.         1.13478644] angle 1.887133723049567\n",
            "INFO:gym-duckietown:Pos: [6.18025919 0.         1.13375318] angle 1.8954068387196954\n",
            "INFO:gym-duckietown:Pos: [6.18030753 0.         1.13389654] angle 1.8965369421945606\n",
            "INFO:gym-duckietown:Pos: [6.17979355 0.         1.13237534] angle 1.8967178385774446\n",
            "INFO:gym-duckietown:Pos: [6.18079273 0.         1.13531285] angle 1.9006108656903355\n",
            "INFO:gym-duckietown:Pos: [6.18053988 0.         1.13459055] angle 1.9144539312836186\n",
            "INFO:gym-duckietown:Pos: [6.18288297 0.         1.14106541] angle 1.9215700413813337\n",
            "INFO:gym-duckietown:Pos: [6.18246414 0.         1.13992178] angle 1.9221418281017288\n",
            "INFO:gym-duckietown:Pos: [6.18328236 0.         1.14214974] angle 1.9233696277268568\n",
            "INFO:gym-duckietown:Pos: [6.18318492 0.         1.14188648] angle 1.9272291239295767\n",
            "INFO:gym-duckietown:Pos: [6.18161617 0.         1.13769089] angle 1.9299838354415209\n",
            "INFO:gym-duckietown:Pos: [6.18091955 0.         1.13583572] angle 1.9300268530262343\n",
            "INFO:gym-duckietown:Pos: [6.18019279 0.         1.13389424] angle 1.927938243378117\n",
            "INFO:gym-duckietown:Pos: [6.17866057 0.         1.12979799] angle 1.9295371417923572\n",
            "INFO:gym-duckietown:Pos: [6.18157953 0.         1.13745587] angle 1.9403939570631816\n",
            "INFO:gym-duckietown:Pos: [6.1817659  0.         1.13793542] angle 1.942549395277965\n",
            "INFO:gym-duckietown:Pos: [6.1807553  0.         1.13535668] angle 1.946045977570015\n",
            "INFO:gym-duckietown:Pos: [6.18169939 0.         1.13773261] angle 1.9519951625662086\n",
            "INFO:gym-duckietown:Pos: [6.17974877 0.         1.13281192] angle 1.9444160036570706\n",
            "INFO:gym-duckietown:Pos: [6.18183201 0.         1.13814361] angle 1.9421516925533697\n",
            "INFO:gym-duckietown:Pos: [6.18147293 0.         1.13722507] angle 1.9447450879748487\n",
            "INFO:gym-duckietown:Pos: [6.1801304  0.         1.13381284] angle 1.9465387631012294\n",
            "INFO:gym-duckietown:Pos: [6.1786893 0.        1.1301785] angle 1.9500610602226733\n",
            "INFO:gym-duckietown:Pos: [6.17925798 0.         1.1316103 ] angle 1.9476652566977715\n",
            "INFO:gym-duckietown:Pos: [6.17980841 0.         1.13299259] angle 1.9518418296869449\n",
            "INFO:gym-duckietown:Pos: [6.18107289 0.         1.13610707] angle 1.9610909301099317\n",
            "INFO:gym-duckietown:Pos: [6.1828989  0.         1.14054078] angle 1.9618521494039702\n",
            "INFO:gym-duckietown:Pos: [6.18447018 0.         1.14431399] angle 1.9689210242438258\n",
            "INFO:gym-duckietown:Pos: [6.18456327 0.         1.14453491] angle 1.9703050796215724\n",
            "INFO:gym-duckietown:Pos: [6.18593086 0.         1.1477707 ] angle 1.9710348414293015\n",
            "INFO:gym-duckietown:Pos: [6.18705062 0.         1.15040255] angle 1.9750892898050745\n",
            "INFO:gym-duckietown:Pos: [6.19118823 0.         1.15999745] angle 1.9807745114735782\n",
            "INFO:gym-duckietown:Pos: [6.19371903 0.         1.16577003] angle 1.9871772762926703\n",
            "INFO:gym-duckietown:Pos: [6.18982576 0.         1.15693698] angle 1.9847048885049339\n",
            "INFO:gym-duckietown:Pos: [6.19209235 0.         1.16206398] angle 1.9893998545996772\n",
            "INFO:gym-duckietown:Pos: [6.19465943 0.         1.16785909] angle 1.9861847039753648\n",
            "INFO:gym-duckietown:Pos: [6.19434994 0.         1.16715334] angle 1.9819565746345584\n",
            "INFO:gym-duckietown:Pos: [6.19697914 0.         1.17318542] angle 1.9817174320405582\n",
            "INFO:gym-duckietown:Pos: [6.19624992 0.         1.17151685] angle 1.983911756107612\n",
            "INFO:gym-duckietown:Pos: [6.1985514  0.         1.17676467] angle 1.9842787939571627\n",
            "INFO:gym-duckietown:Pos: [6.1979837  0.         1.17546671] angle 1.9819342114817342\n",
            "INFO:gym-duckietown:Pos: [6.1988575  0.         1.17748324] angle 1.977453389616991\n",
            "INFO:gym-duckietown:Pos: [6.19944725 0.         1.17884878] angle 1.9795034862021956\n",
            "INFO:gym-duckietown:Pos: [6.19906658 0.         1.17796966] angle 1.9793617012998244\n",
            "INFO:gym-duckietown:Pos: [6.19839289 0.         1.17641531] angle 1.9801937360802297\n",
            "INFO:gym-duckietown:Pos: [6.19901815 0.         1.1778528 ] angle 1.9819571352612446\n",
            "INFO:gym-duckietown:Pos: [6.19779755 0.         1.17506692] angle 1.9855274635492974\n",
            "INFO:gym-duckietown:Pos: [6.19241508 0.         1.16268141] angle 1.9759750840584365\n",
            "INFO:gym-duckietown:Pos: [6.1912783  0.         1.16002345] angle 1.973909508905058\n",
            "INFO:gym-duckietown:Pos: [6.18977416 0.         1.15645669] angle 1.9658458821103073\n",
            "INFO:gym-duckietown:Pos: [6.18929901 0.         1.15531293] angle 1.9632230826679191\n",
            "INFO:gym-duckietown:Pos: [6.18683147 0.         1.14934902] angle 1.9629681227976306\n",
            "INFO:gym-duckietown:Pos: [6.18717111 0.         1.15017277] angle 1.9607731812331213\n",
            "INFO:gym-duckietown:Pos: [6.18837568 0.         1.15309208] angle 1.9635015991202769\n",
            "INFO:gym-duckietown:Pos: [6.18695154 0.         1.1496558 ] angle 1.9638803341904578\n",
            "INFO:gym-duckietown:Pos: [6.18676426 0.         1.1492082 ] angle 1.9702934454761902\n",
            "Episodes:  30%|███       | 3/10 [03:01, reward=42.89, ts/ep=100, sec/ep=58.35, ms/ts=583.5, agent=95.4%] INFO:gym-duckietown:Starting at [6.05972951 0.         1.66297522] 4.3786243036986034\n",
            "INFO:gym-duckietown:Pos: [6.05972951 0.         1.66297522] angle 4.3786243036986034\n",
            "INFO:gym-duckietown:Pos: [6.0593943  0.         1.66393721] angle 4.3755536266526525\n",
            "INFO:gym-duckietown:Pos: [6.05847414 0.         1.66658122] angle 4.379414300231072\n",
            "INFO:gym-duckietown:Pos: [6.05934789 0.         1.66405179] angle 4.380164002451292\n",
            "INFO:gym-duckietown:Pos: [6.06138818 0.         1.65817113] angle 4.376705875082288\n",
            "INFO:gym-duckietown:Pos: [6.06100047 0.         1.65928314] angle 4.377113093827957\n",
            "INFO:gym-duckietown:Pos: [6.06250496 0.         1.65497434] angle 4.375800522197947\n",
            "INFO:gym-duckietown:Pos: [6.06302788 0.         1.65348979] angle 4.371630178678607\n",
            "INFO:gym-duckietown:Pos: [6.06437491 0.         1.64971068] angle 4.368346344565536\n",
            "INFO:gym-duckietown:Pos: [6.06432415 0.         1.64985164] angle 4.3651526737585575\n",
            "INFO:gym-duckietown:Pos: [6.06341227 0.         1.65236682] angle 4.36400482269873\n",
            "INFO:gym-duckietown:Pos: [6.06271785 0.         1.65429521] angle 4.369469498156869\n",
            "INFO:gym-duckietown:Pos: [6.06217716 0.         1.65581648] angle 4.372317038904758\n",
            "INFO:gym-duckietown:Pos: [6.06176997 0.         1.65695642] angle 4.366315928585714\n",
            "INFO:gym-duckietown:Pos: [6.06151287 0.         1.65766836] angle 4.365360093462093\n",
            "INFO:gym-duckietown:Pos: [6.0625574  0.         1.65477078] angle 4.367450754492989\n",
            "INFO:gym-duckietown:Pos: [6.06491589 0.         1.64815867] angle 4.372077576150996\n",
            "INFO:gym-duckietown:Pos: [6.06486394 0.         1.64830368] angle 4.36465554136112\n",
            "INFO:gym-duckietown:Pos: [6.06772868 0.         1.64037641] angle 4.3665744573977845\n",
            "INFO:gym-duckietown:Pos: [6.07088916 0.         1.63152341] angle 4.372415904881215\n",
            "INFO:gym-duckietown:Pos: [6.07262026 0.         1.62662095] angle 4.3734791255544625\n",
            "INFO:gym-duckietown:Pos: [6.07460091 0.         1.62102857] angle 4.370530078152058\n",
            "INFO:gym-duckietown:Pos: [6.07381941 0.         1.62322259] angle 4.369879902316442\n",
            "INFO:gym-duckietown:Pos: [6.07272749 0.         1.62631512] angle 4.37606333231703\n",
            "INFO:gym-duckietown:Pos: [6.07443647 0.         1.62144206] angle 4.374122704077115\n",
            "INFO:gym-duckietown:Pos: [6.07465905 0.         1.6208096 ] angle 4.373870264830398\n",
            "INFO:gym-duckietown:Pos: [6.0727116 0.        1.6262932] angle 4.368415865029747\n",
            "INFO:gym-duckietown:Pos: [6.07375917 0.         1.62338548] angle 4.364771977834578\n",
            "INFO:gym-duckietown:Pos: [6.07321815 0.         1.62488456] angle 4.367293472983898\n",
            "INFO:gym-duckietown:Pos: [6.07125327 0.         1.63026263] angle 4.356919335932087\n",
            "INFO:gym-duckietown:Pos: [6.07336626 0.         1.62463205] angle 4.34984454644544\n",
            "INFO:gym-duckietown:Pos: [6.07251376 0.         1.62689967] angle 4.355735554781418\n",
            "INFO:gym-duckietown:Pos: [6.0705294  0.         1.63222455] angle 4.355611865891027\n",
            "INFO:gym-duckietown:Pos: [6.07110114 0.         1.63070668] angle 4.348699058586817\n",
            "INFO:gym-duckietown:Pos: [6.07064711 0.         1.63189056] angle 4.343663091931241\n",
            "INFO:gym-duckietown:Pos: [6.07283539 0.         1.62623923] angle 4.34224189533112\n",
            "INFO:gym-duckietown:Pos: [6.07415197 0.         1.62282624] angle 4.346202412243197\n",
            "INFO:gym-duckietown:Pos: [6.07484933 0.         1.62100499] angle 4.347214961071777\n",
            "INFO:gym-duckietown:Pos: [6.07366926 0.         1.62408243] angle 4.345233151235819\n",
            "INFO:gym-duckietown:Pos: [6.07227091 0.         1.62765939] angle 4.334210020540155\n",
            "INFO:gym-duckietown:Pos: [6.07318345 0.         1.6253722 ] angle 4.3313108922013015\n",
            "INFO:gym-duckietown:Pos: [6.07292387 0.         1.62602476] angle 4.336255546637588\n",
            "INFO:gym-duckietown:Pos: [6.07344586 0.         1.62470421] angle 4.335655678274548\n",
            "INFO:gym-duckietown:Pos: [6.07544718 0.         1.61960999] angle 4.340449908386899\n",
            "INFO:gym-duckietown:Pos: [6.07537743 0.         1.61978971] angle 4.343944908580353\n",
            "INFO:gym-duckietown:Pos: [6.07444283 0.         1.62223729] angle 4.351317006257285\n",
            "INFO:gym-duckietown:Pos: [6.07414777 0.         1.62301838] angle 4.351084354849297\n",
            "INFO:gym-duckietown:Pos: [6.07531315 0.         1.61991995] angle 4.354190573577065\n",
            "INFO:gym-duckietown:Pos: [6.07431862 0.         1.62261455] angle 4.363445528945009\n",
            "INFO:gym-duckietown:Pos: [6.07618257 0.         1.61745206] angle 4.368351645847573\n",
            "INFO:gym-duckietown:Pos: [6.07678248 0.         1.61577193] angle 4.370529426432348\n",
            "INFO:gym-duckietown:Pos: [6.07656966 0.         1.61636762] angle 4.367985351667668\n",
            "INFO:gym-duckietown:Pos: [6.0765592  0.         1.61639673] angle 4.366987238013585\n",
            "INFO:gym-duckietown:Pos: [6.07729166 0.         1.6143501 ] angle 4.370418136486921\n",
            "INFO:gym-duckietown:Pos: [6.07763154 0.         1.61339413] angle 4.3711717763381195\n",
            "INFO:gym-duckietown:Pos: [6.07926112 0.         1.60876581] angle 4.376539876443794\n",
            "INFO:gym-duckietown:Pos: [6.07824984 0.         1.61166544] angle 4.377096047620224\n",
            "INFO:gym-duckietown:Pos: [6.07917527 0.         1.60901236] angle 4.376443039852419\n",
            "INFO:gym-duckietown:Pos: [6.07753406 0.         1.61373484] angle 4.3793864548033286\n",
            "INFO:gym-duckietown:Pos: [6.07768751 0.         1.61329039] angle 4.380509101102627\n",
            "INFO:gym-duckietown:Pos: [6.08071859 0.         1.60432111] angle 4.392487371586454\n",
            "INFO:gym-duckietown:Pos: [6.08019671 0.         1.60589557] angle 4.39215713132663\n",
            "INFO:gym-duckietown:Pos: [6.07757023 0.         1.61385548] angle 4.395192039684952\n",
            "INFO:gym-duckietown:Pos: [6.07661543 0.         1.61676909] angle 4.3962326869907065\n",
            "INFO:gym-duckietown:Pos: [6.07630245 0.         1.61772328] angle 4.394658221031296\n",
            "INFO:gym-duckietown:Pos: [6.07830065 0.         1.61172537] angle 4.386951206479815\n",
            "INFO:gym-duckietown:Pos: [6.07818691 0.         1.61206103] angle 4.384394886070683\n",
            "INFO:gym-duckietown:Pos: [6.07862616 0.         1.61076617] angle 4.386294279781245\n",
            "INFO:gym-duckietown:Pos: [6.08056564 0.         1.60503342] angle 4.386026402989671\n",
            "INFO:gym-duckietown:Pos: [6.08019316 0.         1.60613128] angle 4.384559588114207\n",
            "INFO:gym-duckietown:Pos: [6.08077869 0.         1.60439252] angle 4.390570098001039\n",
            "INFO:gym-duckietown:Pos: [6.08231693 0.         1.59974285] angle 4.395219565744762\n",
            "INFO:gym-duckietown:Pos: [6.08231461 0.         1.59975   ] angle 4.401280468144571\n",
            "INFO:gym-duckietown:Pos: [6.08289496 0.         1.59794186] angle 4.402339358612574\n",
            "INFO:gym-duckietown:Pos: [6.08300279 0.         1.59760459] angle 4.403550325010622\n",
            "INFO:gym-duckietown:Pos: [6.0823689  0.         1.59960346] angle 4.407046535554625\n",
            "INFO:gym-duckietown:Pos: [6.08368726 0.         1.59538583] angle 4.411811484000116\n",
            "INFO:gym-duckietown:Pos: [6.08486525 0.         1.59160648] angle 4.408669399048584\n",
            "INFO:gym-duckietown:Pos: [6.086193   0.         1.58738304] angle 4.406921192595858\n",
            "INFO:gym-duckietown:Pos: [6.08729088 0.         1.58392984] angle 4.402208025425188\n",
            "INFO:gym-duckietown:Pos: [6.0868866  0.         1.58518284] angle 4.398367813261892\n",
            "INFO:gym-duckietown:Pos: [6.08873055 0.         1.57949588] angle 4.399317770878816\n",
            "INFO:gym-duckietown:Pos: [6.08854547 0.         1.58005977] angle 4.391160424006514\n",
            "INFO:gym-duckietown:Pos: [6.08646924 0.         1.58632832] angle 4.393933666169334\n",
            "INFO:gym-duckietown:Pos: [6.08801005 0.         1.58166891] angle 4.392109579380047\n",
            "INFO:gym-duckietown:Pos: [6.08834156 0.         1.58068272] angle 4.384098669304548\n",
            "INFO:gym-duckietown:Pos: [6.08661063 0.         1.58579539] angle 4.387793131936337\n",
            "INFO:gym-duckietown:Pos: [6.08939517 0.         1.57735524] angle 4.399641409313331\n",
            "INFO:gym-duckietown:Pos: [6.08970872 0.         1.576392  ] angle 4.39574806390636\n",
            "INFO:gym-duckietown:Pos: [6.09035515 0.         1.57442656] angle 4.3935247521692675\n",
            "INFO:gym-duckietown:Pos: [6.09127366 0.         1.57165776] angle 4.390622796323797\n",
            "INFO:gym-duckietown:Pos: [6.09059005 0.         1.57372239] angle 4.3946631102904155\n",
            "INFO:gym-duckietown:Pos: [6.09248572 0.         1.56790445] angle 4.400147806689101\n",
            "INFO:gym-duckietown:Pos: [6.0925144  0.         1.56781567] angle 4.399631156651461\n",
            "INFO:gym-duckietown:Pos: [6.09526148 0.         1.55923541] angle 4.405446593920261\n",
            "INFO:gym-duckietown:Pos: [6.09521125 0.         1.55939107] angle 4.395158403211874\n",
            "INFO:gym-duckietown:Pos: [6.09715903 0.         1.55338916] angle 4.402013203242467\n",
            "INFO:gym-duckietown:Pos: [6.09911071 0.         1.54731072] angle 4.401397134595915\n",
            "INFO:gym-duckietown:Pos: [6.10001852 0.         1.54448952] angle 4.400740883968546\n",
            "INFO:gym-duckietown:Pos: [6.10165742 0.         1.53944085] angle 4.396260717088457\n",
            "INFO:gym-duckietown:Pos: [6.10324448 0.         1.53452883] angle 4.40349998304462\n",
            "Episodes:  40%|████      | 4/10 [04:00, reward=61.36, ts/ep=100, sec/ep=58.80, ms/ts=588.0, agent=94.6%]DEBUG:gym-duckietown:[1.14790002 0.         3.59925635] corresponds to tile at (1, 6) which is not drivable: {'coords': (1, 6), 'kind': 'grass', 'angle': 0, 'drivable': False, 'texture': <gym_duckietown.graphics.Texture object at 0x7f3e5c152a58>, 'color': array([1.10153872, 0.95435186, 0.9790784 ])}\n",
            "DEBUG:gym-duckietown:Invalid pose. Collision free: True On drivable area: False\n",
            "DEBUG:gym-duckietown:safety_factor: 1.3\n",
            "DEBUG:gym-duckietown:pos: [1.22819187 0.         3.65456882]\n",
            "DEBUG:gym-duckietown:l_pos: [1.14790002 0.         3.59925635]\n",
            "DEBUG:gym-duckietown:r_pos: [1.30848372 0.         3.70988129]\n",
            "DEBUG:gym-duckietown:f_pos: [1.29456683 0.         3.5582186 ]\n",
            "DEBUG:gym-duckietown:[1.16694968 0.         3.62602596] corresponds to tile at (1, 6) which is not drivable: {'coords': (1, 6), 'kind': 'grass', 'angle': 0, 'drivable': False, 'texture': <gym_duckietown.graphics.Texture object at 0x7f3e5c152a58>, 'color': array([1.10153872, 0.95435186, 0.9790784 ])}\n",
            "DEBUG:gym-duckietown:Invalid pose. Collision free: True On drivable area: False\n",
            "DEBUG:gym-duckietown:safety_factor: 1.3\n",
            "DEBUG:gym-duckietown:pos: [1.16694968 0.         3.62602596]\n",
            "DEBUG:gym-duckietown:l_pos: [1.07668725 0.         3.58916213]\n",
            "DEBUG:gym-duckietown:r_pos: [1.25721212 0.         3.6628898 ]\n",
            "DEBUG:gym-duckietown:f_pos: [1.21118629 0.         3.51771104]\n",
            "INFO:gym-duckietown:Starting at [1.65981454 0.         3.75101967] 2.2941813599852763\n",
            "INFO:gym-duckietown:Pos: [1.65981454 0.         3.75101967] angle 2.2941813599852763\n",
            "INFO:gym-duckietown:Pos: [1.66291043 0.         3.75451674] angle 2.296658609827879\n",
            "INFO:gym-duckietown:Pos: [1.65955035 0.         3.75070429] angle 2.2897590084304658\n",
            "INFO:gym-duckietown:Pos: [1.66438661 0.         3.7562615 ] angle 2.284122104289111\n",
            "INFO:gym-duckietown:Pos: [1.66309819 0.         3.75477143] angle 2.2833762379117126\n",
            "INFO:gym-duckietown:Pos: [1.66269768 0.         3.75430668] angle 2.2807950669613613\n",
            "INFO:gym-duckietown:Pos: [1.66857132 0.         3.7611436 ] angle 2.280311988792127\n",
            "INFO:gym-duckietown:Pos: [1.6671212  0.         3.75945334] angle 2.279441016527778\n",
            "INFO:gym-duckietown:Pos: [1.67027409 0.         3.76311903] angle 2.2828182930354526\n",
            "INFO:gym-duckietown:Pos: [1.66874526 0.         3.76135904] angle 2.289228708713968\n",
            "INFO:gym-duckietown:Pos: [1.67267105 0.         3.76583059] angle 2.2933591544002443\n",
            "INFO:gym-duckietown:Pos: [1.67622123 0.         3.76990331] angle 2.2821465641002376\n",
            "INFO:gym-duckietown:Pos: [1.67642655 0.         3.77013992] angle 2.2888511758374\n",
            "INFO:gym-duckietown:Pos: [1.67823895 0.         3.77223252] angle 2.2802785680006\n",
            "INFO:gym-duckietown:Pos: [1.68056022 0.         3.77494269] angle 2.2778311359264984\n",
            "INFO:gym-duckietown:Pos: [1.68461595 0.         3.77968407] angle 2.2789892996971326\n",
            "DEBUG:gym-duckietown:[1.75719243 0.         3.74912832] corresponds to tile at (3, 6) which is not drivable: {'coords': (3, 6), 'kind': 'grass', 'angle': 0, 'drivable': False, 'texture': <gym_duckietown.graphics.Texture object at 0x7f3e5c152a58>, 'color': array([0.80500497, 0.80089548, 0.80939468])}\n",
            "DEBUG:gym-duckietown:Invalid pose. Collision free: True On drivable area: False\n",
            "DEBUG:gym-duckietown:safety_factor: 1.0\n",
            "DEBUG:gym-duckietown:pos: [1.70022704 0.         3.797913  ]\n",
            "DEBUG:gym-duckietown:l_pos: [1.64326166 0.         3.84669767]\n",
            "DEBUG:gym-duckietown:r_pos: [1.75719243 0.         3.74912832]\n",
            "DEBUG:gym-duckietown:f_pos: [1.64168544 0.         3.72955453]\n",
            "INFO:gym-duckietown:Stopping the simulator because we are at an invalid pose.\n",
            "Episodes:  50%|█████     | 5/10 [04:09, reward=-999.89, ts/ep=15, sec/ep=8.89, ms/ts=592.6, agent=93.9%]INFO:gym-duckietown:Starting at [1.02716456 0.         4.35175802] 3.1429408980539444\n",
            "INFO:gym-duckietown:Pos: [1.02716456 0.         4.35175802] angle 3.1429408980539444\n",
            "INFO:gym-duckietown:Pos: [1.02292987 0.         4.35177598] angle 3.148723783592068\n",
            "INFO:gym-duckietown:Pos: [1.02720858 0.         4.3517473 ] angle 3.147864935399106\n",
            "INFO:gym-duckietown:Pos: [1.03039877 0.         4.35173183] angle 3.1450187191988785\n",
            "INFO:gym-duckietown:Pos: [1.02786365 0.         4.35174663] angle 3.1498410365943097\n",
            "INFO:gym-duckietown:Pos: [1.02406332 0.         4.35176359] angle 3.142270649689497\n",
            "INFO:gym-duckietown:Pos: [1.02528956 0.         4.35176421] angle 3.139902185092131\n",
            "INFO:gym-duckietown:Pos: [1.02518313 0.         4.35176378] angle 3.1351671778105024\n",
            "INFO:gym-duckietown:Pos: [1.03457962 0.         4.35182044] angle 3.1359585513032893\n",
            "INFO:gym-duckietown:Pos: [1.03301498 0.         4.35180888] angle 3.132452081762774\n",
            "INFO:gym-duckietown:Pos: [1.02522955 0.         4.35175281] angle 3.136328847762234\n",
            "INFO:gym-duckietown:Pos: [1.03360831 0.         4.35180577] angle 3.1342134996759556\n",
            "INFO:gym-duckietown:Pos: [1.02770242 0.         4.35177158] angle 3.137393484184637\n",
            "INFO:gym-duckietown:Pos: [1.01217944 0.         4.35172574] angle 3.1398847389667197\n",
            "INFO:gym-duckietown:Pos: [1.01300103 0.         4.35172623] angle 3.142091903093286\n",
            "INFO:gym-duckietown:Pos: [1.00944351 0.         4.3517337 ] angle 3.1452916888258815\n",
            "INFO:gym-duckietown:Pos: [1.01744848 0.         4.35172487] angle 3.1400993943068958\n",
            "INFO:gym-duckietown:Pos: [1.01962505 0.         4.35172878] angle 3.1394901944083897\n",
            "INFO:gym-duckietown:Pos: [1.02045198 0.         4.35173208] angle 3.135714645231869\n",
            "INFO:gym-duckietown:Pos: [1.01270862 0.         4.35170334] angle 3.140047450978042\n",
            "INFO:gym-duckietown:Pos: [1.0141413  0.         4.35170545] angle 3.140194992106913\n",
            "INFO:gym-duckietown:Pos: [1.01807637 0.         4.35171255] angle 3.139382973060499\n",
            "INFO:gym-duckietown:Pos: [1.01296003 0.         4.35168942] angle 3.134760065343643\n",
            "INFO:gym-duckietown:Pos: [1.02241208 0.         4.35174935] angle 3.1357435784283236\n",
            "INFO:gym-duckietown:Pos: [1.02477749 0.         4.35175116] angle 3.1459100440396517\n",
            "INFO:gym-duckietown:Pos: [1.03480681 0.         4.35171995] angle 3.143500748247413\n",
            "INFO:gym-duckietown:Pos: [1.03136657 0.         4.35172711] angle 3.1438490402851915\n",
            "INFO:gym-duckietown:Pos: [1.03432928 0.         4.35171873] angle 3.144993225062347\n",
            "INFO:gym-duckietown:Pos: [1.03429649 0.         4.35171876] angle 3.1402841339302494\n",
            "INFO:gym-duckietown:Pos: [1.04385865 0.         4.35170253] angle 3.1462960155708437\n",
            "INFO:gym-duckietown:Pos: [1.04169198 0.         4.35171033] angle 3.14409208922745\n",
            "INFO:gym-duckietown:Pos: [1.03714107 0.         4.35173371] angle 3.1493645955898817\n",
            "INFO:gym-duckietown:Pos: [1.03336583 0.         4.35175771] angle 3.1465352527939863\n",
            "INFO:gym-duckietown:Pos: [1.03231265 0.         4.3517615 ] angle 3.1438506763584106\n",
            "INFO:gym-duckietown:Pos: [1.03250826 0.         4.35176058] angle 3.148698985224873\n",
            "INFO:gym-duckietown:Pos: [1.04367191 0.         4.35171174] angle 3.1432361282429393\n",
            "INFO:gym-duckietown:Pos: [1.04128257 0.         4.35170716] angle 3.1361119153568033\n",
            "INFO:gym-duckietown:Pos: [1.03840201 0.         4.35170044] angle 3.1424102651396035\n",
            "INFO:gym-duckietown:Pos: [1.04041546 0.         4.35169847] angle 3.142736251925791\n",
            "INFO:gym-duckietown:Pos: [1.03756433 0.         4.35170787] angle 3.1470440578761614\n",
            "INFO:gym-duckietown:Pos: [1.04023136 0.         4.35169314] angle 3.1471869569271265\n",
            "INFO:gym-duckietown:Pos: [1.03653237 0.         4.35172665] angle 3.154117144407048\n",
            "INFO:gym-duckietown:Pos: [1.03030792 0.         4.35179473] angle 3.1509407680411714\n",
            "INFO:gym-duckietown:Pos: [1.03226267 0.         4.35177157] angle 3.155934562640341\n",
            "INFO:gym-duckietown:Pos: [1.03342456 0.         4.35175366] angle 3.1580885197637008\n",
            "INFO:gym-duckietown:Pos: [1.03187669 0.         4.35177974] angle 3.1587954362915873\n",
            "INFO:gym-duckietown:Pos: [1.03564231 0.         4.35171819] angle 3.157078085273829\n",
            "INFO:gym-duckietown:Pos: [1.03599429 0.         4.35171128] angle 3.1653432251954854\n",
            "INFO:gym-duckietown:Pos: [1.03641799 0.         4.35169964] angle 3.1727791371906844\n",
            "INFO:gym-duckietown:Pos: [1.02924768 0.         4.35193505] angle 3.1760438198579393\n",
            "INFO:gym-duckietown:Pos: [1.02979135 0.         4.35191644] angle 3.175549183135997\n",
            "INFO:gym-duckietown:Pos: [1.03076619 0.         4.35188039] angle 3.181577153032388\n",
            "INFO:gym-duckietown:Pos: [1.03507183 0.         4.35169453] angle 3.1878847066164977\n",
            "INFO:gym-duckietown:Pos: [1.03938142 0.         4.35148314] angle 3.1933235339574275\n",
            "INFO:gym-duckietown:Pos: [1.04174118 0.         4.35135642] angle 3.197161905429883\n",
            "INFO:gym-duckietown:Pos: [1.04345498 0.         4.35126311] angle 3.1948144433822843\n",
            "INFO:gym-duckietown:Pos: [1.04265305 0.         4.35130851] angle 3.2014820365114494\n",
            "INFO:gym-duckietown:Pos: [1.03953454 0.         4.35149183] angle 3.1991374673995128\n",
            "INFO:gym-duckietown:Pos: [1.04853805 0.         4.35098599] angle 3.1962944294541766\n",
            "INFO:gym-duckietown:Pos: [1.04862904 0.         4.35098092] angle 3.1981406930449974\n",
            "INFO:gym-duckietown:Pos: [1.04239371 0.         4.35137344] angle 3.2107796406827123\n",
            "INFO:gym-duckietown:Pos: [1.04358899 0.         4.35128832] angle 3.2145983171449815\n",
            "INFO:gym-duckietown:Pos: [1.04914725 0.         4.35088921] angle 3.211950825787759\n",
            "INFO:gym-duckietown:Pos: [1.05417861 0.         4.35053757] angle 3.2107869491243504\n",
            "INFO:gym-duckietown:Pos: [1.06384364 0.         4.34987169] angle 3.2099711059498635\n",
            "INFO:gym-duckietown:Pos: [1.06202701 0.         4.34998864] angle 3.201790974497475\n",
            "INFO:gym-duckietown:Pos: [1.06077914 0.         4.35006497] angle 3.2035652678747453\n",
            "INFO:gym-duckietown:Pos: [1.06019227 0.         4.35010085] angle 3.2017524326249567\n",
            "INFO:gym-duckietown:Pos: [1.06318864 0.         4.34991801] angle 3.2033233945726676\n",
            "INFO:gym-duckietown:Pos: [1.06737352 0.         4.34966439] angle 3.200921787994809\n",
            "INFO:gym-duckietown:Pos: [1.06466338 0.         4.34982098] angle 3.197697362412932\n",
            "INFO:gym-duckietown:Pos: [1.07544798 0.         4.34925924] angle 3.189569476312991\n",
            "INFO:gym-duckietown:Pos: [1.07893882 0.         4.34909193] angle 3.189396093455788\n",
            "INFO:gym-duckietown:Pos: [1.07915434 0.         4.34908201] angle 3.1858003110132085\n",
            "INFO:gym-duckietown:Pos: [1.08408722 0.         4.34882938] angle 3.1997224371070145\n",
            "INFO:gym-duckietown:Pos: [1.08609675 0.         4.3487171 ] angle 3.1950979681177833\n",
            "INFO:gym-duckietown:Pos: [1.0905125  0.         4.34848934] angle 3.1911521694432583\n",
            "INFO:gym-duckietown:Pos: [1.09627107 0.         4.34820919] angle 3.189253876051378\n",
            "INFO:gym-duckietown:Pos: [1.09142618 0.         4.34844706] angle 3.192044600785496\n",
            "INFO:gym-duckietown:Pos: [1.09829471 0.         4.34809626] angle 3.1931968232691315\n",
            "INFO:gym-duckietown:Pos: [1.10334747 0.         4.34781477] angle 3.2012971659974663\n",
            "INFO:gym-duckietown:Pos: [1.10357434 0.         4.34780098] angle 3.2033006731112175\n",
            "INFO:gym-duckietown:Pos: [1.10494934 0.         4.34771824] angle 3.2000766439217485\n",
            "INFO:gym-duckietown:Pos: [1.10537583 0.         4.34769422] angle 3.1956616763036276\n",
            "INFO:gym-duckietown:Pos: [1.10405994 0.         4.3477667 ] angle 3.197581900226977\n",
            "INFO:gym-duckietown:Pos: [1.10779031 0.         4.34754967] angle 3.2018309738041317\n",
            "INFO:gym-duckietown:Pos: [1.10902634 0.         4.34747719] angle 3.1985057302214495\n",
            "INFO:gym-duckietown:Pos: [1.10789649 0.         4.34754252] angle 3.2001918063294363\n",
            "INFO:gym-duckietown:Pos: [1.11748247 0.         4.34699502] angle 3.1970988056570935\n",
            "INFO:gym-duckietown:Pos: [1.12855608 0.         4.34638713] angle 3.1957671342997167\n",
            "INFO:gym-duckietown:Pos: [1.13087609 0.         4.34626525] angle 3.1923880264730005\n",
            "INFO:gym-duckietown:Pos: [1.12981403 0.         4.34632097] angle 3.1956331894174297\n",
            "INFO:gym-duckietown:Pos: [1.12516899 0.         4.34655907] angle 3.189977559379377\n",
            "INFO:gym-duckietown:Pos: [1.12024151 0.         4.34681153] angle 3.1955913950098314\n",
            "INFO:gym-duckietown:Pos: [1.12503769 0.         4.34653762] angle 3.201692847450528\n",
            "INFO:gym-duckietown:Pos: [1.12279395 0.         4.34667025] angle 3.199576749793842\n",
            "INFO:gym-duckietown:Pos: [1.12204487 0.         4.34671299] angle 3.1976210277501873\n",
            "INFO:gym-duckietown:Pos: [1.11699224 0.         4.3469885 ] angle 3.1945096593921494\n",
            "INFO:gym-duckietown:Pos: [1.12275345 0.         4.34667957] angle 3.1958180912900613\n",
            "INFO:gym-duckietown:Pos: [1.12903942 0.         4.34634662] angle 3.1932012425932474\n",
            "INFO:gym-duckietown:Pos: [1.12653441 0.         4.34647265] angle 3.1905185063278574\n",
            "Episodes:  60%|██████    | 6/10 [05:07, reward=58.86, ts/ep=100, sec/ep=58.41, ms/ts=584.1, agent=95.2%]DEBUG:gym-duckietown:[4.33378059 0.         6.45079113] corresponds to tile at (7, 11) which is not drivable: {'coords': (7, 11), 'kind': 'grass', 'angle': 0, 'drivable': False, 'texture': <gym_duckietown.graphics.Texture object at 0x7f3e5c152a58>, 'color': array([1.03703751, 0.91321633, 0.98415344])}\n",
            "DEBUG:gym-duckietown:Invalid pose. Collision free: True On drivable area: False\n",
            "DEBUG:gym-duckietown:safety_factor: 1.3\n",
            "DEBUG:gym-duckietown:pos: [4.33378059 0.         6.45079113]\n",
            "DEBUG:gym-duckietown:l_pos: [4.25808894 0.         6.51224863]\n",
            "DEBUG:gym-duckietown:r_pos: [4.40947223 0.         6.38933363]\n",
            "DEBUG:gym-duckietown:f_pos: [4.26003159 0.         6.35996115]\n",
            "DEBUG:gym-duckietown:[4.61719894 0.         6.50288421] corresponds to tile at (7, 11) which is not drivable: {'coords': (7, 11), 'kind': 'grass', 'angle': 0, 'drivable': False, 'texture': <gym_duckietown.graphics.Texture object at 0x7f3e5c152a58>, 'color': array([1.03703751, 0.91321633, 0.98415344])}\n",
            "DEBUG:gym-duckietown:Invalid pose. Collision free: True On drivable area: False\n",
            "DEBUG:gym-duckietown:safety_factor: 1.3\n",
            "DEBUG:gym-duckietown:pos: [4.64461984 0.         6.40931955]\n",
            "DEBUG:gym-duckietown:l_pos: [4.61719894 0.         6.50288421]\n",
            "DEBUG:gym-duckietown:r_pos: [4.67204073 0.         6.3157549 ]\n",
            "DEBUG:gym-duckietown:f_pos: [4.53234225 0.         6.37641448]\n",
            "INFO:gym-duckietown:Starting at [4.66528315 0.         6.00480013] 6.147581922628533\n",
            "INFO:gym-duckietown:Pos: [4.66528315 0.         6.00480013] angle 6.147581922628533\n",
            "INFO:gym-duckietown:Pos: [4.66574187 0.         6.00486172] angle 6.151820320337651\n",
            "INFO:gym-duckietown:Pos: [4.67180211 0.         6.00566882] angle 6.149750311628906\n",
            "INFO:gym-duckietown:Pos: [4.67137077 0.         6.00561146] angle 6.152196912042578\n",
            "INFO:gym-duckietown:Pos: [4.66698584 0.         6.00502575] angle 6.148597259741016\n",
            "INFO:gym-duckietown:Pos: [4.67159467 0.         6.00564826] angle 6.149258176179505\n",
            "INFO:gym-duckietown:Pos: [4.66729557 0.         6.00506121] angle 6.145687795478796\n",
            "INFO:gym-duckietown:Pos: [4.67108071 0.         6.00557056] angle 6.153159800703569\n",
            "INFO:gym-duckietown:Pos: [4.66381563 0.         6.00464051] angle 6.158564393555158\n",
            "INFO:gym-duckietown:Pos: [4.65855663 0.         6.00399249] angle 6.162599847723085\n",
            "INFO:gym-duckietown:Pos: [4.65495556 0.         6.00356321] angle 6.166473446748523\n",
            "INFO:gym-duckietown:Pos: [4.65371318 0.         6.00342031] angle 6.170847888970118\n",
            "INFO:gym-duckietown:Pos: [4.64688732 0.         6.00265835] angle 6.173188521058509\n",
            "INFO:gym-duckietown:Pos: [4.65123964 0.         6.00313447] angle 6.175260311797573\n",
            "INFO:gym-duckietown:Pos: [4.64194522 0.         6.00217753] angle 6.185915963127799\n",
            "INFO:gym-duckietown:Pos: [4.64784233 0.         6.00275095] angle 6.186589096184195\n",
            "INFO:gym-duckietown:Pos: [4.6532053  0.         6.00327895] angle 6.183507162218639\n",
            "INFO:gym-duckietown:Pos: [4.64657414 0.         6.0026339 ] angle 6.188921088688316\n",
            "INFO:gym-duckietown:Pos: [4.64528365 0.         6.00251707] angle 6.196881594449312\n",
            "INFO:gym-duckietown:Pos: [4.64301586 0.         6.0023318 ] angle 6.206455213908861\n",
            "INFO:gym-duckietown:Pos: [4.64178308 0.         6.00223503] angle 6.203243503082066\n",
            "INFO:gym-duckietown:Pos: [4.6406815  0.         6.00214682] angle 6.203324767116098\n",
            "INFO:gym-duckietown:Pos: [4.64586343 0.         6.00256536] angle 6.201859990954127\n",
            "INFO:gym-duckietown:Pos: [4.64965536 0.         6.00286492] angle 6.206838130830003\n",
            "INFO:gym-duckietown:Pos: [4.64980882 0.         6.00287647] angle 6.20929598903104\n",
            "INFO:gym-duckietown:Pos: [4.64638424 0.         6.00263525] angle 6.216432053425394\n",
            "INFO:gym-duckietown:Pos: [4.64955163 0.         6.00283917] angle 6.221352469264259\n",
            "INFO:gym-duckietown:Pos: [4.64213559 0.         6.00237649] angle 6.220399674248263\n",
            "INFO:gym-duckietown:Pos: [4.64044104 0.         6.0022758 ] angle 6.227279458802096\n",
            "INFO:gym-duckietown:Pos: [4.63279962 0.         6.00183391] angle 6.223562432695268\n",
            "INFO:gym-duckietown:Pos: [4.62721189 0.         6.00150345] angle 6.2246647532969845\n",
            "INFO:gym-duckietown:Pos: [4.62144965 0.         6.00116804] angle 6.225419804298214\n",
            "INFO:gym-duckietown:Pos: [4.6182897  0.         6.00098467] angle 6.225023720335042\n",
            "INFO:gym-duckietown:Pos: [4.61778266 0.         6.00095753] angle 6.2343919974198325\n",
            "INFO:gym-duckietown:Pos: [4.61247275 0.         6.00069418] angle 6.232867239832037\n",
            "INFO:gym-duckietown:Pos: [4.60762517 0.         6.00043771] angle 6.227788142072571\n",
            "INFO:gym-duckietown:Pos: [4.60795076 0.         6.00045413] angle 6.237806690142775\n",
            "INFO:gym-duckietown:Pos: [4.61264421 0.         6.00066133] angle 6.240327698479177\n",
            "INFO:gym-duckietown:Pos: [4.6113559  0.         6.00060916] angle 6.245104926758833\n",
            "INFO:gym-duckietown:Pos: [4.60530043 0.         6.00038661] angle 6.247794702460505\n",
            "INFO:gym-duckietown:Pos: [4.60268368 0.         6.00028909] angle 6.244074758252998\n",
            "INFO:gym-duckietown:Pos: [4.59790943 0.         6.00011466] angle 6.249257465421103\n",
            "INFO:gym-duckietown:Pos: [4.59121399 0.         5.9998993 ] angle 6.252806094175188\n",
            "INFO:gym-duckietown:Pos: [4.58705066 0.         5.99977237] angle 6.2526073574655765\n",
            "INFO:gym-duckietown:Pos: [4.5827493  0.         5.99964886] angle 6.2563498141238805\n",
            "INFO:gym-duckietown:Pos: [4.58541029 0.         5.99972156] angle 6.255395204102715\n",
            "INFO:gym-duckietown:Pos: [4.58377588 0.         5.99967984] angle 6.259936722253323\n",
            "INFO:gym-duckietown:Pos: [4.57973376 0.         5.99958767] angle 6.26083710877814\n",
            "INFO:gym-duckietown:Pos: [4.58047214 0.         5.99960174] angle 6.267431490103873\n",
            "INFO:gym-duckietown:Pos: [4.57711561 0.         5.99956019] angle 6.274185836939633\n",
            "INFO:gym-duckietown:Pos: [4.57192696 0.         5.99950924] angle 6.272546457384586\n",
            "INFO:gym-duckietown:Pos: [4.56825403 0.         5.99947794] angle 6.2767787332260125\n",
            "INFO:gym-duckietown:Pos: [4.56082916 0.         5.99943318] angle 6.277536381777669\n",
            "INFO:gym-duckietown:Pos: [4.55274886 0.         5.99940611] angle 6.282133232073794\n",
            "INFO:gym-duckietown:Pos: [4.55251569 0.         5.99940674] angle 6.289650863383742\n",
            "INFO:gym-duckietown:Pos: [4.5522048  0.         5.99940846] angle 6.287778581421355\n",
            "INFO:gym-duckietown:Pos: [4.55032503 0.         5.99942403] angle 6.295151577402624\n",
            "INFO:gym-duckietown:Pos: [4.54470352 0.         5.99948179] angle 6.291771278663165\n",
            "INFO:gym-duckietown:Pos: [4.54638355 0.         5.99947508] angle 6.282592543099186\n",
            "INFO:gym-duckietown:Pos: [4.54964236 0.         5.99948081] angle 6.280258953918115\n",
            "INFO:gym-duckietown:Pos: [4.5448603  0.         5.99947365] angle 6.283116076983882\n",
            "INFO:gym-duckietown:Pos: [4.54472424 0.         5.99947353] angle 6.281467834136241\n",
            "INFO:gym-duckietown:Pos: [4.55451556 0.         5.99947582] angle 6.2844349816074\n",
            "INFO:gym-duckietown:Pos: [4.55444951 0.         5.99947587] angle 6.283382628490199\n",
            "INFO:gym-duckietown:Pos: [4.5473784  0.         5.99946506] angle 6.279930703516941\n",
            "INFO:gym-duckietown:Pos: [4.54342019 0.         5.99944204] angle 6.274809987678549\n",
            "INFO:gym-duckietown:Pos: [4.54391591 0.         5.99944652] angle 6.273478718961447\n",
            "INFO:gym-duckietown:Pos: [4.54141645 0.         5.99942861] angle 6.278554493550232\n",
            "INFO:gym-duckietown:Pos: [4.54503693 0.         5.99944638] angle 6.27799858539162\n",
            "INFO:gym-duckietown:Pos: [4.55046001 0.         5.99949499] angle 6.270445299591156\n",
            "INFO:gym-duckietown:Pos: [4.54962446 0.         5.99948727] angle 6.277462063754793\n",
            "INFO:gym-duckietown:Pos: [4.55849489 0.         5.99953802] angle 6.2774682684934895\n",
            "INFO:gym-duckietown:Pos: [4.56037588 0.         5.99954237] angle 6.284274403199041\n",
            "INFO:gym-duckietown:Pos: [4.55893849 0.         5.9995437 ] angle 6.28395347729305\n",
            "INFO:gym-duckietown:Pos: [4.55754546 0.         5.99954368] angle 6.282388106491496\n",
            "INFO:gym-duckietown:Pos: [4.54919826 0.         5.99955119] angle 6.285781176563938\n",
            "INFO:gym-duckietown:Pos: [4.55008611 0.         5.99955006] angle 6.283137734865407\n",
            "INFO:gym-duckietown:Pos: [4.54830596 0.         5.99954569] angle 6.278321264084444\n",
            "INFO:gym-duckietown:Pos: [4.54266226 0.         5.99951895] angle 6.278573428077939\n",
            "INFO:gym-duckietown:Pos: [4.5409191  0.         5.99950722] angle 6.274340968618663\n",
            "INFO:gym-duckietown:Pos: [4.54628828 0.         5.99956735] angle 6.2696303783457505\n",
            "INFO:gym-duckietown:Pos: [4.54771482 0.         5.99958704] angle 6.269137820514554\n",
            "INFO:gym-duckietown:Pos: [4.542749   0.         5.99950964] angle 6.2660629150515135\n",
            "INFO:gym-duckietown:Pos: [4.5430944  0.         5.99951495] angle 6.269610712492274\n",
            "INFO:gym-duckietown:Pos: [4.54322561 0.         5.99951666] angle 6.270693223626364\n",
            "INFO:gym-duckietown:Pos: [4.53865421 0.         5.99946491] angle 6.273039030683593\n",
            "INFO:gym-duckietown:Pos: [4.54156365 0.         5.99948126] angle 6.282091365663877\n",
            "INFO:gym-duckietown:Pos: [4.54048649 0.         5.99948402] angle 6.289396396661016\n",
            "INFO:gym-duckietown:Pos: [4.53649586 0.         5.99951054] angle 6.290265372558521\n",
            "INFO:gym-duckietown:Pos: [4.53830498 0.         5.99950828] angle 6.278601405849807\n",
            "INFO:gym-duckietown:Pos: [4.53232521 0.         5.99947911] angle 6.278014639479397\n",
            "INFO:gym-duckietown:Pos: [4.52948665 0.         5.99946177] angle 6.2761337925600325\n",
            "INFO:gym-duckietown:Pos: [4.52662361 0.         5.99943357] angle 6.270540550938308\n",
            "INFO:gym-duckietown:Pos: [4.52112562 0.         5.99936261] angle 6.270018972158506\n",
            "INFO:gym-duckietown:Pos: [4.52773643 0.         5.99946437] angle 6.2655680386978645\n",
            "INFO:gym-duckietown:Pos: [4.52879286 0.         5.99948109] angle 6.26915183252627\n",
            "INFO:gym-duckietown:Pos: [4.5253696 0.        5.999446 ] angle 6.276719417610138\n",
            "INFO:gym-duckietown:Pos: [4.52012069 0.         5.99941471] angle 6.2777261174813\n",
            "INFO:gym-duckietown:Pos: [4.51679704 0.         5.9993912 ] angle 6.27449918511661\n",
            "INFO:gym-duckietown:Pos: [4.51636942 0.         5.9993874 ] angle 6.2740919982177035\n",
            "INFO:gym-duckietown:Pos: [4.52353703 0.         5.99943688] angle 6.278470938903054\n",
            "Episodes:  70%|███████   | 7/10 [06:05, reward=-138.92, ts/ep=100, sec/ep=58.53, ms/ts=585.3, agent=95.2%]INFO:gym-duckietown:Starting at [0.90152941 0.         4.55857473] 1.7920727272956518\n",
            "INFO:gym-duckietown:Pos: [0.90152941 0.         4.55857473] angle 1.7920727272956518\n",
            "INFO:gym-duckietown:Pos: [0.90204346 0.         4.56081735] angle 1.8001697100603165\n",
            "INFO:gym-duckietown:Pos: [0.90441216 0.         4.57101581] angle 1.7978511730305418\n",
            "INFO:gym-duckietown:Pos: [0.90520899 0.         4.5743655 ] angle 1.8108260212346474\n",
            "INFO:gym-duckietown:Pos: [0.90381265 0.         4.56867971] angle 1.8124029610020203\n",
            "INFO:gym-duckietown:Pos: [0.9052358 0.        4.574461 ] angle 1.811920554044537\n",
            "INFO:gym-duckietown:Pos: [0.90537604 0.         4.57503886] angle 1.805827859724018\n",
            "INFO:gym-duckietown:Pos: [0.90605342 0.         4.57782235] angle 1.8132001545558438\n",
            "INFO:gym-duckietown:Pos: [0.90669893 0.         4.58044681] angle 1.8107361809085336\n",
            "INFO:gym-duckietown:Pos: [0.90607956 0.         4.57793742] angle 1.8148236298200473\n",
            "INFO:gym-duckietown:Pos: [0.90760455 0.         4.58403754] angle 1.8167141401060003\n",
            "INFO:gym-duckietown:Pos: [0.90801678 0.         4.58568814] angle 1.814350603339649\n",
            "INFO:gym-duckietown:Pos: [0.9091188  0.         4.59012772] angle 1.8138605784108168\n",
            "INFO:gym-duckietown:Pos: [0.90814859 0.         4.58625172] angle 1.8182777966492307\n",
            "INFO:gym-duckietown:Pos: [0.90685053 0.         4.58121855] angle 1.8281177446009786\n",
            "INFO:gym-duckietown:Pos: [0.90721576 0.         4.58260538] angle 1.8285015547609127\n",
            "INFO:gym-duckietown:Pos: [0.90979912 0.         4.5922043 ] angle 1.838893491289687\n",
            "INFO:gym-duckietown:Pos: [0.90856975 0.         4.58773163] angle 1.8391801777818046\n",
            "INFO:gym-duckietown:Pos: [0.90792567 0.         4.58536238] angle 1.8332833429633715\n",
            "INFO:gym-duckietown:Pos: [0.90798214 0.         4.58557043] angle 1.8384471131957376\n",
            "INFO:gym-duckietown:Pos: [0.90934694 0.         4.59052303] angle 1.8409416007279895\n",
            "INFO:gym-duckietown:Pos: [0.91026233 0.         4.59380619] angle 1.8444699600152905\n",
            "INFO:gym-duckietown:Pos: [0.91142558 0.         4.59793372] angle 1.8465244783543375\n",
            "INFO:gym-duckietown:Pos: [0.91136528 0.         4.59772174] angle 1.8493517951060243\n",
            "INFO:gym-duckietown:Pos: [0.91275083 0.         4.60250016] angle 1.856681001874818\n",
            "INFO:gym-duckietown:Pos: [0.91376704 0.         4.60596268] angle 1.8558584471034794\n",
            "INFO:gym-duckietown:Pos: [0.91392705 0.         4.60650005] angle 1.8645534450879988\n",
            "INFO:gym-duckietown:Pos: [0.91446916 0.         4.60831324] angle 1.8580824570396346\n",
            "INFO:gym-duckietown:Pos: [0.91505394 0.         4.61025751] angle 1.8678325558141249\n",
            "INFO:gym-duckietown:Pos: [0.91564854 0.         4.61221257] angle 1.8642579112917501\n",
            "INFO:gym-duckietown:Pos: [0.91520034 0.         4.61074795] angle 1.871283389146294\n",
            "INFO:gym-duckietown:Pos: [0.91454252 0.         4.60860866] angle 1.8669380491389547\n",
            "INFO:gym-duckietown:Pos: [0.91435575 0.         4.60800506] angle 1.8748400547391009\n",
            "INFO:gym-duckietown:Pos: [0.91465515 0.         4.60896191] angle 1.8732572338204425\n",
            "INFO:gym-duckietown:Pos: [0.91304088 0.         4.60377172] angle 1.8714128034577335\n",
            "INFO:gym-duckietown:Pos: [0.91368331 0.         4.60585169] angle 1.869319334531579\n",
            "INFO:gym-duckietown:Pos: [0.91288109 0.         4.60326521] angle 1.8737740347614096\n",
            "INFO:gym-duckietown:Pos: [0.91288026 0.         4.60326252] angle 1.8690985568030565\n",
            "INFO:gym-duckietown:Pos: [0.9147202  0.         4.60916952] angle 1.8764143639811974\n",
            "INFO:gym-duckietown:Pos: [0.9152234  0.         4.61075774] angle 1.8788322705481\n",
            "INFO:gym-duckietown:Pos: [0.91917597 0.         4.62313429] angle 1.881004431350664\n",
            "INFO:gym-duckietown:Pos: [0.91927802 0.         4.62345244] angle 1.8813318839340192\n",
            "INFO:gym-duckietown:Pos: [0.91841498 0.         4.62074125] angle 1.8766255765734747\n",
            "INFO:gym-duckietown:Pos: [0.91796967 0.         4.61931388] angle 1.86978176237451\n",
            "INFO:gym-duckietown:Pos: [0.91908887 0.         4.62293014] angle 1.8720897972616417\n",
            "INFO:gym-duckietown:Pos: [0.9168343  0.         4.61572237] angle 1.8758114162444282\n",
            "INFO:gym-duckietown:Pos: [0.91798235 0.         4.6194253 ] angle 1.867058954550662\n",
            "INFO:gym-duckietown:Pos: [0.91712453 0.         4.61658669] angle 1.861477727228784\n",
            "INFO:gym-duckietown:Pos: [0.9181062  0.         4.61991139] angle 1.8543314336888352\n",
            "INFO:gym-duckietown:Pos: [0.91805051 0.         4.61972077] angle 1.8556980176893771\n",
            "INFO:gym-duckietown:Pos: [0.91941709 0.         4.62430673] angle 1.8651216723902688\n",
            "INFO:gym-duckietown:Pos: [0.91918308 0.         4.62353222] angle 1.8633030342610757\n",
            "INFO:gym-duckietown:Pos: [0.92179943 0.         4.63226327] angle 1.8605788298655515\n",
            "INFO:gym-duckietown:Pos: [0.92164616 0.         4.63175435] angle 1.8660504203233015\n",
            "INFO:gym-duckietown:Pos: [0.92097067 0.         4.62950787] angle 1.8597203855277264\n",
            "INFO:gym-duckietown:Pos: [0.92069567 0.         4.62858329] angle 1.8600771156126978\n",
            "INFO:gym-duckietown:Pos: [0.92035032 0.         4.62742756] angle 1.86225654060118\n",
            "INFO:gym-duckietown:Pos: [0.92004298 0.         4.62640655] angle 1.8641084529573693\n",
            "INFO:gym-duckietown:Pos: [0.92157208 0.         4.63140409] angle 1.8713356056891362\n",
            "INFO:gym-duckietown:Pos: [0.92015816 0.         4.62678504] angle 1.8643565217131193\n",
            "INFO:gym-duckietown:Pos: [0.91911813 0.         4.62334226] angle 1.8639843746274904\n",
            "INFO:gym-duckietown:Pos: [0.91660829 0.         4.61507498] angle 1.8670954191377904\n",
            "INFO:gym-duckietown:Pos: [0.91587297 0.         4.61267756] angle 1.8697058747053834\n",
            "INFO:gym-duckietown:Pos: [0.91583519 0.         4.61255591] angle 1.8742129546167876\n",
            "INFO:gym-duckietown:Pos: [0.91604307 0.         4.61322375] angle 1.8709118999957004\n",
            "INFO:gym-duckietown:Pos: [0.91444372 0.         4.60803399] angle 1.8685598374358616\n",
            "INFO:gym-duckietown:Pos: [0.91260844 0.         4.6020442 ] angle 1.867670817602191\n",
            "INFO:gym-duckietown:Pos: [0.91483659 0.         4.60924516] angle 1.8740825661588563\n",
            "INFO:gym-duckietown:Pos: [0.91437484 0.         4.60775846] angle 1.8697962202409104\n",
            "INFO:gym-duckietown:Pos: [0.91499966 0.         4.60978828] angle 1.8690349397698476\n",
            "INFO:gym-duckietown:Pos: [0.91305532 0.         4.60352689] angle 1.8747346811325956\n",
            "INFO:gym-duckietown:Pos: [0.91431475 0.         4.60754121] angle 1.8748766268307488\n",
            "INFO:gym-duckietown:Pos: [0.91495219 0.         4.60957567] angle 1.8739856190474986\n",
            "INFO:gym-duckietown:Pos: [0.91654326 0.         4.61465935] angle 1.874243295720023\n",
            "INFO:gym-duckietown:Pos: [0.91568649 0.         4.61194532] angle 1.8789144987493926\n",
            "INFO:gym-duckietown:Pos: [0.91827494 0.         4.62003306] angle 1.8821685767048657\n",
            "INFO:gym-duckietown:Pos: [0.91939312 0.         4.623543  ] angle 1.8762428725787499\n",
            "INFO:gym-duckietown:Pos: [0.92050994 0.         4.62708021] angle 1.8770108734978084\n",
            "INFO:gym-duckietown:Pos: [0.92288809 0.         4.63451125] angle 1.8840393794848997\n",
            "INFO:gym-duckietown:Pos: [0.92491403 0.         4.6407837 ] angle 1.8823806954113123\n",
            "INFO:gym-duckietown:Pos: [0.92516725 0.         4.64156621] angle 1.8851440407803153\n",
            "INFO:gym-duckietown:Pos: [0.92384991 0.         4.63749328] angle 1.882089160075962\n",
            "INFO:gym-duckietown:Pos: [0.92446558 0.         4.63939824] angle 1.8847026566189384\n",
            "INFO:gym-duckietown:Pos: [0.92336377 0.         4.63600595] angle 1.884989149123484\n",
            "INFO:gym-duckietown:Pos: [0.92489185 0.         4.64065528] angle 1.8916945446207667\n",
            "INFO:gym-duckietown:Pos: [0.92433428 0.         4.63897238] angle 1.889768733369401\n",
            "INFO:gym-duckietown:Pos: [0.92436616 0.         4.63906871] angle 1.8909947534807123\n",
            "INFO:gym-duckietown:Pos: [0.92312684 0.         4.63529498] angle 1.885220959282304\n",
            "INFO:gym-duckietown:Pos: [0.92345359 0.         4.63629982] angle 1.8851548510913714\n",
            "INFO:gym-duckietown:Pos: [0.92445646 0.         4.63932611] angle 1.89643427898274\n",
            "INFO:gym-duckietown:Pos: [0.92405914 0.         4.63814009] angle 1.891669501659366\n",
            "INFO:gym-duckietown:Pos: [0.92387757 0.         4.63759714] angle 1.8953504296771688\n",
            "INFO:gym-duckietown:Pos: [0.926156   0.         4.64440516] angle 1.8921447365869597\n",
            "INFO:gym-duckietown:Pos: [0.92649039 0.         4.64541072] angle 1.8915330758534912\n",
            "INFO:gym-duckietown:Pos: [0.9271474  0.         4.64739434] angle 1.8897469641164049\n",
            "INFO:gym-duckietown:Pos: [0.92820331 0.         4.65059836] angle 1.8885429517671326\n",
            "INFO:gym-duckietown:Pos: [0.9299117  0.         4.65578963] angle 1.8889015516345726\n",
            "INFO:gym-duckietown:Pos: [0.93010012 0.         4.65636227] angle 1.8884642450303466\n",
            "INFO:gym-duckietown:Pos: [0.93128538 0.         4.65995454] angle 1.8905286712705278\n",
            "INFO:gym-duckietown:Pos: [0.93230453 0.         4.66304578] angle 1.8879976246955574\n",
            "INFO:gym-duckietown:Pos: [0.93263642 0.         4.66403586] angle 1.900482012616034\n",
            "Episodes:  80%|████████  | 8/10 [07:04, reward=28.83, ts/ep=100, sec/ep=58.64, ms/ts=586.4, agent=94.9%]  INFO:gym-duckietown:Starting at [4.69935091 0.         3.2720744 ] 0.5774923783822162\n",
            "INFO:gym-duckietown:Pos: [4.69935091 0.         3.2720744 ] angle 0.5774923783822162\n",
            "INFO:gym-duckietown:Pos: [4.70580635 0.         3.26785607] angle 0.5801040087222308\n",
            "INFO:gym-duckietown:Pos: [4.70265905 0.         3.26991088] angle 0.5766897566474157\n",
            "INFO:gym-duckietown:Pos: [4.69790755 0.         3.27300364] angle 0.5773274354921228\n",
            "INFO:gym-duckietown:Pos: [4.69961761 0.         3.27189751] angle 0.5709684939016673\n",
            "INFO:gym-duckietown:Pos: [4.69834268 0.         3.27271726] angle 0.5718751629164054\n",
            "INFO:gym-duckietown:Pos: [4.69353146 0.         3.27580826] angle 0.5702314797963212\n",
            "INFO:gym-duckietown:Pos: [4.68743165 0.         3.27971017] angle 0.5679377035814626\n",
            "INFO:gym-duckietown:Pos: [4.68811132 0.         3.27927587] angle 0.569266026516367\n",
            "INFO:gym-duckietown:Pos: [4.68714412 0.         3.27989331] angle 0.567075364566741\n",
            "INFO:gym-duckietown:Pos: [4.68699995 0.         3.27998502] angle 0.5660555551968312\n",
            "INFO:gym-duckietown:Pos: [4.68268529 0.         3.28273125] angle 0.567576927482388\n",
            "INFO:gym-duckietown:Pos: [4.67968727 0.         3.28463893] angle 0.5658122190262734\n",
            "INFO:gym-duckietown:Pos: [4.67275008 0.         3.28904067] angle 0.5650107711961354\n",
            "INFO:gym-duckietown:Pos: [4.67322975 0.         3.28873507] angle 0.5695092755638999\n",
            "INFO:gym-duckietown:Pos: [4.67084765 0.         3.29025555] angle 0.5666916431785745\n",
            "INFO:gym-duckietown:Pos: [4.66962851 0.         3.29102985] angle 0.564998865019087\n",
            "INFO:gym-duckietown:Pos: [4.67041591 0.         3.29052786] angle 0.5701208564635207\n",
            "INFO:gym-duckietown:Pos: [4.66732892 0.         3.29250397] angle 0.5687084107811766\n",
            "INFO:gym-duckietown:Pos: [4.66354897 0.         3.29494734] angle 0.5789761459752035\n",
            "INFO:gym-duckietown:Pos: [4.66183407 0.         3.29606707] angle 0.577899302436857\n",
            "INFO:gym-duckietown:Pos: [4.66308094 0.         3.29526222] angle 0.568498156021518\n",
            "INFO:gym-duckietown:Pos: [4.66804203 0.         3.2920698 ] angle 0.5750751689730648\n",
            "INFO:gym-duckietown:Pos: [4.67305201 0.         3.28884628] angle 0.5683965823759909\n",
            "INFO:gym-duckietown:Pos: [4.67390702 0.         3.288297  ] angle 0.5736704084266326\n",
            "INFO:gym-duckietown:Pos: [4.67459842 0.         3.28784921] angle 0.5757674188516845\n",
            "INFO:gym-duckietown:Pos: [4.66974791 0.         3.29098938] angle 0.5733074695244973\n",
            "INFO:gym-duckietown:Pos: [4.67562907 0.         3.28714387] angle 0.5848726394171627\n",
            "INFO:gym-duckietown:Pos: [4.68097666 0.         3.28360843] angle 0.5834454999680765\n",
            "INFO:gym-duckietown:Pos: [4.68046908 0.         3.28394564] angle 0.5893505562843909\n",
            "INFO:gym-duckietown:Pos: [4.67862144 0.         3.28518066] angle 0.5890937314260032\n",
            "INFO:gym-duckietown:Pos: [4.67579069 0.         3.28706646] angle 0.586247992319791\n",
            "INFO:gym-duckietown:Pos: [4.6790664  0.         3.28491143] angle 0.5775466562219849\n",
            "INFO:gym-duckietown:Pos: [4.68186242 0.         3.28307377] angle 0.5853525807453143\n",
            "INFO:gym-duckietown:Pos: [4.67762296 0.         3.28585755] angle 0.5766993608545199\n",
            "INFO:gym-duckietown:Pos: [4.67806558 0.         3.28556742] angle 0.5837431949403376\n",
            "INFO:gym-duckietown:Pos: [4.67218078 0.         3.28947455] angle 0.5884771824313401\n",
            "INFO:gym-duckietown:Pos: [4.67493994 0.         3.28763792] angle 0.5861147347028003\n",
            "INFO:gym-duckietown:Pos: [4.67268067 0.         3.28913992] angle 0.587327121362351\n",
            "INFO:gym-duckietown:Pos: [4.67305991 0.         3.28888656] angle 0.5906526804622828\n",
            "INFO:gym-duckietown:Pos: [4.67126045 0.         3.29009512] angle 0.5922040669770269\n",
            "INFO:gym-duckietown:Pos: [4.66451197 0.         3.29461594] angle 0.5882723211422898\n",
            "INFO:gym-duckietown:Pos: [4.66220231 0.         3.29615202] angle 0.5855208397772375\n",
            "INFO:gym-duckietown:Pos: [4.66174259 0.         3.29645566] angle 0.5819104536413222\n",
            "INFO:gym-duckietown:Pos: [4.65793815 0.         3.2989621 ] angle 0.5831899381332225\n",
            "INFO:gym-duckietown:Pos: [4.65989032 0.         3.29766752] angle 0.5879378948120249\n",
            "INFO:gym-duckietown:Pos: [4.65580654 0.         3.30041405] angle 0.5961872727553486\n",
            "INFO:gym-duckietown:Pos: [4.64650335 0.         3.30672088] angle 0.5953191958563874\n",
            "INFO:gym-duckietown:Pos: [4.64533741 0.         3.30750544] angle 0.5893003964393524\n",
            "INFO:gym-duckietown:Pos: [4.64201442 0.         3.30973317] angle 0.5918640266785379\n",
            "INFO:gym-duckietown:Pos: [4.63721126 0.         3.3129419 ] angle 0.5860477355346732\n",
            "INFO:gym-duckietown:Pos: [4.63482727 0.         3.31452528] angle 0.5865022778327019\n",
            "INFO:gym-duckietown:Pos: [4.63540553 0.         3.31414425] angle 0.5787710632123085\n",
            "INFO:gym-duckietown:Pos: [4.63250499 0.         3.3160515 ] angle 0.5845626450861545\n",
            "INFO:gym-duckietown:Pos: [4.63701461 0.         3.31308115] angle 0.5803282008880082\n",
            "INFO:gym-duckietown:Pos: [4.63638176 0.         3.31349233] angle 0.5720188427337219\n",
            "INFO:gym-duckietown:Pos: [4.63313398 0.         3.31558646] angle 0.573389373823817\n",
            "INFO:gym-duckietown:Pos: [4.62570128 0.         3.32038449] angle 0.5730638801634956\n",
            "INFO:gym-duckietown:Pos: [4.61299908 0.         3.32852406] angle 0.5666962630635392\n",
            "INFO:gym-duckietown:Pos: [4.60988026 0.         3.33051865] angle 0.5712694381115231\n",
            "INFO:gym-duckietown:Pos: [4.60565749 0.         3.33325004] angle 0.5770087961533499\n",
            "INFO:gym-duckietown:Pos: [4.59622594 0.         3.33937156] angle 0.5744011380679056\n",
            "INFO:gym-duckietown:Pos: [4.59829179 0.         3.33803444] angle 0.5744799738187925\n",
            "INFO:gym-duckietown:Pos: [4.59487815 0.         3.34022824] angle 0.5679149414980346\n",
            "INFO:gym-duckietown:Pos: [4.59871677 0.         3.33778256] angle 0.566628960960671\n",
            "INFO:gym-duckietown:Pos: [4.59531627 0.         3.33993739] angle 0.5630060169605388\n",
            "INFO:gym-duckietown:Pos: [4.59239921 0.         3.34178768] angle 0.5675149295793993\n",
            "INFO:gym-duckietown:Pos: [4.60048228 0.         3.33660254] angle 0.5732128830110661\n",
            "INFO:gym-duckietown:Pos: [4.59970964 0.         3.33710121] angle 0.5730786955792323\n",
            "INFO:gym-duckietown:Pos: [4.59748171 0.         3.33854276] angle 0.5754929112191011\n",
            "INFO:gym-duckietown:Pos: [4.59927325 0.         3.33738634] angle 0.5708991685422669\n",
            "INFO:gym-duckietown:Pos: [4.59598225 0.         3.33948993] angle 0.5665845249964074\n",
            "INFO:gym-duckietown:Pos: [4.60065723 0.         3.33650629] angle 0.5695065941120051\n",
            "INFO:gym-duckietown:Pos: [4.59935313 0.         3.33733792] angle 0.5658611230827213\n",
            "INFO:gym-duckietown:Pos: [4.59428587 0.         3.34057131] angle 0.5700588898757926\n",
            "INFO:gym-duckietown:Pos: [4.59958825 0.         3.3371646 ] angle 0.5720908667808849\n",
            "INFO:gym-duckietown:Pos: [4.59389609 0.         3.34085514] angle 0.5783445491788869\n",
            "INFO:gym-duckietown:Pos: [4.59002301 0.         3.34339102] angle 0.5810615032726405\n",
            "INFO:gym-duckietown:Pos: [4.59180345 0.         3.34222194] angle 0.5809747829096927\n",
            "INFO:gym-duckietown:Pos: [4.58832145 0.         3.34451313] angle 0.5829956285467132\n",
            "INFO:gym-duckietown:Pos: [4.58258425 0.         3.34829193] angle 0.5818666199236462\n",
            "INFO:gym-duckietown:Pos: [4.58448948 0.         3.34704017] angle 0.5807111117565296\n",
            "INFO:gym-duckietown:Pos: [4.58789117 0.         3.3448067 ] angle 0.5812577223090617\n",
            "INFO:gym-duckietown:Pos: [4.5863078  0.         3.34584323] angle 0.5779947564166324\n",
            "INFO:gym-duckietown:Pos: [4.58349773 0.         3.34766711] angle 0.5734231971363019\n",
            "INFO:gym-duckietown:Pos: [4.58614085 0.         3.34596875] angle 0.5688265273340927\n",
            "INFO:gym-duckietown:Pos: [4.58114662 0.         3.34917342] angle 0.5721710521793688\n",
            "INFO:gym-duckietown:Pos: [4.57857991 0.         3.35084529] angle 0.5824993180908026\n",
            "INFO:gym-duckietown:Pos: [4.57681547 0.         3.35201128] angle 0.5854051611504411\n",
            "INFO:gym-duckietown:Pos: [4.57361199 0.         3.35413027] angle 0.583378331966548\n",
            "INFO:gym-duckietown:Pos: [4.57937461 0.         3.35032299] angle 0.584323190022909\n",
            "INFO:gym-duckietown:Pos: [4.58205678 0.         3.34854992] angle 0.5838937865357091\n",
            "INFO:gym-duckietown:Pos: [4.58362495 0.         3.34751593] angle 0.5819660426110259\n",
            "INFO:gym-duckietown:Pos: [4.58901088 0.         3.34393954] angle 0.5903748890119002\n",
            "INFO:gym-duckietown:Pos: [4.59298928 0.         3.34124763] angle 0.5993645308188201\n",
            "INFO:gym-duckietown:Pos: [4.59473459 0.         3.34005084] angle 0.6027830074925844\n",
            "INFO:gym-duckietown:Pos: [4.59017606 0.         3.34318031] angle 0.6004434805823268\n",
            "INFO:gym-duckietown:Pos: [4.59616282 0.         3.33908381] angle 0.5997245661552432\n",
            "INFO:gym-duckietown:Pos: [4.59495182 0.         3.33991277] angle 0.600810781145979\n",
            "INFO:gym-duckietown:Pos: [4.59850289 0.         3.33746258] angle 0.6071378752791352\n",
            "INFO:gym-duckietown:Pos: [4.59708722 0.         3.33845171] angle 0.6125719459111669\n",
            "Episodes:  90%|█████████ | 9/10 [08:03, reward=-1635.35, ts/ep=100, sec/ep=58.54, ms/ts=585.4, agent=94.9%]INFO:gym-duckietown:Starting at [5.88649249 0.         4.47339641] 0.17644735639887996\n",
            "INFO:gym-duckietown:Pos: [5.88649249 0.         4.47339641] angle 0.17644735639887996\n",
            "INFO:gym-duckietown:Pos: [5.88210579 0.         4.47417591] angle 0.17527009385541428\n",
            "INFO:gym-duckietown:Pos: [5.88428151 0.         4.47378853] angle 0.17713123830186348\n",
            "INFO:gym-duckietown:Pos: [5.88127426 0.         4.47433556] angle 0.1827429951283491\n",
            "INFO:gym-duckietown:Pos: [5.88211465 0.         4.47418137] angle 0.18016227523923634\n",
            "INFO:gym-duckietown:Pos: [5.87954825 0.         4.47464552] angle 0.17768636643171995\n",
            "INFO:gym-duckietown:Pos: [5.87889933 0.         4.47475924] angle 0.16925961781119198\n",
            "INFO:gym-duckietown:Pos: [5.8847536  0.         4.47377133] angle 0.16509163702663515\n",
            "INFO:gym-duckietown:Pos: [5.88449425 0.         4.47381393] angle 0.1605251964843461\n",
            "INFO:gym-duckietown:Pos: [5.8739368  0.         4.47551257] angle 0.15853163840351606\n",
            "INFO:gym-duckietown:Pos: [5.87083038 0.         4.47601589] angle 0.16272583766491372\n",
            "INFO:gym-duckietown:Pos: [5.86916332 0.         4.47628916] angle 0.16222735733370464\n",
            "INFO:gym-duckietown:Pos: [5.87876189 0.         4.47475361] angle 0.15503784452553115\n",
            "INFO:gym-duckietown:Pos: [5.87434632 0.         4.47544118] angle 0.15391139015170563\n",
            "INFO:gym-duckietown:Pos: [5.87555138 0.         4.47525632] angle 0.1505185967209001\n",
            "INFO:gym-duckietown:Pos: [5.86990469 0.         4.47612915] angle 0.15619910159742942\n",
            "INFO:gym-duckietown:Pos: [5.86388383 0.         4.47709984] angle 0.16349354523797063\n",
            "INFO:gym-duckietown:Pos: [5.86438941 0.         4.47701409] angle 0.1725310956838987\n",
            "INFO:gym-duckietown:Pos: [5.86732791 0.         4.47650026] angle 0.1736894285808033\n",
            "INFO:gym-duckietown:Pos: [5.86320362 0.         4.47722544] angle 0.17441336551143186\n",
            "INFO:gym-duckietown:Pos: [5.86616906 0.         4.47671197] angle 0.16848882418266048\n",
            "INFO:gym-duckietown:Pos: [5.85841413 0.         4.47802574] angle 0.16714623172849286\n",
            "INFO:gym-duckietown:Pos: [5.85958149 0.         4.47782297] angle 0.17682513328933866\n",
            "INFO:gym-duckietown:Pos: [5.85676005 0.         4.47832409] angle 0.17473351997948378\n",
            "INFO:gym-duckietown:Pos: [5.85669969 0.         4.47833461] angle 0.17029028076622585\n",
            "INFO:gym-duckietown:Pos: [5.85266974 0.         4.47903236] angle 0.1725926090952255\n",
            "INFO:gym-duckietown:Pos: [5.85913904 0.         4.47792096] angle 0.16767544214685148\n",
            "INFO:gym-duckietown:Pos: [5.86044473 0.         4.47770101] angle 0.16610115078059468\n",
            "INFO:gym-duckietown:Pos: [5.86064714 0.         4.4776667 ] angle 0.16971954806955802\n",
            "INFO:gym-duckietown:Pos: [5.85655773 0.         4.47836586] angle 0.1689427408696851\n",
            "INFO:gym-duckietown:Pos: [5.84777297 0.         4.4798591 ] angle 0.16779967975393395\n",
            "INFO:gym-duckietown:Pos: [5.84483787 0.         4.48035764] angle 0.16869514287330795\n",
            "INFO:gym-duckietown:Pos: [5.84660974 0.         4.48005431] angle 0.17039975206189606\n",
            "INFO:gym-duckietown:Pos: [5.84338453 0.         4.48061413] angle 0.17332693297346158\n",
            "INFO:gym-duckietown:Pos: [5.84076518 0.         4.48107083] angle 0.17191965149974175\n",
            "INFO:gym-duckietown:Pos: [5.83533416 0.         4.48200522] angle 0.16883545545947073\n",
            "INFO:gym-duckietown:Pos: [5.83322391 0.         4.4823604 ] angle 0.1646628009237964\n",
            "INFO:gym-duckietown:Pos: [5.8353938  0.         4.48199586] angle 0.16822575117592237\n",
            "INFO:gym-duckietown:Pos: [5.83597933 0.         4.48189631] angle 0.1685675791234707\n",
            "INFO:gym-duckietown:Pos: [5.82926633 0.         4.48304098] angle 0.16921427841196576\n",
            "INFO:gym-duckietown:Pos: [5.82761361 0.         4.48332246] angle 0.16817044781831658\n",
            "INFO:gym-duckietown:Pos: [5.82535427 0.         4.48370977] angle 0.17137969525025937\n",
            "INFO:gym-duckietown:Pos: [5.82812391 0.         4.48322985] angle 0.17177257197538345\n",
            "INFO:gym-duckietown:Pos: [5.82984549 0.         4.48293283] angle 0.1699103928128495\n",
            "INFO:gym-duckietown:Pos: [5.82784143 0.         4.48327597] angle 0.16923897531641577\n",
            "INFO:gym-duckietown:Pos: [5.82697279 0.         4.4834276 ] angle 0.1764078979339995\n",
            "INFO:gym-duckietown:Pos: [5.82551671 0.         4.48368742] angle 0.1767521908600603\n",
            "INFO:gym-duckietown:Pos: [5.82570706 0.         4.48365341] angle 0.17687218211997827\n",
            "INFO:gym-duckietown:Pos: [5.82317969 0.         4.48409815] angle 0.17150176822113972\n",
            "INFO:gym-duckietown:Pos: [5.82750466 0.         4.48334727] angle 0.17230017663786065\n",
            "INFO:gym-duckietown:Pos: [5.8265843  0.         4.48351119] angle 0.18019751230502987\n",
            "INFO:gym-duckietown:Pos: [5.82163781 0.         4.48440607] angle 0.17775573645902615\n",
            "INFO:gym-duckietown:Pos: [5.82055444 0.         4.48459979] angle 0.17612886582657683\n",
            "INFO:gym-duckietown:Pos: [5.8222587 0.        4.4842984] angle 0.1739411738696309\n",
            "INFO:gym-duckietown:Pos: [5.8149014  0.         4.48557657] angle 0.17008266934213884\n",
            "INFO:gym-duckietown:Pos: [5.81635559 0.         4.48532873] angle 0.1675410269065305\n",
            "INFO:gym-duckietown:Pos: [5.81837968 0.         4.48498538] angle 0.16852650216834225\n",
            "INFO:gym-duckietown:Pos: [5.81926029 0.         4.48483275] angle 0.17471031328877604\n",
            "INFO:gym-duckietown:Pos: [5.81191865 0.         4.48613835] angle 0.17728039930939746\n",
            "INFO:gym-duckietown:Pos: [5.81315827 0.         4.48592038] angle 0.1708380132988785\n",
            "INFO:gym-duckietown:Pos: [5.80881807 0.         4.48666851] angle 0.17055469959157335\n",
            "INFO:gym-duckietown:Pos: [5.80922527 0.         4.48659832] angle 0.1708664545192477\n",
            "INFO:gym-duckietown:Pos: [5.81147542 0.         4.48621162] angle 0.16951534396710013\n",
            "INFO:gym-duckietown:Pos: [5.81581222 0.         4.4854774 ] angle 0.1659049689385028\n",
            "INFO:gym-duckietown:Pos: [5.81500375 0.         4.4856137 ] angle 0.16814738838634724\n",
            "INFO:gym-duckietown:Pos: [5.8120373  0.         4.48612299] angle 0.17190039526115414\n",
            "INFO:gym-duckietown:Pos: [5.80642441 0.         4.48709878] angle 0.17235485373364295\n",
            "INFO:gym-duckietown:Pos: [5.79772474 0.         4.48859964] angle 0.16932063055799434\n",
            "INFO:gym-duckietown:Pos: [5.79996733 0.         4.4882033 ] angle 0.18053290499364769\n",
            "INFO:gym-duckietown:Pos: [5.80233992 0.         4.48777117] angle 0.1797874614753132\n",
            "INFO:gym-duckietown:Pos: [5.79558859 0.         4.48898842] angle 0.17697585376864702\n",
            "INFO:gym-duckietown:Pos: [5.80380216 0.         4.48751479] angle 0.1780747510602708\n",
            "INFO:gym-duckietown:Pos: [5.80466944 0.         4.48736204] angle 0.170601973182696\n",
            "INFO:gym-duckietown:Pos: [5.81199271 0.         4.48609676] angle 0.17156964107093595\n",
            "INFO:gym-duckietown:Pos: [5.81579804 0.         4.48543524] angle 0.17267442966662805\n",
            "INFO:gym-duckietown:Pos: [5.82302909 0.         4.48415661] angle 0.1773562200525952\n",
            "INFO:gym-duckietown:Pos: [5.82895198 0.         4.48309873] angle 0.1761334082206437\n",
            "INFO:gym-duckietown:Pos: [5.83411316 0.         4.48216896] angle 0.1803375322177044\n",
            "INFO:gym-duckietown:Pos: [5.83308161 0.         4.48236004] angle 0.18598724691475874\n",
            "INFO:gym-duckietown:Pos: [5.82879171 0.         4.48315985] angle 0.18266121054726014\n",
            "INFO:gym-duckietown:Pos: [5.82963033 0.         4.48300104] angle 0.19165161389966479\n",
            "INFO:gym-duckietown:Pos: [5.82604772 0.         4.48370471] angle 0.1962367869336219\n",
            "INFO:gym-duckietown:Pos: [5.82810244 0.         4.48330029] angle 0.1924504136757905\n",
            "INFO:gym-duckietown:Pos: [5.82659159 0.         4.48359672] angle 0.19503114328380644\n",
            "INFO:gym-duckietown:Pos: [5.82776833 0.         4.48335819] angle 0.20495641348655333\n",
            "INFO:gym-duckietown:Pos: [5.8246419  0.         4.48400553] angle 0.20338083072103674\n",
            "INFO:gym-duckietown:Pos: [5.82589085 0.         4.48374765] angle 0.2038424466016726\n",
            "INFO:gym-duckietown:Pos: [5.82355118 0.         4.48422848] angle 0.2015333186850371\n",
            "INFO:gym-duckietown:Pos: [5.82501312 0.         4.48392936] angle 0.20210640075299635\n",
            "INFO:gym-duckietown:Pos: [5.82151769 0.         4.48465174] angle 0.20548713441337285\n",
            "INFO:gym-duckietown:Pos: [5.81799517 0.         4.48539128] angle 0.20839390771088687\n",
            "INFO:gym-duckietown:Pos: [5.82040919 0.         4.48488682] angle 0.20361923966801107\n",
            "INFO:gym-duckietown:Pos: [5.81716744 0.         4.48554228] angle 0.1953861304743998\n",
            "INFO:gym-duckietown:Pos: [5.81169481 0.         4.48662503] angle 0.19526436232563676\n",
            "INFO:gym-duckietown:Pos: [5.8111406  0.         4.48673486] angle 0.1960363998869992\n",
            "INFO:gym-duckietown:Pos: [5.80610181 0.         4.48773703] angle 0.1966204102107626\n",
            "INFO:gym-duckietown:Pos: [5.81406061 0.         4.48616244] angle 0.19402039621621958\n",
            "INFO:gym-duckietown:Pos: [5.81554033 0.         4.48587024] angle 0.19589638802279144\n",
            "INFO:gym-duckietown:Pos: [5.81499553 0.         4.48597888] angle 0.1977682869562625\n",
            "INFO:gym-duckietown:Pos: [5.8219531  0.         4.48454988] angle 0.20737363446944315\n",
            "INFO:gym-duckietown:Pos: [5.82241337 0.         4.48445167] angle 0.2130722418444524\n"
          ],
          "name": "stderr"
        }
      ]
    }
  ]
}