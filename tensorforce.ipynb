{
  "nbformat": 4,
  "nbformat_minor": 0,
  "metadata": {
    "colab": {
      "name": "Untitled.ipynb",
      "provenance": []
    },
    "kernelspec": {
      "name": "python3",
      "display_name": "Python 3"
    }
  },
  "cells": [
    {
      "cell_type": "code",
      "metadata": {
        "id": "RZW3YcNreJ2G"
      },
      "source": [
        "!ln -sf /opt/bin/nvidia-smi /usr/bin/nvidia-smi\n",
        "!nvidia-smi"
      ],
      "execution_count": null,
      "outputs": []
    },
    {
      "cell_type": "markdown",
      "metadata": {
        "id": "MqWylYUN4zpa"
      },
      "source": [
        "Clone OpenAI-Gym"
      ]
    },
    {
      "cell_type": "code",
      "metadata": {
        "id": "vk0Ww5nKneiU"
      },
      "source": [
        "!git clone https://github.com/openai/gym.git"
      ],
      "execution_count": null,
      "outputs": []
    },
    {
      "cell_type": "markdown",
      "metadata": {
        "id": "McRhtX0W49Sg"
      },
      "source": [
        "Installing requirements for the Gym"
      ]
    },
    {
      "cell_type": "code",
      "metadata": {
        "id": "5jwrcUrIoNtH"
      },
      "source": [
        "%cd gym\n",
        "!pip3 install -e ."
      ],
      "execution_count": null,
      "outputs": []
    },
    {
      "cell_type": "markdown",
      "metadata": {
        "id": "z2vTuf2N5Dz3"
      },
      "source": [
        "Checking whether the installation was successful by listing all the available environments"
      ]
    },
    {
      "cell_type": "code",
      "metadata": {
        "id": "hjZrD9s_4xxE"
      },
      "source": [
        "from gym import envs\n",
        "envids = [spec.id for spec in envs.registry.all()]\n",
        "for envid in sorted(envids):\n",
        "    print(envid)"
      ],
      "execution_count": null,
      "outputs": []
    },
    {
      "cell_type": "code",
      "metadata": {
        "colab": {
          "base_uri": "https://localhost:8080/"
        },
        "id": "1tNM7mrFoUKi",
        "outputId": "c5c62520-2848-4696-f18b-2ef3e393aded"
      },
      "source": [
        "%cd .."
      ],
      "execution_count": 5,
      "outputs": [
        {
          "output_type": "stream",
          "text": [
            "/content\n"
          ],
          "name": "stdout"
        }
      ]
    },
    {
      "cell_type": "markdown",
      "metadata": {
        "id": "R8LRYnhU5Vcl"
      },
      "source": [
        "Cloning the DT Gym and our repository"
      ]
    },
    {
      "cell_type": "code",
      "metadata": {
        "id": "oh3Ti8QB39k2"
      },
      "source": [
        "!git clone https://github.com/Comicboy/deep-rl-for-the-duckietown-aido_lf-challenge"
      ],
      "execution_count": null,
      "outputs": []
    },
    {
      "cell_type": "code",
      "metadata": {
        "id": "sc16IyT7nrI-"
      },
      "source": [
        "!git clone https://github.com/duckietown/gym-duckietown.git"
      ],
      "execution_count": null,
      "outputs": []
    },
    {
      "cell_type": "code",
      "metadata": {
        "id": "Rb77CaT_xx1V",
        "colab": {
          "base_uri": "https://localhost:8080/"
        },
        "outputId": "66f67280-ab3a-4ef4-e56d-92f1c2cfa664"
      },
      "source": [
        "%cd gym-duckietown"
      ],
      "execution_count": 8,
      "outputs": [
        {
          "output_type": "stream",
          "text": [
            "/content/gym-duckietown\n"
          ],
          "name": "stdout"
        }
      ]
    },
    {
      "cell_type": "markdown",
      "metadata": {
        "id": "vTbtsq4V5aOY"
      },
      "source": [
        "Going back to an older commit because it is possible only with this version to register the environments"
      ]
    },
    {
      "cell_type": "code",
      "metadata": {
        "id": "w4mqbuVVfC02"
      },
      "source": [
        "!git checkout dcf8dd3"
      ],
      "execution_count": null,
      "outputs": []
    },
    {
      "cell_type": "code",
      "metadata": {
        "id": "5JzDYiuboitZ"
      },
      "source": [
        "!pip install -e ."
      ],
      "execution_count": null,
      "outputs": []
    },
    {
      "cell_type": "code",
      "metadata": {
        "id": "VC91zAdFo8kT",
        "colab": {
          "base_uri": "https://localhost:8080/"
        },
        "outputId": "bbebf014-d17b-41e8-83e9-390732e07a1c"
      },
      "source": [
        "%cd .."
      ],
      "execution_count": 11,
      "outputs": [
        {
          "output_type": "stream",
          "text": [
            "/content\n"
          ],
          "name": "stdout"
        }
      ]
    },
    {
      "cell_type": "markdown",
      "metadata": {
        "id": "WFAUvRJX420Y"
      },
      "source": [
        "Copy our map into the maps folder"
      ]
    },
    {
      "cell_type": "code",
      "metadata": {
        "id": "gvNO0jyC4qbr"
      },
      "source": [
        "!cp deep-rl-for-the-duckietown-aido_lf-challenge/my.yaml gym-duckietown/gym_duckietown/maps"
      ],
      "execution_count": 12,
      "outputs": []
    },
    {
      "cell_type": "code",
      "metadata": {
        "id": "XN3fmR7ZMktF"
      },
      "source": [
        "!cp model.py gym-duckietown/pytorch_rl\n",
        "!cp main.py gym-duckietown/pytorch_rl\n",
        "!cp envs.py gym-duckietown/pytorch_rl"
      ],
      "execution_count": null,
      "outputs": []
    },
    {
      "cell_type": "markdown",
      "metadata": {
        "id": "DTdAiFm15wzm"
      },
      "source": [
        "Import Gym"
      ]
    },
    {
      "cell_type": "code",
      "metadata": {
        "id": "EyB1g7MApBb5"
      },
      "source": [
        "import gym"
      ],
      "execution_count": 9,
      "outputs": []
    },
    {
      "cell_type": "markdown",
      "metadata": {
        "id": "zqAfPZqb5ymR"
      },
      "source": [
        "Import the DT Gym"
      ]
    },
    {
      "cell_type": "code",
      "metadata": {
        "colab": {
          "base_uri": "https://localhost:8080/"
        },
        "id": "RJFYtYSTpEWH",
        "outputId": "748aa8fa-23f2-4235-f4a8-955abeb59329"
      },
      "source": [
        "%cd gym-duckietown/"
      ],
      "execution_count": 12,
      "outputs": [
        {
          "output_type": "stream",
          "text": [
            "/content/gym-duckietown\n"
          ],
          "name": "stdout"
        }
      ]
    },
    {
      "cell_type": "code",
      "metadata": {
        "id": "d4pq-A09pM_Q",
        "colab": {
          "base_uri": "https://localhost:8080/"
        },
        "outputId": "146649f7-d118-4304-aee0-1a448a9712e6"
      },
      "source": [
        "import gym_duckietown.envs.duckietown_env"
      ],
      "execution_count": 10,
      "outputs": [
        {
          "output_type": "stream",
          "text": [
            "INFO:gym-duckietown:gym-duckietown 2018.10.1\n",
            "\n",
            "INFO:gym-duckietown:Registering gym environment id: Duckietown-zigzag_dists-v0\n",
            "INFO:gym-duckietown:Registering gym environment id: Duckietown-my-v0\n",
            "INFO:gym-duckietown:Registering gym environment id: Duckietown-loop_obstacles-v0\n",
            "INFO:gym-duckietown:Registering gym environment id: Duckietown-loop_pedestrians-v0\n",
            "INFO:gym-duckietown:Registering gym environment id: Duckietown-loop_dyn_duckiebots-v0\n",
            "INFO:gym-duckietown:Registering gym environment id: Duckietown-udem1-v0\n",
            "INFO:gym-duckietown:Registering gym environment id: Duckietown-4way-v0\n",
            "INFO:gym-duckietown:Registering gym environment id: Duckietown-small_loop-v0\n",
            "INFO:gym-duckietown:Registering gym environment id: Duckietown-small_loop_cw-v0\n",
            "INFO:gym-duckietown:Registering gym environment id: Duckietown-loop_empty-v0\n",
            "INFO:gym-duckietown:Registering gym environment id: Duckietown-straight_road-v0\n"
          ],
          "name": "stderr"
        }
      ]
    },
    {
      "cell_type": "code",
      "metadata": {
        "colab": {
          "base_uri": "https://localhost:8080/"
        },
        "id": "dsZHyxuEvLQW",
        "outputId": "2b35df6f-50c5-4433-f065-62f26472f41a"
      },
      "source": [
        "%cd .."
      ],
      "execution_count": 15,
      "outputs": [
        {
          "output_type": "stream",
          "text": [
            "/content\n"
          ],
          "name": "stdout"
        }
      ]
    },
    {
      "cell_type": "markdown",
      "metadata": {
        "id": "4lkL6xJe53eC"
      },
      "source": [
        "Get TensorForce"
      ]
    },
    {
      "cell_type": "code",
      "metadata": {
        "id": "phwUdoZZp0Mm"
      },
      "source": [
        "!git clone https://github.com/tensorforce/tensorforce.git"
      ],
      "execution_count": null,
      "outputs": []
    },
    {
      "cell_type": "code",
      "metadata": {
        "colab": {
          "base_uri": "https://localhost:8080/"
        },
        "id": "oNrCuyHPvGie",
        "outputId": "382bb3a6-c71d-4eca-c02e-7f95d942a140"
      },
      "source": [
        "%cd tensorforce"
      ],
      "execution_count": 17,
      "outputs": [
        {
          "output_type": "stream",
          "text": [
            "/content/tensorforce\n"
          ],
          "name": "stdout"
        }
      ]
    },
    {
      "cell_type": "code",
      "metadata": {
        "id": "HW8ErzYYvH0G"
      },
      "source": [
        "!pip3 install -e ."
      ],
      "execution_count": null,
      "outputs": []
    },
    {
      "cell_type": "code",
      "metadata": {
        "colab": {
          "base_uri": "https://localhost:8080/"
        },
        "id": "LvRryauFvV37",
        "outputId": "e6270f20-2a87-4dd7-8c6f-86f9fe7eb40b"
      },
      "source": [
        "%cd .."
      ],
      "execution_count": 4,
      "outputs": [
        {
          "output_type": "stream",
          "text": [
            "/content\n"
          ],
          "name": "stdout"
        }
      ]
    },
    {
      "cell_type": "markdown",
      "metadata": {
        "id": "5p8Dq7o057cd"
      },
      "source": [
        "Virtual display is necessary for training"
      ]
    },
    {
      "cell_type": "code",
      "metadata": {
        "id": "vDDQ7HUnyrQN"
      },
      "source": [
        "!apt update"
      ],
      "execution_count": null,
      "outputs": []
    },
    {
      "cell_type": "code",
      "metadata": {
        "id": "F7h4x8iV1_ZZ"
      },
      "source": [
        "!apt-get install python-opengl -y\n",
        "!apt-get install xvfb -y"
      ],
      "execution_count": null,
      "outputs": []
    },
    {
      "cell_type": "code",
      "metadata": {
        "id": "5G1hfaYs12Me"
      },
      "source": [
        "!pip install pyvirtualdisplay\n",
        "!pip install piglet"
      ],
      "execution_count": null,
      "outputs": []
    },
    {
      "cell_type": "code",
      "metadata": {
        "id": "AYyiWK4k1XZZ",
        "colab": {
          "base_uri": "https://localhost:8080/"
        },
        "outputId": "559dd1ff-8947-478b-d6b6-6328006edaf8"
      },
      "source": [
        "from pyvirtualdisplay import Display\n",
        "display = Display(visible=0, size=(1400, 900))\n",
        "display.start()"
      ],
      "execution_count": null,
      "outputs": [
        {
          "output_type": "execute_result",
          "data": {
            "text/plain": [
              "<pyvirtualdisplay.display.Display at 0x7fa550045e10>"
            ]
          },
          "metadata": {
            "tags": []
          },
          "execution_count": 6
        }
      ]
    },
    {
      "cell_type": "markdown",
      "metadata": {
        "id": "dRny-aXfDayM"
      },
      "source": [
        "A different way of creating a virtual display"
      ]
    },
    {
      "cell_type": "code",
      "metadata": {
        "id": "Ay6-0kVmDt1F"
      },
      "source": [
        "!apt-get install ffmpeg freeglut3-dev xvfb  # For visualization"
      ],
      "execution_count": null,
      "outputs": []
    },
    {
      "cell_type": "code",
      "metadata": {
        "id": "NnhM0F1gDkeS"
      },
      "source": [
        "import os\n",
        "os.system(\"Xvfb :1 -screen 0 1024x768x24 &\")\n",
        "os.environ['DISPLAY'] = ':1'"
      ],
      "execution_count": 11,
      "outputs": []
    },
    {
      "cell_type": "markdown",
      "metadata": {
        "id": "LnXZUwdX0Q5c"
      },
      "source": [
        "Check if the DT environments follow the Gym interface"
      ]
    },
    {
      "cell_type": "code",
      "metadata": {
        "id": "_0vYUPak0GaN"
      },
      "source": [
        "from gym_duckietown.simulator import Simulator"
      ],
      "execution_count": null,
      "outputs": []
    },
    {
      "cell_type": "code",
      "metadata": {
        "id": "3tx572FY0JrH"
      },
      "source": [
        "from gym_duckietown.envs.duckietown_env import DuckietownEnv\n",
        "check_env(DuckietownEnv())"
      ],
      "execution_count": null,
      "outputs": []
    },
    {
      "cell_type": "code",
      "metadata": {
        "id": "HNtKOXLr0zge"
      },
      "source": [
        "from tensorforce.environments import Environment"
      ],
      "execution_count": 12,
      "outputs": []
    },
    {
      "cell_type": "code",
      "metadata": {
        "id": "v-HmJukX1Q2p",
        "colab": {
          "base_uri": "https://localhost:8080/"
        },
        "outputId": "4e259248-2ebd-47ef-e7fb-581490bd5318"
      },
      "source": [
        "environment = Environment.create(\n",
        "    environment='gym',\n",
        "    level = 'Duckietown-my-v0',\n",
        "    max_episode_timesteps = 100\n",
        ")"
      ],
      "execution_count": 13,
      "outputs": [
        {
          "output_type": "stream",
          "text": [
            "DEBUG:gym-duckietown:Falling back to non-multisampled frame buffer\n",
            "DEBUG:gym-duckietown:Falling back to non-multisampled frame buffer\n",
            "DEBUG:gym-duckietown:loading map file \"/content/gym-duckietown/gym_duckietown/maps/my.yaml\"\n",
            "DEBUG:gym-duckietown:loading mesh \"/content/gym-duckietown/gym_duckietown/meshes/duckiebot.obj\"\n",
            "DEBUG:gym-duckietown:loading materials from \"/content/gym-duckietown/gym_duckietown/meshes/duckiebot.mtl\"\n",
            "DEBUG:gym-duckietown:loading mesh \"/content/gym-duckietown/gym_duckietown/meshes/tree.obj\"\n",
            "DEBUG:gym-duckietown:loading materials from \"/content/gym-duckietown/gym_duckietown/meshes/tree.mtl\"\n",
            "DEBUG:gym-duckietown:loading mesh \"/content/gym-duckietown/gym_duckietown/meshes/duckie.obj\"\n",
            "DEBUG:gym-duckietown:loading texture \"/content/gym-duckietown/gym_duckietown/textures/duckie.png\"\n",
            "DEBUG:gym-duckietown:loading texture \"/content/gym-duckietown/gym_duckietown/textures/grass_1.png\"\n",
            "DEBUG:gym-duckietown:loading texture \"/content/gym-duckietown/gym_duckietown/textures/grass_2.png\"\n",
            "DEBUG:gym-duckietown:loading texture \"/content/gym-duckietown/gym_duckietown/textures/curve_right_1.png\"\n",
            "DEBUG:gym-duckietown:loading texture \"/content/gym-duckietown/gym_duckietown/textures/straight_1.png\"\n",
            "DEBUG:gym-duckietown:loading texture \"/content/gym-duckietown/gym_duckietown/textures/curve_left_2.png\"\n",
            "DEBUG:gym-duckietown:loading texture \"/content/gym-duckietown/gym_duckietown/textures/curve_left_3.png\"\n",
            "DEBUG:gym-duckietown:loading texture \"/content/gym-duckietown/gym_duckietown/textures/curve_left_1.png\"\n",
            "INFO:gym-duckietown:Starting at [0.98186447 0.         6.10005293] 5.756049736921894\n",
            "INFO:gym-duckietown:Pos: [0.98186447 0.         6.10005293] angle 5.756049736921894\n",
            "INFO:gym-duckietown:using DuckietownEnv\n",
            "/content/gym/gym/logger.py:30: UserWarning: \u001b[33mWARN: Box bound precision lowered by casting to float32\u001b[0m\n",
            "  warnings.warn(colorize('%s: %s'%('WARN', msg % args), 'yellow'))\n"
          ],
          "name": "stderr"
        }
      ]
    },
    {
      "cell_type": "markdown",
      "metadata": {
        "id": "kklv_YevArVY"
      },
      "source": [
        "Shape: (Width, Height, Channels)"
      ]
    },
    {
      "cell_type": "code",
      "metadata": {
        "colab": {
          "base_uri": "https://localhost:8080/"
        },
        "id": "3SRVRkhlCW-1",
        "outputId": "c884e320-543d-4bbf-f699-2a3bd8ec2a5a"
      },
      "source": [
        "environment.states()"
      ],
      "execution_count": 14,
      "outputs": [
        {
          "output_type": "execute_result",
          "data": {
            "text/plain": [
              "{'max_value': 255.0, 'min_value': 0.0, 'shape': (480, 640, 3), 'type': 'float'}"
            ]
          },
          "metadata": {
            "tags": []
          },
          "execution_count": 14
        }
      ]
    },
    {
      "cell_type": "code",
      "metadata": {
        "colab": {
          "base_uri": "https://localhost:8080/"
        },
        "id": "KChpumQkCfh_",
        "outputId": "523e790f-f1ef-4c3d-b615-4214aaa0dfc5"
      },
      "source": [
        "environment.actions()"
      ],
      "execution_count": 15,
      "outputs": [
        {
          "output_type": "execute_result",
          "data": {
            "text/plain": [
              "{'max_value': 1.0, 'min_value': -1.0, 'shape': (2,), 'type': 'float'}"
            ]
          },
          "metadata": {
            "tags": []
          },
          "execution_count": 15
        }
      ]
    },
    {
      "cell_type": "code",
      "metadata": {
        "colab": {
          "base_uri": "https://localhost:8080/"
        },
        "id": "z7IBNRqRCsA4",
        "outputId": "30c42ebe-f48b-410e-85f5-fc491e7c6bd5"
      },
      "source": [
        "environment.max_episode_timesteps()"
      ],
      "execution_count": 16,
      "outputs": [
        {
          "output_type": "execute_result",
          "data": {
            "text/plain": [
              "100"
            ]
          },
          "metadata": {
            "tags": []
          },
          "execution_count": 16
        }
      ]
    },
    {
      "cell_type": "markdown",
      "metadata": {
        "id": "8V6rwnSS0j79"
      },
      "source": [
        "If you want to see for yourself that the prewritten PPO doesn't work\n",
        "(Now it runs at least)"
      ]
    },
    {
      "cell_type": "code",
      "metadata": {
        "id": "XoHZg41RdTgi",
        "colab": {
          "base_uri": "https://localhost:8080/"
        },
        "outputId": "27328317-2306-427a-bcc1-03598c21bff8"
      },
      "source": [
        "!python3 pytorch_rl/main.py \\\n",
        "        --algo a2c \\\n",
        "        --env-name Duckietown-loop_obstacles-v0 \\\n",
        "        --lr 0.0002 \\\n",
        "        --max-grad-norm 0.5 \\\n",
        "        --no-vis \\\n",
        "        --num-steps 20"
      ],
      "execution_count": 47,
      "outputs": [
        {
          "output_type": "stream",
          "text": [
            "INFO:gym-duckietown:gym-duckietown 2018.10.1\n",
            "\n",
            "INFO:gym-duckietown:Registering gym environment id: Duckietown-zigzag_dists-v0\n",
            "INFO:gym-duckietown:Registering gym environment id: Duckietown-my-v0\n",
            "INFO:gym-duckietown:Registering gym environment id: Duckietown-loop_obstacles-v0\n",
            "INFO:gym-duckietown:Registering gym environment id: Duckietown-loop_pedestrians-v0\n",
            "INFO:gym-duckietown:Registering gym environment id: Duckietown-loop_dyn_duckiebots-v0\n",
            "INFO:gym-duckietown:Registering gym environment id: Duckietown-udem1-v0\n",
            "INFO:gym-duckietown:Registering gym environment id: Duckietown-4way-v0\n",
            "INFO:gym-duckietown:Registering gym environment id: Duckietown-small_loop-v0\n",
            "INFO:gym-duckietown:Registering gym environment id: Duckietown-small_loop_cw-v0\n",
            "INFO:gym-duckietown:Registering gym environment id: Duckietown-loop_empty-v0\n",
            "INFO:gym-duckietown:Registering gym environment id: Duckietown-straight_road-v0\n",
            "DEBUG:gym-duckietown:Falling back to non-multisampled frame buffer\n",
            "DEBUG:gym-duckietown:Falling back to non-multisampled frame buffer\n",
            "DEBUG:gym-duckietown:loading map file \"/content/gym-duckietown/gym_duckietown/maps/loop_obstacles.yaml\"\n",
            "DEBUG:gym-duckietown:loading mesh \"/content/gym-duckietown/gym_duckietown/meshes/duckiebot.obj\"\n",
            "DEBUG:gym-duckietown:loading materials from \"/content/gym-duckietown/gym_duckietown/meshes/duckiebot.mtl\"\n",
            "DEBUG:gym-duckietown:loading mesh \"/content/gym-duckietown/gym_duckietown/meshes/duckie.obj\"\n",
            "DEBUG:gym-duckietown:loading texture \"/content/gym-duckietown/gym_duckietown/textures/duckie.png\"\n",
            "DEBUG:gym-duckietown:loading mesh \"/content/gym-duckietown/gym_duckietown/meshes/cone.obj\"\n",
            "DEBUG:gym-duckietown:loading texture \"/content/gym-duckietown/gym_duckietown/textures/cone.png\"\n",
            "DEBUG:gym-duckietown:loading mesh \"/content/gym-duckietown/gym_duckietown/meshes/barrier.obj\"\n",
            "DEBUG:gym-duckietown:loading texture \"/content/gym-duckietown/gym_duckietown/textures/barrier.png\"\n",
            "DEBUG:gym-duckietown:loading texture \"/content/gym-duckietown/gym_duckietown/textures/floor_1.png\"\n",
            "DEBUG:gym-duckietown:loading texture \"/content/gym-duckietown/gym_duckietown/textures/curve_left_3.png\"\n",
            "DEBUG:gym-duckietown:loading texture \"/content/gym-duckietown/gym_duckietown/textures/straight_1.png\"\n",
            "DEBUG:gym-duckietown:loading texture \"/content/gym-duckietown/gym_duckietown/textures/curve_left_1.png\"\n",
            "DEBUG:gym-duckietown:loading texture \"/content/gym-duckietown/gym_duckietown/textures/curve_right_1.png\"\n",
            "DEBUG:gym-duckietown:loading texture \"/content/gym-duckietown/gym_duckietown/textures/curve_left_2.png\"\n",
            "INFO:gym-duckietown:Starting at [1.26986653 0.         3.13224262] 4.045688900173143\n",
            "INFO:gym-duckietown:Pos: [1.26986653 0.         3.13224262] angle 4.045688900173143\n",
            "INFO:gym-duckietown:using DuckietownEnv\n",
            "/content/gym/gym/logger.py:30: UserWarning: \u001b[33mWARN: Box bound precision lowered by casting to float32\u001b[0m\n",
            "  warnings.warn(colorize('%s: %s'%('WARN', msg % args), 'yellow'))\n",
            "(480, 640, 3)\n",
            "(480, 640, 3)\n",
            "Yes\n",
            "Obs shape: (3, 640, 480)\n",
            "Obs shape: (3, 640, 480)\n",
            "Num shape: 921600\n",
            "CNNPolicy(\n",
            "  (conv1): Conv2d(3, 32, kernel_size=(8, 8), stride=(2, 2))\n",
            "  (conv1_drop): Dropout2d(p=0.2, inplace=False)\n",
            "  (conv2): Conv2d(32, 32, kernel_size=(4, 4), stride=(2, 2))\n",
            "  (conv2_drop): Dropout2d(p=0.2, inplace=False)\n",
            "  (conv3): Conv2d(32, 32, kernel_size=(4, 4), stride=(2, 2))\n",
            "  (conv3_drop): Dropout2d(p=0.2, inplace=False)\n",
            "  (conv4): Conv2d(32, 32, kernel_size=(4, 4), stride=(1, 1))\n",
            "  (linear1_drop): Dropout(p=0.5, inplace=False)\n",
            "  (linear1): Linear(in_features=127872, out_features=256, bias=True)\n",
            "  (critic_linear): Linear(in_features=256, out_features=1, bias=True)\n",
            "  (dist): Categorical(\n",
            "    (linear): Linear(in_features=256, out_features=3, bias=True)\n",
            "  )\n",
            ")\n",
            "Total model size: 32791940\n",
            "DEBUG:gym-duckietown:[3.96238984 0.         0.57214693] corresponds to tile at (6, 0) which is not drivable: {'coords': (6, 0), 'kind': 'floor', 'angle': 0, 'drivable': False, 'texture': <gym_duckietown.graphics.Texture object at 0x7fb8f098cb70>, 'color': array([0.80274471, 1.08733245, 1.17056968])}\n",
            "DEBUG:gym-duckietown:Invalid pose. Collision free: True On drivable area: False\n",
            "DEBUG:gym-duckietown:safety_factor: 1.3\n",
            "DEBUG:gym-duckietown:pos: [3.96238984 0.         0.57214693]\n",
            "DEBUG:gym-duckietown:l_pos: [4.04515423 0.         0.62368629]\n",
            "DEBUG:gym-duckietown:r_pos: [3.87962545 0.         0.52060757]\n",
            "DEBUG:gym-duckietown:f_pos: [3.9005426 0.        0.6714642]\n",
            "DEBUG:gym-duckietown:[3.8660016  0.         0.56330884] corresponds to tile at (6, 0) which is not drivable: {'coords': (6, 0), 'kind': 'floor', 'angle': 0, 'drivable': False, 'texture': <gym_duckietown.graphics.Texture object at 0x7fb8f098cb70>, 'color': array([0.80274471, 1.08733245, 1.17056968])}\n",
            "DEBUG:gym-duckietown:Invalid pose. Collision free: True On drivable area: False\n",
            "DEBUG:gym-duckietown:safety_factor: 1.3\n",
            "DEBUG:gym-duckietown:pos: [3.88485411 0.         0.65896883]\n",
            "DEBUG:gym-duckietown:l_pos: [3.90370662 0.         0.75462881]\n",
            "DEBUG:gym-duckietown:r_pos: [3.8660016  0.         0.56330884]\n",
            "DEBUG:gym-duckietown:f_pos: [3.77006213 0.         0.68159184]\n",
            "INFO:gym-duckietown:Starting at [3.88611814 0.         0.89756142] 1.0725806592633205\n",
            "INFO:gym-duckietown:Pos: [3.88611814 0.         0.89756142] angle 1.0725806592633205\n",
            "torch.Size([1, 3, 640, 480])\n",
            "torch.Size([1, 32, 317, 237])\n",
            "torch.Size([1, 32, 157, 117])\n",
            "torch.Size([1, 32, 77, 57])\n",
            "torch.Size([1, 32, 74, 54])\n",
            "torch.Size([1, 127872])\n",
            "torch.Size([1, 127872])\n",
            "torch.Size([1, 256])\n",
            "INFO:gym-duckietown:Pos: [3.90170171 0.         0.86891452] angle 1.0725806592633205\n",
            "torch.Size([1, 3, 640, 480])\n",
            "torch.Size([1, 32, 317, 237])\n",
            "torch.Size([1, 32, 157, 117])\n",
            "torch.Size([1, 32, 77, 57])\n",
            "torch.Size([1, 32, 74, 54])\n",
            "torch.Size([1, 127872])\n",
            "torch.Size([1, 127872])\n",
            "torch.Size([1, 256])\n",
            "INFO:gym-duckietown:Pos: [3.91562608 0.         0.84468001] angle 1.0259931912922047\n",
            "torch.Size([1, 3, 640, 480])\n",
            "torch.Size([1, 32, 317, 237])\n",
            "torch.Size([1, 32, 157, 117])\n",
            "torch.Size([1, 32, 77, 57])\n",
            "torch.Size([1, 32, 74, 54])\n",
            "torch.Size([1, 127872])\n",
            "torch.Size([1, 127872])\n",
            "torch.Size([1, 256])\n",
            "INFO:gym-duckietown:Pos: [3.93066396 0.         0.82112025] angle 0.9794057233210889\n",
            "torch.Size([1, 3, 640, 480])\n",
            "torch.Size([1, 32, 317, 237])\n",
            "torch.Size([1, 32, 157, 117])\n",
            "torch.Size([1, 32, 77, 57])\n",
            "torch.Size([1, 32, 74, 54])\n",
            "torch.Size([1, 127872])\n",
            "torch.Size([1, 127872])\n",
            "torch.Size([1, 256])\n",
            "INFO:gym-duckietown:Pos: [3.94678271 0.         0.79828638] angle 0.9328182553499731\n",
            "torch.Size([1, 3, 640, 480])\n",
            "torch.Size([1, 32, 317, 237])\n",
            "torch.Size([1, 32, 157, 117])\n",
            "torch.Size([1, 32, 77, 57])\n",
            "torch.Size([1, 32, 74, 54])\n",
            "torch.Size([1, 127872])\n",
            "torch.Size([1, 127872])\n",
            "torch.Size([1, 256])\n",
            "INFO:gym-duckietown:Pos: [3.96290147 0.         0.77545252] angle 0.9794057233210889\n",
            "torch.Size([1, 3, 640, 480])\n",
            "torch.Size([1, 32, 317, 237])\n",
            "torch.Size([1, 32, 157, 117])\n",
            "torch.Size([1, 32, 77, 57])\n",
            "torch.Size([1, 32, 74, 54])\n",
            "torch.Size([1, 127872])\n",
            "torch.Size([1, 127872])\n",
            "torch.Size([1, 256])\n",
            "INFO:gym-duckietown:Pos: [3.97793935 0.         0.75189276] angle 1.0259931912922047\n",
            "torch.Size([1, 3, 640, 480])\n",
            "torch.Size([1, 32, 317, 237])\n",
            "torch.Size([1, 32, 157, 117])\n",
            "torch.Size([1, 32, 77, 57])\n",
            "torch.Size([1, 32, 74, 54])\n",
            "torch.Size([1, 127872])\n",
            "torch.Size([1, 127872])\n",
            "torch.Size([1, 256])\n",
            "INFO:gym-duckietown:Pos: [3.99484011 0.         0.72400268] angle 1.0259931912922047\n",
            "torch.Size([1, 3, 640, 480])\n",
            "torch.Size([1, 32, 317, 237])\n",
            "torch.Size([1, 32, 157, 117])\n",
            "torch.Size([1, 32, 77, 57])\n",
            "torch.Size([1, 32, 74, 54])\n",
            "torch.Size([1, 127872])\n",
            "torch.Size([1, 127872])\n",
            "torch.Size([1, 256])\n",
            "INFO:gym-duckietown:Pos: [4.00876448 0.         0.69976817] angle 1.0725806592633205\n",
            "torch.Size([1, 3, 640, 480])\n",
            "torch.Size([1, 32, 317, 237])\n",
            "torch.Size([1, 32, 157, 117])\n",
            "torch.Size([1, 32, 77, 57])\n",
            "torch.Size([1, 32, 74, 54])\n",
            "torch.Size([1, 127872])\n",
            "torch.Size([1, 127872])\n",
            "torch.Size([1, 256])\n",
            "INFO:gym-duckietown:Pos: [4.02268886 0.         0.67553365] angle 1.0259931912922047\n",
            "torch.Size([1, 3, 640, 480])\n",
            "torch.Size([1, 32, 317, 237])\n",
            "torch.Size([1, 32, 157, 117])\n",
            "torch.Size([1, 32, 77, 57])\n",
            "torch.Size([1, 32, 74, 54])\n",
            "torch.Size([1, 127872])\n",
            "torch.Size([1, 127872])\n",
            "torch.Size([1, 256])\n",
            "INFO:gym-duckietown:Pos: [4.03772674 0.         0.6519739 ] angle 0.9794057233210889\n",
            "torch.Size([1, 3, 640, 480])\n",
            "torch.Size([1, 32, 317, 237])\n",
            "torch.Size([1, 32, 157, 117])\n",
            "torch.Size([1, 32, 77, 57])\n",
            "torch.Size([1, 32, 74, 54])\n",
            "torch.Size([1, 127872])\n",
            "torch.Size([1, 127872])\n",
            "torch.Size([1, 256])\n",
            "INFO:gym-duckietown:Pos: [4.05384549 0.         0.62914003] angle 0.9328182553499731\n",
            "DEBUG:gym-duckietown:[4.09979937 0.         0.6930872 ] corresponds to tile at (7, 1) which is not drivable: {'coords': (7, 1), 'kind': 'floor', 'angle': 0, 'drivable': False, 'texture': <gym_duckietown.graphics.Texture object at 0x7fb8f098cb70>, 'color': array([1.19564281, 1.19192797, 1.09183385])}\n",
            "DEBUG:gym-duckietown:Invalid pose. Collision free: True On drivable area: False\n",
            "DEBUG:gym-duckietown:safety_factor: 1.0\n",
            "DEBUG:gym-duckietown:pos: [4.03955175 0.         0.64841927]\n",
            "DEBUG:gym-duckietown:l_pos: [3.97930413 0.         0.60375133]\n",
            "DEBUG:gym-duckietown:r_pos: [4.09979937 0.         0.6930872 ]\n",
            "DEBUG:gym-duckietown:f_pos: [4.09315327 0.         0.57612212]\n",
            "INFO:gym-duckietown:Stopping the simulator because we are at an invalid pose.\n",
            "DEBUG:gym-duckietown:[2.93413075 0.         3.06782007] corresponds to tile at (5, 5) which is not drivable: {'coords': (5, 5), 'kind': 'floor', 'angle': 0, 'drivable': False, 'texture': <gym_duckietown.graphics.Texture object at 0x7fb8f098cb70>, 'color': array([1.02489328, 0.99437296, 0.93687635])}\n",
            "DEBUG:gym-duckietown:Invalid pose. Collision free: True On drivable area: False\n",
            "DEBUG:gym-duckietown:safety_factor: 1.3\n",
            "DEBUG:gym-duckietown:pos: [2.81732124 0.         3.07449363]\n",
            "DEBUG:gym-duckietown:l_pos: [2.81175993 0.         2.97715237]\n",
            "DEBUG:gym-duckietown:r_pos: [2.82288254 0.         3.1718349 ]\n",
            "DEBUG:gym-duckietown:f_pos: [2.93413075 0.         3.06782007]\n",
            "INFO:gym-duckietown:Starting at [2.51884935 0.         3.03849855] 1.2242190236939934\n",
            "INFO:gym-duckietown:Pos: [2.51884935 0.         3.03849855] angle 1.2242190236939934\n",
            "torch.Size([1, 3, 640, 480])\n",
            "torch.Size([1, 32, 317, 237])\n",
            "torch.Size([1, 32, 157, 117])\n",
            "torch.Size([1, 32, 77, 57])\n",
            "torch.Size([1, 32, 74, 54])\n",
            "torch.Size([1, 127872])\n",
            "torch.Size([1, 127872])\n",
            "torch.Size([1, 256])\n",
            "INFO:gym-duckietown:Pos: [2.52992675 0.         3.00782635] angle 1.2242190236939934\n",
            "torch.Size([1, 3, 640, 480])\n",
            "torch.Size([1, 32, 317, 237])\n",
            "torch.Size([1, 32, 157, 117])\n",
            "torch.Size([1, 32, 77, 57])\n",
            "torch.Size([1, 32, 74, 54])\n",
            "torch.Size([1, 127872])\n",
            "torch.Size([1, 127872])\n",
            "torch.Size([1, 256])\n",
            "INFO:gym-duckietown:Pos: [2.53880594 0.         2.98132428] angle 1.2708064916651092\n",
            "torch.Size([1, 3, 640, 480])\n",
            "torch.Size([1, 32, 317, 237])\n",
            "torch.Size([1, 32, 157, 117])\n",
            "torch.Size([1, 32, 77, 57])\n",
            "torch.Size([1, 32, 74, 54])\n",
            "torch.Size([1, 127872])\n",
            "torch.Size([1, 127872])\n",
            "torch.Size([1, 256])\n",
            "INFO:gym-duckietown:Pos: [2.54644128 0.         2.95443745] angle 1.317393959636225\n",
            "torch.Size([1, 3, 640, 480])\n",
            "torch.Size([1, 32, 317, 237])\n",
            "torch.Size([1, 32, 157, 117])\n",
            "torch.Size([1, 32, 77, 57])\n",
            "torch.Size([1, 32, 74, 54])\n",
            "torch.Size([1, 127872])\n",
            "torch.Size([1, 127872])\n",
            "torch.Size([1, 256])\n",
            "INFO:gym-duckietown:Pos: [2.5528162  0.         2.92722422] angle 1.3639814276073408\n",
            "torch.Size([1, 3, 640, 480])\n",
            "torch.Size([1, 32, 317, 237])\n",
            "torch.Size([1, 32, 157, 117])\n",
            "torch.Size([1, 32, 77, 57])\n",
            "torch.Size([1, 32, 74, 54])\n",
            "torch.Size([1, 127872])\n",
            "torch.Size([1, 127872])\n",
            "torch.Size([1, 256])\n",
            "INFO:gym-duckietown:Pos: [2.55791686 0.         2.89974362] angle 1.4105688955784565\n",
            "torch.Size([1, 3, 640, 480])\n",
            "torch.Size([1, 32, 317, 237])\n",
            "torch.Size([1, 32, 157, 117])\n",
            "torch.Size([1, 32, 77, 57])\n",
            "torch.Size([1, 32, 74, 54])\n",
            "torch.Size([1, 127872])\n",
            "torch.Size([1, 127872])\n",
            "torch.Size([1, 256])\n",
            "INFO:gym-duckietown:Pos: [2.56301753 0.         2.87226303] angle 1.3639814276073408\n",
            "torch.Size([1, 3, 640, 480])\n",
            "torch.Size([1, 32, 317, 237])\n",
            "torch.Size([1, 32, 157, 117])\n",
            "torch.Size([1, 32, 77, 57])\n",
            "torch.Size([1, 32, 74, 54])\n",
            "torch.Size([1, 127872])\n",
            "torch.Size([1, 127872])\n",
            "torch.Size([1, 256])\n",
            "INFO:gym-duckietown:Pos: [2.56939244 0.         2.84504979] angle 1.317393959636225\n",
            "torch.Size([1, 3, 640, 480])\n",
            "torch.Size([1, 32, 317, 237])\n",
            "torch.Size([1, 32, 157, 117])\n",
            "torch.Size([1, 32, 77, 57])\n",
            "torch.Size([1, 32, 74, 54])\n",
            "torch.Size([1, 127872])\n",
            "torch.Size([1, 127872])\n",
            "torch.Size([1, 256])\n",
            "INFO:gym-duckietown:Pos: [2.57576736 0.         2.81783655] angle 1.3639814276073408\n",
            "torch.Size([1, 3, 640, 480])\n",
            "torch.Size([1, 32, 317, 237])\n",
            "torch.Size([1, 32, 157, 117])\n",
            "torch.Size([1, 32, 77, 57])\n",
            "torch.Size([1, 32, 74, 54])\n",
            "torch.Size([1, 127872])\n",
            "torch.Size([1, 127872])\n",
            "torch.Size([1, 256])\n",
            "INFO:gym-duckietown:Pos: [2.58086802 0.         2.79035596] angle 1.4105688955784565\n",
            "torch.Size([1, 3, 640, 480])\n",
            "torch.Size([1, 32, 317, 237])\n",
            "torch.Size([1, 32, 157, 117])\n",
            "torch.Size([1, 32, 77, 57])\n",
            "torch.Size([1, 32, 74, 54])\n",
            "torch.Size([1, 127872])\n",
            "torch.Size([1, 127872])\n",
            "torch.Size([1, 256])\n",
            "torch.Size([20, 3, 640, 480])\n",
            "torch.Size([20, 32, 317, 237])\n",
            "torch.Size([20, 32, 157, 117])\n",
            "torch.Size([20, 32, 77, 57])\n",
            "torch.Size([20, 32, 74, 54])\n",
            "torch.Size([20, 127872])\n",
            "torch.Size([20, 127872])\n",
            "torch.Size([20, 256])\n",
            "Updates 0, num timesteps 20, FPS 3, running avg reward 0.000, entropy 0.95833, value loss 0.83573, policy loss 0.74211\n",
            "torch.Size([1, 3, 640, 480])\n",
            "torch.Size([1, 32, 317, 237])\n",
            "torch.Size([1, 32, 157, 117])\n",
            "torch.Size([1, 32, 77, 57])\n",
            "torch.Size([1, 32, 74, 54])\n",
            "torch.Size([1, 127872])\n",
            "torch.Size([1, 127872])\n",
            "torch.Size([1, 256])\n",
            "INFO:gym-duckietown:Pos: [2.58468336 0.         2.76266764] angle 1.4571563635495723\n",
            "torch.Size([1, 3, 640, 480])\n",
            "torch.Size([1, 32, 317, 237])\n",
            "torch.Size([1, 32, 157, 117])\n",
            "torch.Size([1, 32, 77, 57])\n",
            "torch.Size([1, 32, 74, 54])\n",
            "torch.Size([1, 127872])\n",
            "torch.Size([1, 127872])\n",
            "torch.Size([1, 256])\n",
            "INFO:gym-duckietown:Pos: [2.5872051  0.         2.73483168] angle 1.5037438315206881\n",
            "torch.Size([1, 3, 640, 480])\n",
            "torch.Size([1, 32, 317, 237])\n",
            "torch.Size([1, 32, 157, 117])\n",
            "torch.Size([1, 32, 77, 57])\n",
            "torch.Size([1, 32, 74, 54])\n",
            "torch.Size([1, 127872])\n",
            "torch.Size([1, 127872])\n",
            "torch.Size([1, 256])\n",
            "INFO:gym-duckietown:Pos: [2.58842777 0.         2.70690848] angle 1.550331299491804\n",
            "torch.Size([1, 3, 640, 480])\n",
            "torch.Size([1, 32, 317, 237])\n",
            "torch.Size([1, 32, 157, 117])\n",
            "torch.Size([1, 32, 77, 57])\n",
            "torch.Size([1, 32, 74, 54])\n",
            "torch.Size([1, 127872])\n",
            "torch.Size([1, 127872])\n",
            "torch.Size([1, 256])\n",
            "INFO:gym-duckietown:Pos: [2.58834871 0.         2.67895864] angle 1.5969187674629197\n",
            "torch.Size([1, 3, 640, 480])\n",
            "torch.Size([1, 32, 317, 237])\n",
            "torch.Size([1, 32, 157, 117])\n",
            "torch.Size([1, 32, 77, 57])\n",
            "torch.Size([1, 32, 74, 54])\n",
            "torch.Size([1, 127872])\n",
            "torch.Size([1, 127872])\n",
            "torch.Size([1, 256])\n",
            "INFO:gym-duckietown:Pos: [2.58696809 0.         2.6510428 ] angle 1.6435062354340355\n",
            "torch.Size([1, 3, 640, 480])\n",
            "torch.Size([1, 32, 317, 237])\n",
            "torch.Size([1, 32, 157, 117])\n",
            "torch.Size([1, 32, 77, 57])\n",
            "torch.Size([1, 32, 74, 54])\n",
            "torch.Size([1, 127872])\n",
            "torch.Size([1, 127872])\n",
            "torch.Size([1, 256])\n",
            "INFO:gym-duckietown:Pos: [2.58428891 0.         2.62322155] angle 1.6900937034051513\n",
            "torch.Size([1, 3, 640, 480])\n",
            "torch.Size([1, 32, 317, 237])\n",
            "torch.Size([1, 32, 157, 117])\n",
            "torch.Size([1, 32, 77, 57])\n",
            "torch.Size([1, 32, 74, 54])\n",
            "torch.Size([1, 127872])\n",
            "torch.Size([1, 127872])\n",
            "torch.Size([1, 256])\n",
            "INFO:gym-duckietown:Pos: [2.58031699 0.         2.59555526] angle 1.736681171376267\n",
            "torch.Size([1, 3, 640, 480])\n",
            "torch.Size([1, 32, 317, 237])\n",
            "torch.Size([1, 32, 157, 117])\n",
            "torch.Size([1, 32, 77, 57])\n",
            "torch.Size([1, 32, 74, 54])\n",
            "torch.Size([1, 127872])\n",
            "torch.Size([1, 127872])\n",
            "torch.Size([1, 256])\n",
            "INFO:gym-duckietown:Pos: [2.57506094 0.         2.56810396] angle 1.7832686393473829\n",
            "torch.Size([1, 3, 640, 480])\n",
            "torch.Size([1, 32, 317, 237])\n",
            "torch.Size([1, 32, 157, 117])\n",
            "torch.Size([1, 32, 77, 57])\n",
            "torch.Size([1, 32, 74, 54])\n",
            "torch.Size([1, 127872])\n",
            "torch.Size([1, 127872])\n",
            "torch.Size([1, 256])\n",
            "INFO:gym-duckietown:Pos: [2.56853217 0.         2.54092723] angle 1.8298561073184987\n",
            "torch.Size([1, 3, 640, 480])\n",
            "torch.Size([1, 32, 317, 237])\n",
            "torch.Size([1, 32, 157, 117])\n",
            "torch.Size([1, 32, 77, 57])\n",
            "torch.Size([1, 32, 74, 54])\n",
            "torch.Size([1, 127872])\n",
            "torch.Size([1, 127872])\n",
            "torch.Size([1, 256])\n",
            "INFO:gym-duckietown:Pos: [2.56074484 0.         2.51408403] angle 1.8764435752896145\n",
            "torch.Size([1, 3, 640, 480])\n",
            "torch.Size([1, 32, 317, 237])\n",
            "torch.Size([1, 32, 157, 117])\n",
            "torch.Size([1, 32, 77, 57])\n",
            "torch.Size([1, 32, 74, 54])\n",
            "torch.Size([1, 127872])\n",
            "torch.Size([1, 127872])\n",
            "torch.Size([1, 256])\n",
            "INFO:gym-duckietown:Pos: [2.55171586 0.         2.48763261] angle 1.9230310432607303\n",
            "torch.Size([1, 3, 640, 480])\n",
            "torch.Size([1, 32, 317, 237])\n",
            "torch.Size([1, 32, 157, 117])\n",
            "torch.Size([1, 32, 77, 57])\n",
            "torch.Size([1, 32, 74, 54])\n",
            "torch.Size([1, 127872])\n",
            "torch.Size([1, 127872])\n",
            "torch.Size([1, 256])\n",
            "INFO:gym-duckietown:Pos: [2.54146482 0.         2.46163038] angle 1.969618511231846\n",
            "torch.Size([1, 3, 640, 480])\n",
            "torch.Size([1, 32, 317, 237])\n",
            "torch.Size([1, 32, 157, 117])\n",
            "torch.Size([1, 32, 77, 57])\n",
            "torch.Size([1, 32, 74, 54])\n",
            "torch.Size([1, 127872])\n",
            "torch.Size([1, 127872])\n",
            "torch.Size([1, 256])\n",
            "INFO:gym-duckietown:Pos: [2.53001396 0.         2.43613376] angle 2.016205979202962\n",
            "torch.Size([1, 3, 640, 480])\n",
            "torch.Size([1, 32, 317, 237])\n",
            "torch.Size([1, 32, 157, 117])\n",
            "torch.Size([1, 32, 77, 57])\n",
            "torch.Size([1, 32, 74, 54])\n",
            "torch.Size([1, 127872])\n",
            "torch.Size([1, 127872])\n",
            "torch.Size([1, 256])\n",
            "INFO:gym-duckietown:Pos: [2.51738813 0.         2.41119807] angle 2.062793447174078\n",
            "torch.Size([1, 3, 640, 480])\n",
            "torch.Size([1, 32, 317, 237])\n",
            "torch.Size([1, 32, 157, 117])\n",
            "torch.Size([1, 32, 77, 57])\n",
            "torch.Size([1, 32, 74, 54])\n",
            "torch.Size([1, 127872])\n",
            "torch.Size([1, 127872])\n",
            "torch.Size([1, 256])\n",
            "INFO:gym-duckietown:Pos: [2.50361473 0.         2.38687744] angle 2.1093809151451937\n",
            "DEBUG:gym-duckietown:[2.46976191 0.         2.33022069] corresponds to tile at (4, 3) which is not drivable: {'coords': (4, 3), 'kind': 'floor', 'angle': 0, 'drivable': False, 'texture': <gym_duckietown.graphics.Texture object at 0x7fb8f098cb70>, 'color': array([1.19274153, 0.84010025, 1.02526813])}\n",
            "DEBUG:gym-duckietown:Invalid pose. Collision free: True On drivable area: False\n",
            "DEBUG:gym-duckietown:safety_factor: 1.0\n",
            "DEBUG:gym-duckietown:pos: [2.51592485 0.         2.40747989]\n",
            "DEBUG:gym-duckietown:l_pos: [2.45154218 0.         2.445949  ]\n",
            "DEBUG:gym-duckietown:r_pos: [2.58030751 0.         2.36901078]\n",
            "DEBUG:gym-duckietown:f_pos: [2.46976191 0.         2.33022069]\n",
            "INFO:gym-duckietown:Stopping the simulator because we are at an invalid pose.\n",
            "INFO:gym-duckietown:Starting at [2.31335237 0.         2.99823713] 2.355267489486324\n",
            "INFO:gym-duckietown:Pos: [2.31335237 0.         2.99823713] angle 2.355267489486324\n",
            "torch.Size([1, 3, 640, 480])\n",
            "torch.Size([1, 32, 317, 237])\n",
            "torch.Size([1, 32, 157, 117])\n",
            "torch.Size([1, 32, 77, 57])\n",
            "torch.Size([1, 32, 74, 54])\n",
            "torch.Size([1, 127872])\n",
            "torch.Size([1, 127872])\n",
            "torch.Size([1, 256])\n",
            "INFO:gym-duckietown:Pos: [2.29315171 0.         2.97892048] angle 2.4018549574574397\n",
            "torch.Size([1, 3, 640, 480])\n",
            "torch.Size([1, 32, 317, 237])\n",
            "torch.Size([1, 32, 157, 117])\n",
            "torch.Size([1, 32, 77, 57])\n",
            "torch.Size([1, 32, 74, 54])\n",
            "torch.Size([1, 127872])\n",
            "torch.Size([1, 127872])\n",
            "torch.Size([1, 256])\n",
            "INFO:gym-duckietown:Pos: [2.27207337 0.         2.96056555] angle 2.4484424254285555\n",
            "DEBUG:gym-duckietown:[2.33845733 0.         2.9182079 ] corresponds to tile at (3, 4) which is not drivable: {'coords': (3, 4), 'kind': 'floor', 'angle': 0, 'drivable': False, 'texture': <gym_duckietown.graphics.Texture object at 0x7fb8f098cb70>, 'color': array([1.07876548, 1.16119966, 1.1278902 ])}\n",
            "DEBUG:gym-duckietown:Invalid pose. Collision free: True On drivable area: False\n",
            "DEBUG:gym-duckietown:safety_factor: 1.0\n",
            "DEBUG:gym-duckietown:pos: [2.29053505 0.         2.97590067]\n",
            "DEBUG:gym-duckietown:l_pos: [2.24261278 0.         3.03359345]\n",
            "DEBUG:gym-duckietown:r_pos: [2.33845733 0.         2.9182079 ]\n",
            "DEBUG:gym-duckietown:f_pos: [2.22130373 0.         2.91839395]\n",
            "INFO:gym-duckietown:Stopping the simulator because we are at an invalid pose.\n",
            "INFO:gym-duckietown:Starting at [0.72743937 0.         2.40398872] 1.9395288604722907\n",
            "INFO:gym-duckietown:Pos: [0.72743937 0.         2.40398872] angle 1.9395288604722907\n",
            "torch.Size([1, 3, 640, 480])\n",
            "torch.Size([1, 32, 317, 237])\n",
            "torch.Size([1, 32, 157, 117])\n",
            "torch.Size([1, 32, 77, 57])\n",
            "torch.Size([1, 32, 74, 54])\n",
            "torch.Size([1, 127872])\n",
            "torch.Size([1, 127872])\n",
            "torch.Size([1, 256])\n",
            "INFO:gym-duckietown:Pos: [0.71676076 0.         2.37815913] angle 1.9861163284434065\n",
            "torch.Size([1, 3, 640, 480])\n",
            "torch.Size([1, 32, 317, 237])\n",
            "torch.Size([1, 32, 157, 117])\n",
            "torch.Size([1, 32, 77, 57])\n",
            "torch.Size([1, 32, 74, 54])\n",
            "torch.Size([1, 127872])\n",
            "torch.Size([1, 127872])\n",
            "torch.Size([1, 256])\n",
            "INFO:gym-duckietown:Pos: [0.70489084 0.         2.35285489] angle 2.032703796414522\n",
            "torch.Size([1, 3, 640, 480])\n",
            "torch.Size([1, 32, 317, 237])\n",
            "torch.Size([1, 32, 157, 117])\n",
            "torch.Size([1, 32, 77, 57])\n",
            "torch.Size([1, 32, 74, 54])\n",
            "torch.Size([1, 127872])\n",
            "torch.Size([1, 127872])\n",
            "torch.Size([1, 256])\n",
            "INFO:gym-duckietown:Pos: [0.69185536 0.         2.32813089] angle 2.079291264385638\n",
            "torch.Size([1, 3, 640, 480])\n",
            "torch.Size([1, 32, 317, 237])\n",
            "torch.Size([1, 32, 157, 117])\n",
            "torch.Size([1, 32, 77, 57])\n",
            "torch.Size([1, 32, 74, 54])\n",
            "torch.Size([1, 127872])\n",
            "torch.Size([1, 127872])\n",
            "torch.Size([1, 256])\n",
            "torch.Size([20, 3, 640, 480])\n",
            "torch.Size([20, 32, 317, 237])\n",
            "torch.Size([20, 32, 157, 117])\n",
            "torch.Size([20, 32, 77, 57])\n",
            "torch.Size([20, 32, 74, 54])\n",
            "torch.Size([20, 127872])\n",
            "torch.Size([20, 127872])\n",
            "torch.Size([20, 256])\n",
            "torch.Size([1, 3, 640, 480])\n",
            "torch.Size([1, 32, 317, 237])\n",
            "torch.Size([1, 32, 157, 117])\n",
            "torch.Size([1, 32, 77, 57])\n",
            "torch.Size([1, 32, 74, 54])\n",
            "torch.Size([1, 127872])\n",
            "torch.Size([1, 127872])\n",
            "torch.Size([1, 256])\n",
            "INFO:gym-duckietown:Pos: [0.67768262 0.         2.30404078] angle 2.1258787323567536\n",
            "torch.Size([1, 3, 640, 480])\n",
            "torch.Size([1, 32, 317, 237])\n",
            "torch.Size([1, 32, 157, 117])\n",
            "torch.Size([1, 32, 77, 57])\n",
            "torch.Size([1, 32, 74, 54])\n",
            "torch.Size([1, 127872])\n",
            "torch.Size([1, 127872])\n",
            "torch.Size([1, 256])\n",
            "INFO:gym-duckietown:Pos: [0.66240336 0.         2.28063685] angle 2.1724662003278694\n",
            "torch.Size([1, 3, 640, 480])\n",
            "torch.Size([1, 32, 317, 237])\n",
            "torch.Size([1, 32, 157, 117])\n",
            "torch.Size([1, 32, 77, 57])\n",
            "torch.Size([1, 32, 74, 54])\n",
            "torch.Size([1, 127872])\n",
            "torch.Size([1, 127872])\n",
            "torch.Size([1, 256])\n",
            "INFO:gym-duckietown:Pos: [0.64605074 0.         2.25796987] angle 2.219053668298985\n",
            "torch.Size([1, 3, 640, 480])\n",
            "torch.Size([1, 32, 317, 237])\n",
            "torch.Size([1, 32, 157, 117])\n",
            "torch.Size([1, 32, 77, 57])\n",
            "torch.Size([1, 32, 74, 54])\n",
            "torch.Size([1, 127872])\n",
            "torch.Size([1, 127872])\n",
            "torch.Size([1, 256])\n",
            "INFO:gym-duckietown:Pos: [0.62969812 0.         2.2353029 ] angle 2.1724662003278694\n",
            "DEBUG:gym-duckietown:[0.58145323 0.         2.29753979] corresponds to tile at (0, 3) which is not drivable: {'coords': (0, 3), 'kind': 'floor', 'angle': 0, 'drivable': False, 'texture': <gym_duckietown.graphics.Texture object at 0x7fb8f098cb70>, 'color': array([1.17878328, 0.88947875, 1.16699612])}\n",
            "DEBUG:gym-duckietown:Invalid pose. Collision free: True On drivable area: False\n",
            "DEBUG:gym-duckietown:safety_factor: 1.0\n",
            "DEBUG:gym-duckietown:pos: [0.6432826  0.         2.25508829]\n",
            "DEBUG:gym-duckietown:l_pos: [0.58145323 0.         2.29753979]\n",
            "DEBUG:gym-duckietown:r_pos: [0.70511197 0.         2.2126368 ]\n",
            "DEBUG:gym-duckietown:f_pos: [0.59234081 0.         2.18089305]\n",
            "INFO:gym-duckietown:Stopping the simulator because we are at an invalid pose.\n",
            "INFO:gym-duckietown:Starting at [3.80473233 0.         1.74997706] 5.553228846874011\n",
            "INFO:gym-duckietown:Pos: [3.80473233 0.         1.74997706] angle 5.553228846874011\n",
            "torch.Size([1, 3, 640, 480])\n",
            "torch.Size([1, 32, 317, 237])\n",
            "torch.Size([1, 32, 157, 117])\n",
            "torch.Size([1, 32, 77, 57])\n",
            "torch.Size([1, 32, 74, 54])\n",
            "torch.Size([1, 127872])\n",
            "torch.Size([1, 127872])\n",
            "torch.Size([1, 256])\n",
            "INFO:gym-duckietown:Pos: [3.82598919 0.         1.76812494] angle 5.5998163148451265\n",
            "torch.Size([1, 3, 640, 480])\n",
            "torch.Size([1, 32, 317, 237])\n",
            "torch.Size([1, 32, 157, 117])\n",
            "torch.Size([1, 32, 77, 57])\n",
            "torch.Size([1, 32, 74, 54])\n",
            "torch.Size([1, 127872])\n",
            "torch.Size([1, 127872])\n",
            "torch.Size([1, 256])\n",
            "INFO:gym-duckietown:Pos: [3.84806815 0.         1.78526319] angle 5.646403782816242\n",
            "torch.Size([1, 3, 640, 480])\n",
            "torch.Size([1, 32, 317, 237])\n",
            "torch.Size([1, 32, 157, 117])\n",
            "torch.Size([1, 32, 77, 57])\n",
            "torch.Size([1, 32, 74, 54])\n",
            "torch.Size([1, 127872])\n",
            "torch.Size([1, 127872])\n",
            "torch.Size([1, 256])\n",
            "INFO:gym-duckietown:Pos: [3.87092129 0.         1.80135461] angle 5.692991250787358\n",
            "torch.Size([1, 3, 640, 480])\n",
            "torch.Size([1, 32, 317, 237])\n",
            "torch.Size([1, 32, 157, 117])\n",
            "torch.Size([1, 32, 77, 57])\n",
            "torch.Size([1, 32, 74, 54])\n",
            "torch.Size([1, 127872])\n",
            "torch.Size([1, 127872])\n",
            "torch.Size([1, 256])\n",
            "INFO:gym-duckietown:Pos: [3.89449902 0.         1.81636429] angle 5.739578718758474\n",
            "torch.Size([1, 3, 640, 480])\n",
            "torch.Size([1, 32, 317, 237])\n",
            "torch.Size([1, 32, 157, 117])\n",
            "torch.Size([1, 32, 77, 57])\n",
            "torch.Size([1, 32, 74, 54])\n",
            "torch.Size([1, 127872])\n",
            "torch.Size([1, 127872])\n",
            "torch.Size([1, 256])\n",
            "INFO:gym-duckietown:Pos: [3.91875018 0.         1.83025966] angle 5.78616618672959\n",
            "torch.Size([1, 3, 640, 480])\n",
            "torch.Size([1, 32, 317, 237])\n",
            "torch.Size([1, 32, 157, 117])\n",
            "torch.Size([1, 32, 77, 57])\n",
            "torch.Size([1, 32, 74, 54])\n",
            "torch.Size([1, 127872])\n",
            "torch.Size([1, 127872])\n",
            "torch.Size([1, 256])\n",
            "INFO:gym-duckietown:Pos: [3.94362214 0.         1.84301055] angle 5.8327536547007055\n",
            "torch.Size([1, 3, 640, 480])\n",
            "torch.Size([1, 32, 317, 237])\n",
            "torch.Size([1, 32, 157, 117])\n",
            "torch.Size([1, 32, 77, 57])\n",
            "torch.Size([1, 32, 74, 54])\n",
            "torch.Size([1, 127872])\n",
            "torch.Size([1, 127872])\n",
            "torch.Size([1, 256])\n",
            "INFO:gym-duckietown:Pos: [3.96906094 0.         1.85458931] angle 5.879341122671821\n",
            "torch.Size([1, 3, 640, 480])\n",
            "torch.Size([1, 32, 317, 237])\n",
            "torch.Size([1, 32, 157, 117])\n",
            "torch.Size([1, 32, 77, 57])\n",
            "torch.Size([1, 32, 74, 54])\n",
            "torch.Size([1, 127872])\n",
            "torch.Size([1, 127872])\n",
            "torch.Size([1, 256])\n",
            "INFO:gym-duckietown:Pos: [3.99501136 0.         1.86497081] angle 5.925928590642937\n",
            "torch.Size([1, 3, 640, 480])\n",
            "torch.Size([1, 32, 317, 237])\n",
            "torch.Size([1, 32, 157, 117])\n",
            "torch.Size([1, 32, 77, 57])\n",
            "torch.Size([1, 32, 74, 54])\n",
            "torch.Size([1, 127872])\n",
            "torch.Size([1, 127872])\n",
            "torch.Size([1, 256])\n",
            "INFO:gym-duckietown:Pos: [4.0214171  0.         1.87413251] angle 5.972516058614053\n",
            "torch.Size([1, 3, 640, 480])\n",
            "torch.Size([1, 32, 317, 237])\n",
            "torch.Size([1, 32, 157, 117])\n",
            "torch.Size([1, 32, 77, 57])\n",
            "torch.Size([1, 32, 74, 54])\n",
            "torch.Size([1, 127872])\n",
            "torch.Size([1, 127872])\n",
            "torch.Size([1, 256])\n",
            "INFO:gym-duckietown:Pos: [4.04822085 0.         1.88205455] angle 6.019103526585169\n",
            "DEBUG:gym-duckietown:[4.1119328  0.         1.89928206] corresponds to tile at (7, 3) which is not drivable: {'coords': (7, 3), 'kind': 'floor', 'angle': 0, 'drivable': False, 'texture': <gym_duckietown.graphics.Texture object at 0x7fb8f098cb70>, 'color': array([0.85998303, 1.03217935, 1.12182358])}\n",
            "DEBUG:gym-duckietown:Invalid pose. Collision free: True On drivable area: False\n",
            "DEBUG:gym-duckietown:safety_factor: 1.0\n",
            "DEBUG:gym-duckietown:pos: [4.02505287 0.         1.87578999]\n",
            "DEBUG:gym-duckietown:l_pos: [4.04462959 0.         1.80339005]\n",
            "DEBUG:gym-duckietown:r_pos: [4.00547615 0.         1.94818994]\n",
            "DEBUG:gym-duckietown:f_pos: [4.1119328  0.         1.89928206]\n",
            "INFO:gym-duckietown:Stopping the simulator because we are at an invalid pose.\n",
            "DEBUG:gym-duckietown:[2.33927555 0.         2.89314757] corresponds to tile at (3, 4) which is not drivable: {'coords': (3, 4), 'kind': 'floor', 'angle': 0, 'drivable': False, 'texture': <gym_duckietown.graphics.Texture object at 0x7fb8f098cb70>, 'color': array([1.1446817 , 1.0708342 , 0.87291033])}\n",
            "DEBUG:gym-duckietown:Invalid pose. Collision free: True On drivable area: False\n",
            "DEBUG:gym-duckietown:safety_factor: 1.3\n",
            "DEBUG:gym-duckietown:pos: [2.33630021 0.         2.99060216]\n",
            "DEBUG:gym-duckietown:l_pos: [2.33927555 0.         2.89314757]\n",
            "DEBUG:gym-duckietown:r_pos: [2.33332487 0.         3.08805676]\n",
            "DEBUG:gym-duckietown:f_pos: [2.45324572 0.         2.99417257]\n",
            "DEBUG:gym-duckietown:[2.94855333 0.         3.07026396] corresponds to tile at (5, 5) which is not drivable: {'coords': (5, 5), 'kind': 'floor', 'angle': 0, 'drivable': False, 'texture': <gym_duckietown.graphics.Texture object at 0x7fb8f098cb70>, 'color': array([0.98202998, 0.94267257, 0.99543083])}\n",
            "DEBUG:gym-duckietown:Invalid pose. Collision free: True On drivable area: False\n",
            "DEBUG:gym-duckietown:safety_factor: 1.3\n",
            "DEBUG:gym-duckietown:pos: [2.8782296 0.        3.0027301]\n",
            "DEBUG:gym-duckietown:l_pos: [2.80790586 0.         2.93519624]\n",
            "DEBUG:gym-duckietown:r_pos: [2.94855333 0.         3.07026396]\n",
            "DEBUG:gym-duckietown:f_pos: [2.95927023 0.         2.91834161]\n",
            "DEBUG:gym-duckietown:[2.92660192 0.         2.9967226 ] corresponds to tile at (5, 5) which is not drivable: {'coords': (5, 5), 'kind': 'floor', 'angle': 0, 'drivable': False, 'texture': <gym_duckietown.graphics.Texture object at 0x7fb8f098cb70>, 'color': array([0.98202998, 0.94267257, 0.99543083])}\n",
            "DEBUG:gym-duckietown:Invalid pose. Collision free: True On drivable area: False\n",
            "DEBUG:gym-duckietown:safety_factor: 1.3\n",
            "DEBUG:gym-duckietown:pos: [2.83424357 0.         3.02796656]\n",
            "DEBUG:gym-duckietown:l_pos: [2.92660192 0.         2.9967226 ]\n",
            "DEBUG:gym-duckietown:r_pos: [2.74188522 0.         3.05921051]\n",
            "DEBUG:gym-duckietown:f_pos: [2.87173632 0.         3.13879658]\n",
            "INFO:gym-duckietown:Starting at [2.65117205 0.         2.99201882] 1.9979713245866442\n",
            "INFO:gym-duckietown:Pos: [2.65117205 0.         2.99201882] angle 1.9979713245866442\n",
            "torch.Size([1, 3, 640, 480])\n",
            "torch.Size([1, 32, 317, 237])\n",
            "torch.Size([1, 32, 157, 117])\n",
            "torch.Size([1, 32, 77, 57])\n",
            "torch.Size([1, 32, 74, 54])\n",
            "torch.Size([1, 127872])\n",
            "torch.Size([1, 127872])\n",
            "torch.Size([1, 256])\n",
            "INFO:gym-duckietown:Pos: [2.64018799 0.         2.96631765] angle 1.9513838566155284\n",
            "torch.Size([1, 3, 640, 480])\n",
            "torch.Size([1, 32, 317, 237])\n",
            "torch.Size([1, 32, 157, 117])\n",
            "torch.Size([1, 32, 77, 57])\n",
            "torch.Size([1, 32, 74, 54])\n",
            "torch.Size([1, 127872])\n",
            "torch.Size([1, 127872])\n",
            "torch.Size([1, 256])\n",
            "INFO:gym-duckietown:Pos: [2.62920393 0.         2.94061647] angle 1.9979713245866442\n",
            "torch.Size([1, 3, 640, 480])\n",
            "torch.Size([1, 32, 317, 237])\n",
            "torch.Size([1, 32, 157, 117])\n",
            "torch.Size([1, 32, 77, 57])\n",
            "torch.Size([1, 32, 74, 54])\n",
            "torch.Size([1, 127872])\n",
            "torch.Size([1, 127872])\n",
            "torch.Size([1, 256])\n",
            "INFO:gym-duckietown:Pos: [2.61703487 0.         2.91545472] angle 2.0445587925577597\n",
            "torch.Size([1, 3, 640, 480])\n",
            "torch.Size([1, 32, 317, 237])\n",
            "torch.Size([1, 32, 157, 117])\n",
            "torch.Size([1, 32, 77, 57])\n",
            "torch.Size([1, 32, 74, 54])\n",
            "torch.Size([1, 127872])\n",
            "torch.Size([1, 127872])\n",
            "torch.Size([1, 256])\n",
            "INFO:gym-duckietown:Pos: [2.60370721 0.         2.89088699] angle 2.0911462605288755\n",
            "torch.Size([1, 3, 640, 480])\n",
            "torch.Size([1, 32, 317, 237])\n",
            "torch.Size([1, 32, 157, 117])\n",
            "torch.Size([1, 32, 77, 57])\n",
            "torch.Size([1, 32, 74, 54])\n",
            "torch.Size([1, 127872])\n",
            "torch.Size([1, 127872])\n",
            "torch.Size([1, 256])\n",
            "INFO:gym-duckietown:Pos: [2.58924988 0.         2.86696659] angle 2.1377337284999913\n",
            "torch.Size([1, 3, 640, 480])\n",
            "torch.Size([1, 32, 317, 237])\n",
            "torch.Size([1, 32, 157, 117])\n",
            "torch.Size([1, 32, 77, 57])\n",
            "torch.Size([1, 32, 74, 54])\n",
            "torch.Size([1, 127872])\n",
            "torch.Size([1, 127872])\n",
            "torch.Size([1, 256])\n",
            "INFO:gym-duckietown:Pos: [2.57369425 0.         2.84374543] angle 2.184321196471107\n",
            "torch.Size([1, 3, 640, 480])\n",
            "torch.Size([1, 32, 317, 237])\n",
            "torch.Size([1, 32, 157, 117])\n",
            "torch.Size([1, 32, 77, 57])\n",
            "torch.Size([1, 32, 74, 54])\n",
            "torch.Size([1, 127872])\n",
            "torch.Size([1, 127872])\n",
            "torch.Size([1, 256])\n",
            "torch.Size([20, 3, 640, 480])\n",
            "torch.Size([20, 32, 317, 237])\n",
            "torch.Size([20, 32, 157, 117])\n",
            "torch.Size([20, 32, 77, 57])\n",
            "torch.Size([20, 32, 74, 54])\n",
            "torch.Size([20, 127872])\n",
            "torch.Size([20, 127872])\n",
            "torch.Size([20, 256])\n",
            "torch.Size([1, 3, 640, 480])\n",
            "torch.Size([1, 32, 317, 237])\n",
            "torch.Size([1, 32, 157, 117])\n",
            "torch.Size([1, 32, 77, 57])\n",
            "torch.Size([1, 32, 74, 54])\n",
            "torch.Size([1, 127872])\n",
            "torch.Size([1, 127872])\n",
            "torch.Size([1, 256])\n",
            "INFO:gym-duckietown:Pos: [2.55707407 0.         2.8212739 ] angle 2.230908664442223\n",
            "torch.Size([1, 3, 640, 480])\n",
            "torch.Size([1, 32, 317, 237])\n",
            "torch.Size([1, 32, 157, 117])\n",
            "torch.Size([1, 32, 77, 57])\n",
            "torch.Size([1, 32, 74, 54])\n",
            "torch.Size([1, 127872])\n",
            "torch.Size([1, 127872])\n",
            "torch.Size([1, 256])\n",
            "INFO:gym-duckietown:Pos: [2.53942541 0.         2.79960077] angle 2.2774961324133387\n",
            "torch.Size([1, 3, 640, 480])\n",
            "torch.Size([1, 32, 317, 237])\n",
            "torch.Size([1, 32, 157, 117])\n",
            "torch.Size([1, 32, 77, 57])\n",
            "torch.Size([1, 32, 74, 54])\n",
            "torch.Size([1, 127872])\n",
            "torch.Size([1, 127872])\n",
            "torch.Size([1, 256])\n",
            "INFO:gym-duckietown:Pos: [2.52078657 0.         2.77877306] angle 2.3240836003844545\n",
            "torch.Size([1, 3, 640, 480])\n",
            "torch.Size([1, 32, 317, 237])\n",
            "torch.Size([1, 32, 157, 117])\n",
            "torch.Size([1, 32, 77, 57])\n",
            "torch.Size([1, 32, 74, 54])\n",
            "torch.Size([1, 127872])\n",
            "torch.Size([1, 127872])\n",
            "torch.Size([1, 256])\n",
            "INFO:gym-duckietown:Pos: [2.50119799 0.         2.75883597] angle 2.3706710683555703\n",
            "torch.Size([1, 3, 640, 480])\n",
            "torch.Size([1, 32, 317, 237])\n",
            "torch.Size([1, 32, 157, 117])\n",
            "torch.Size([1, 32, 77, 57])\n",
            "torch.Size([1, 32, 74, 54])\n",
            "torch.Size([1, 127872])\n",
            "torch.Size([1, 127872])\n",
            "torch.Size([1, 256])\n",
            "INFO:gym-duckietown:Pos: [2.48070219 0.         2.73983277] angle 2.417258536326686\n",
            "torch.Size([1, 3, 640, 480])\n",
            "torch.Size([1, 32, 317, 237])\n",
            "torch.Size([1, 32, 157, 117])\n",
            "torch.Size([1, 32, 77, 57])\n",
            "torch.Size([1, 32, 74, 54])\n",
            "torch.Size([1, 127872])\n",
            "torch.Size([1, 127872])\n",
            "torch.Size([1, 256])\n",
            "INFO:gym-duckietown:Pos: [2.45934363 0.         2.72180468] angle 2.463846004297802\n",
            "torch.Size([1, 3, 640, 480])\n",
            "torch.Size([1, 32, 317, 237])\n",
            "torch.Size([1, 32, 157, 117])\n",
            "torch.Size([1, 32, 77, 57])\n",
            "torch.Size([1, 32, 74, 54])\n",
            "torch.Size([1, 127872])\n",
            "torch.Size([1, 127872])\n",
            "torch.Size([1, 256])\n",
            "INFO:gym-duckietown:Pos: [2.43716867 0.         2.70479084] angle 2.5104334722689177\n",
            "torch.Size([1, 3, 640, 480])\n",
            "torch.Size([1, 32, 317, 237])\n",
            "torch.Size([1, 32, 157, 117])\n",
            "torch.Size([1, 32, 77, 57])\n",
            "torch.Size([1, 32, 74, 54])\n",
            "torch.Size([1, 127872])\n",
            "torch.Size([1, 127872])\n",
            "torch.Size([1, 256])\n",
            "INFO:gym-duckietown:Pos: [2.41422542 0.         2.68882816] angle 2.5570209402400335\n",
            "torch.Size([1, 3, 640, 480])\n",
            "torch.Size([1, 32, 317, 237])\n",
            "torch.Size([1, 32, 157, 117])\n",
            "torch.Size([1, 32, 77, 57])\n",
            "torch.Size([1, 32, 74, 54])\n",
            "torch.Size([1, 127872])\n",
            "torch.Size([1, 127872])\n",
            "torch.Size([1, 256])\n",
            "INFO:gym-duckietown:Pos: [2.39056367 0.         2.67395127] angle 2.6036084082111492\n",
            "DEBUG:gym-duckietown:[2.33388661 0.         2.64013248] corresponds to tile at (3, 4) which is not drivable: {'coords': (3, 4), 'kind': 'floor', 'angle': 0, 'drivable': False, 'texture': <gym_duckietown.graphics.Texture object at 0x7fb8f098cb70>, 'color': array([1.1446817 , 1.0708342 , 0.87291033])}\n",
            "DEBUG:gym-duckietown:Invalid pose. Collision free: True On drivable area: False\n",
            "DEBUG:gym-duckietown:safety_factor: 1.0\n",
            "DEBUG:gym-duckietown:pos: [2.41117351 0.         2.68624902]\n",
            "DEBUG:gym-duckietown:l_pos: [2.37274306 0.         2.75065477]\n",
            "DEBUG:gym-duckietown:r_pos: [2.44960396 0.         2.62184327]\n",
            "DEBUG:gym-duckietown:f_pos: [2.33388661 0.         2.64013248]\n",
            "INFO:gym-duckietown:Stopping the simulator because we are at an invalid pose.\n",
            "DEBUG:gym-duckietown:[4.16687953 0.         0.98495374] corresponds to tile at (7, 1) which is not drivable: {'coords': (7, 1), 'kind': 'floor', 'angle': 0, 'drivable': False, 'texture': <gym_duckietown.graphics.Texture object at 0x7fb8f098cb70>, 'color': array([0.94229236, 0.90632719, 0.84049494])}\n",
            "DEBUG:gym-duckietown:Invalid pose. Collision free: True On drivable area: False\n",
            "DEBUG:gym-duckietown:safety_factor: 1.3\n",
            "DEBUG:gym-duckietown:pos: [4.05052331 0.         0.99721062]\n",
            "DEBUG:gym-duckietown:l_pos: [4.04030925 0.         0.90024711]\n",
            "DEBUG:gym-duckietown:r_pos: [4.06073738 0.         1.09417413]\n",
            "DEBUG:gym-duckietown:f_pos: [4.16687953 0.         0.98495374]\n",
            "DEBUG:gym-duckietown:[3.57452261 0.         0.55924459] corresponds to tile at (6, 0) which is not drivable: {'coords': (6, 0), 'kind': 'floor', 'angle': 0, 'drivable': False, 'texture': <gym_duckietown.graphics.Texture object at 0x7fb8f098cb70>, 'color': array([1.14103263, 0.955098  , 1.13439603])}\n",
            "DEBUG:gym-duckietown:Invalid pose. Collision free: True On drivable area: False\n",
            "DEBUG:gym-duckietown:safety_factor: 1.3\n",
            "DEBUG:gym-duckietown:pos: [3.59052179 0.         0.65542295]\n",
            "DEBUG:gym-duckietown:l_pos: [3.60652096 0.         0.75160131]\n",
            "DEBUG:gym-duckietown:r_pos: [3.57452261 0.         0.55924459]\n",
            "DEBUG:gym-duckietown:f_pos: [3.47510776 0.         0.67462196]\n",
            "INFO:gym-duckietown:Starting at [3.76615269 0.         0.86774197] 3.4748209676374997\n",
            "INFO:gym-duckietown:Pos: [3.76615269 0.         0.86774197] angle 3.4748209676374997\n",
            "torch.Size([1, 3, 640, 480])\n",
            "torch.Size([1, 32, 317, 237])\n",
            "torch.Size([1, 32, 157, 117])\n",
            "torch.Size([1, 32, 77, 57])\n",
            "torch.Size([1, 32, 74, 54])\n",
            "torch.Size([1, 127872])\n",
            "torch.Size([1, 127872])\n",
            "torch.Size([1, 256])\n",
            "INFO:gym-duckietown:Pos: [3.73996033 0.         0.87749698] angle 3.5214084356086155\n",
            "torch.Size([1, 3, 640, 480])\n",
            "torch.Size([1, 32, 317, 237])\n",
            "torch.Size([1, 32, 157, 117])\n",
            "torch.Size([1, 32, 77, 57])\n",
            "torch.Size([1, 32, 74, 54])\n",
            "torch.Size([1, 127872])\n",
            "torch.Size([1, 127872])\n",
            "torch.Size([1, 256])\n",
            "INFO:gym-duckietown:Pos: [3.71425068 0.         0.8884612 ] angle 3.5679959035797313\n",
            "torch.Size([1, 3, 640, 480])\n",
            "torch.Size([1, 32, 317, 237])\n",
            "torch.Size([1, 32, 157, 117])\n",
            "torch.Size([1, 32, 77, 57])\n",
            "torch.Size([1, 32, 74, 54])\n",
            "torch.Size([1, 127872])\n",
            "torch.Size([1, 127872])\n",
            "torch.Size([1, 256])\n",
            "INFO:gym-duckietown:Pos: [3.68907955 0.         0.90061084] angle 3.614583371550847\n",
            "torch.Size([1, 3, 640, 480])\n",
            "torch.Size([1, 32, 317, 237])\n",
            "torch.Size([1, 32, 157, 117])\n",
            "torch.Size([1, 32, 77, 57])\n",
            "torch.Size([1, 32, 74, 54])\n",
            "torch.Size([1, 127872])\n",
            "torch.Size([1, 127872])\n",
            "torch.Size([1, 256])\n",
            "INFO:gym-duckietown:Pos: [3.66450154 0.         0.91391953] angle 3.661170839521963\n",
            "torch.Size([1, 3, 640, 480])\n",
            "torch.Size([1, 32, 317, 237])\n",
            "torch.Size([1, 32, 157, 117])\n",
            "torch.Size([1, 32, 77, 57])\n",
            "torch.Size([1, 32, 74, 54])\n",
            "torch.Size([1, 127872])\n",
            "torch.Size([1, 127872])\n",
            "torch.Size([1, 256])\n",
            "INFO:gym-duckietown:Pos: [3.64056999 0.         0.9283584 ] angle 3.7077583074930787\n",
            "torch.Size([1, 3, 640, 480])\n",
            "torch.Size([1, 32, 317, 237])\n",
            "torch.Size([1, 32, 157, 117])\n",
            "torch.Size([1, 32, 77, 57])\n",
            "torch.Size([1, 32, 74, 54])\n",
            "torch.Size([1, 127872])\n",
            "torch.Size([1, 127872])\n",
            "torch.Size([1, 256])\n",
            "INFO:gym-duckietown:Pos: [3.61733683 0.         0.94389611] angle 3.7543457754641945\n",
            "torch.Size([1, 3, 640, 480])\n",
            "torch.Size([1, 32, 317, 237])\n",
            "torch.Size([1, 32, 157, 117])\n",
            "torch.Size([1, 32, 77, 57])\n",
            "torch.Size([1, 32, 74, 54])\n",
            "torch.Size([1, 127872])\n",
            "torch.Size([1, 127872])\n",
            "torch.Size([1, 256])\n",
            "INFO:gym-duckietown:Pos: [3.59485249 0.         0.96049894] angle 3.8009332434353102\n",
            "torch.Size([1, 3, 640, 480])\n",
            "torch.Size([1, 32, 317, 237])\n",
            "torch.Size([1, 32, 157, 117])\n",
            "torch.Size([1, 32, 77, 57])\n",
            "torch.Size([1, 32, 74, 54])\n",
            "torch.Size([1, 127872])\n",
            "torch.Size([1, 127872])\n",
            "torch.Size([1, 256])\n",
            "INFO:gym-duckietown:Pos: [3.57316574 0.         0.97813086] angle 3.847520711406426\n",
            "torch.Size([1, 3, 640, 480])\n",
            "torch.Size([1, 32, 317, 237])\n",
            "torch.Size([1, 32, 157, 117])\n",
            "torch.Size([1, 32, 77, 57])\n",
            "torch.Size([1, 32, 74, 54])\n",
            "torch.Size([1, 127872])\n",
            "torch.Size([1, 127872])\n",
            "torch.Size([1, 256])\n",
            "INFO:gym-duckietown:Pos: [3.55232365 0.         0.99675362] angle 3.894108179377542\n",
            "torch.Size([1, 3, 640, 480])\n",
            "torch.Size([1, 32, 317, 237])\n",
            "torch.Size([1, 32, 157, 117])\n",
            "torch.Size([1, 32, 77, 57])\n",
            "torch.Size([1, 32, 74, 54])\n",
            "torch.Size([1, 127872])\n",
            "torch.Size([1, 127872])\n",
            "torch.Size([1, 256])\n",
            "INFO:gym-duckietown:Pos: [3.53237145 0.         1.01632681] angle 3.9406956473486576\n",
            "torch.Size([1, 3, 640, 480])\n",
            "torch.Size([1, 32, 317, 237])\n",
            "torch.Size([1, 32, 157, 117])\n",
            "torch.Size([1, 32, 77, 57])\n",
            "torch.Size([1, 32, 74, 54])\n",
            "torch.Size([1, 127872])\n",
            "torch.Size([1, 127872])\n",
            "torch.Size([1, 256])\n",
            "INFO:gym-duckietown:Pos: [3.51335243 0.         1.03680794] angle 3.9872831153197734\n",
            "torch.Size([1, 3, 640, 480])\n",
            "torch.Size([1, 32, 317, 237])\n",
            "torch.Size([1, 32, 157, 117])\n",
            "torch.Size([1, 32, 77, 57])\n",
            "torch.Size([1, 32, 74, 54])\n",
            "torch.Size([1, 127872])\n",
            "torch.Size([1, 127872])\n",
            "torch.Size([1, 256])\n",
            "torch.Size([20, 3, 640, 480])\n",
            "torch.Size([20, 32, 317, 237])\n",
            "torch.Size([20, 32, 157, 117])\n",
            "torch.Size([20, 32, 77, 57])\n",
            "torch.Size([20, 32, 74, 54])\n",
            "torch.Size([20, 127872])\n",
            "torch.Size([20, 127872])\n",
            "torch.Size([20, 256])\n",
            "torch.Size([1, 3, 640, 480])\n",
            "torch.Size([1, 32, 317, 237])\n",
            "torch.Size([1, 32, 157, 117])\n",
            "torch.Size([1, 32, 77, 57])\n",
            "torch.Size([1, 32, 74, 54])\n",
            "torch.Size([1, 127872])\n",
            "torch.Size([1, 127872])\n",
            "torch.Size([1, 256])\n",
            "INFO:gym-duckietown:Pos: [3.49530787 0.         1.05815258] angle 4.03387058329089\n",
            "torch.Size([1, 3, 640, 480])\n",
            "torch.Size([1, 32, 317, 237])\n",
            "torch.Size([1, 32, 157, 117])\n",
            "torch.Size([1, 32, 77, 57])\n",
            "torch.Size([1, 32, 74, 54])\n",
            "torch.Size([1, 127872])\n",
            "torch.Size([1, 127872])\n",
            "torch.Size([1, 256])\n",
            "INFO:gym-duckietown:Pos: [3.47827692 0.         1.08031441] angle 4.0804580512620054\n",
            "torch.Size([1, 3, 640, 480])\n",
            "torch.Size([1, 32, 317, 237])\n",
            "torch.Size([1, 32, 157, 117])\n",
            "torch.Size([1, 32, 77, 57])\n",
            "torch.Size([1, 32, 74, 54])\n",
            "torch.Size([1, 127872])\n",
            "torch.Size([1, 127872])\n",
            "torch.Size([1, 256])\n",
            "INFO:gym-duckietown:Pos: [3.46229653 0.         1.10324533] angle 4.127045519233121\n",
            "torch.Size([1, 3, 640, 480])\n",
            "torch.Size([1, 32, 317, 237])\n",
            "torch.Size([1, 32, 157, 117])\n",
            "torch.Size([1, 32, 77, 57])\n",
            "torch.Size([1, 32, 74, 54])\n",
            "torch.Size([1, 127872])\n",
            "torch.Size([1, 127872])\n",
            "torch.Size([1, 256])\n",
            "INFO:gym-duckietown:Pos: [3.4474014  0.         1.12689559] angle 4.173632987204237\n",
            "DEBUG:gym-duckietown:[3.41353887 0.         1.18354653] corresponds to tile at (5, 2) which is not drivable: {'coords': (5, 2), 'kind': 'floor', 'angle': 0, 'drivable': False, 'texture': <gym_duckietown.graphics.Texture object at 0x7fb8f098cb70>, 'color': array([1.17784529, 0.91907868, 0.98632082])}\n",
            "DEBUG:gym-duckietown:Invalid pose. Collision free: True On drivable area: False\n",
            "DEBUG:gym-duckietown:safety_factor: 1.0\n",
            "DEBUG:gym-duckietown:pos: [3.45971504 0.         1.10629525]\n",
            "DEBUG:gym-duckietown:l_pos: [3.52409111 0.         1.14477539]\n",
            "DEBUG:gym-duckietown:r_pos: [3.39533897 0.         1.0678151 ]\n",
            "DEBUG:gym-duckietown:f_pos: [3.41353887 0.         1.18354653]\n",
            "INFO:gym-duckietown:Stopping the simulator because we are at an invalid pose.\n",
            "DEBUG:gym-duckietown:[2.33967097 0.         2.58224275] corresponds to tile at (3, 4) which is not drivable: {'coords': (3, 4), 'kind': 'floor', 'angle': 0, 'drivable': False, 'texture': <gym_duckietown.graphics.Texture object at 0x7fb8f098cb70>, 'color': array([1.11906539, 0.80514938, 0.81887207])}\n",
            "DEBUG:gym-duckietown:Invalid pose. Collision free: True On drivable area: False\n",
            "DEBUG:gym-duckietown:safety_factor: 1.3\n",
            "DEBUG:gym-duckietown:pos: [2.33967097 0.         2.58224275]\n",
            "DEBUG:gym-duckietown:l_pos: [2.38569639 0.         2.49628979]\n",
            "DEBUG:gym-duckietown:r_pos: [2.29364555 0.         2.6681957 ]\n",
            "DEBUG:gym-duckietown:f_pos: [2.44281452 0.         2.63747325]\n",
            "INFO:gym-duckietown:Starting at [2.50358847 0.         2.43996894] 3.0808281235680477\n",
            "INFO:gym-duckietown:Pos: [2.50358847 0.         2.43996894] angle 3.0808281235680477\n",
            "torch.Size([1, 3, 640, 480])\n",
            "torch.Size([1, 32, 317, 237])\n",
            "torch.Size([1, 32, 157, 117])\n",
            "torch.Size([1, 32, 77, 57])\n",
            "torch.Size([1, 32, 74, 54])\n",
            "torch.Size([1, 127872])\n",
            "torch.Size([1, 127872])\n",
            "torch.Size([1, 256])\n",
            "INFO:gym-duckietown:Pos: [2.47565813 0.         2.43892188] angle 3.1274155915391635\n",
            "torch.Size([1, 3, 640, 480])\n",
            "torch.Size([1, 32, 317, 237])\n",
            "torch.Size([1, 32, 157, 117])\n",
            "torch.Size([1, 32, 77, 57])\n",
            "torch.Size([1, 32, 74, 54])\n",
            "torch.Size([1, 127872])\n",
            "torch.Size([1, 127872])\n",
            "torch.Size([1, 256])\n",
            "INFO:gym-duckietown:Pos: [2.44770934 0.         2.43917668] angle 3.1740030595102793\n",
            "torch.Size([1, 3, 640, 480])\n",
            "torch.Size([1, 32, 317, 237])\n",
            "torch.Size([1, 32, 157, 117])\n",
            "torch.Size([1, 32, 77, 57])\n",
            "torch.Size([1, 32, 74, 54])\n",
            "torch.Size([1, 127872])\n",
            "torch.Size([1, 127872])\n",
            "torch.Size([1, 256])\n",
            "INFO:gym-duckietown:Pos: [2.41980274 0.         2.44073281] angle 3.220590527481395\n",
            "torch.Size([1, 3, 640, 480])\n",
            "torch.Size([1, 32, 317, 237])\n",
            "torch.Size([1, 32, 157, 117])\n",
            "torch.Size([1, 32, 77, 57])\n",
            "torch.Size([1, 32, 74, 54])\n",
            "torch.Size([1, 127872])\n",
            "torch.Size([1, 127872])\n",
            "torch.Size([1, 256])\n",
            "INFO:gym-duckietown:Pos: [2.39199889 0.         2.44358687] angle 3.267177995452511\n",
            "DEBUG:gym-duckietown:[2.32651867 0.         2.45185373] corresponds to tile at (3, 4) which is not drivable: {'coords': (3, 4), 'kind': 'floor', 'angle': 0, 'drivable': False, 'texture': <gym_duckietown.graphics.Texture object at 0x7fb8f098cb70>, 'color': array([1.11906539, 0.80514938, 0.81887207])}\n",
            "DEBUG:gym-duckietown:Invalid pose. Collision free: True On drivable area: False\n",
            "DEBUG:gym-duckietown:safety_factor: 1.0\n",
            "DEBUG:gym-duckietown:pos: [2.41580988 0.         2.44058074]\n",
            "DEBUG:gym-duckietown:l_pos: [2.42520404 0.         2.51499008]\n",
            "DEBUG:gym-duckietown:r_pos: [2.40641571 0.         2.3661714 ]\n",
            "DEBUG:gym-duckietown:f_pos: [2.32651867 0.         2.45185373]\n",
            "INFO:gym-duckietown:Stopping the simulator because we are at an invalid pose.\n",
            "INFO:gym-duckietown:Starting at [0.96125449 0.         1.48112474] 1.177827327661459\n",
            "INFO:gym-duckietown:Pos: [0.96125449 0.         1.48112474] angle 1.177827327661459\n",
            "torch.Size([1, 3, 640, 480])\n",
            "torch.Size([1, 32, 317, 237])\n",
            "torch.Size([1, 32, 157, 117])\n",
            "torch.Size([1, 32, 77, 57])\n",
            "torch.Size([1, 32, 74, 54])\n",
            "torch.Size([1, 127872])\n",
            "torch.Size([1, 127872])\n",
            "torch.Size([1, 256])\n",
            "INFO:gym-duckietown:Pos: [0.97135316 0.         1.45506295] angle 1.2244147956325748\n",
            "torch.Size([1, 3, 640, 480])\n",
            "torch.Size([1, 32, 317, 237])\n",
            "torch.Size([1, 32, 157, 117])\n",
            "torch.Size([1, 32, 77, 57])\n",
            "torch.Size([1, 32, 74, 54])\n",
            "torch.Size([1, 127872])\n",
            "torch.Size([1, 127872])\n",
            "torch.Size([1, 256])\n",
            "INFO:gym-duckietown:Pos: [0.98145183 0.         1.42900117] angle 1.177827327661459\n",
            "torch.Size([1, 3, 640, 480])\n",
            "torch.Size([1, 32, 317, 237])\n",
            "torch.Size([1, 32, 157, 117])\n",
            "torch.Size([1, 32, 77, 57])\n",
            "torch.Size([1, 32, 74, 54])\n",
            "torch.Size([1, 127872])\n",
            "torch.Size([1, 127872])\n",
            "torch.Size([1, 256])\n",
            "INFO:gym-duckietown:Pos: [0.9915505  0.         1.40293938] angle 1.2244147956325748\n",
            "torch.Size([1, 3, 640, 480])\n",
            "torch.Size([1, 32, 317, 237])\n",
            "torch.Size([1, 32, 157, 117])\n",
            "torch.Size([1, 32, 77, 57])\n",
            "torch.Size([1, 32, 74, 54])\n",
            "torch.Size([1, 127872])\n",
            "torch.Size([1, 127872])\n",
            "torch.Size([1, 256])\n",
            "INFO:gym-duckietown:Pos: [1.0004245  0.         1.37643557] angle 1.2710022636036906\n",
            "torch.Size([1, 3, 640, 480])\n",
            "torch.Size([1, 32, 317, 237])\n",
            "torch.Size([1, 32, 157, 117])\n",
            "torch.Size([1, 32, 77, 57])\n",
            "torch.Size([1, 32, 74, 54])\n",
            "torch.Size([1, 127872])\n",
            "torch.Size([1, 127872])\n",
            "torch.Size([1, 256])\n",
            "INFO:gym-duckietown:Pos: [1.00805458 0.         1.34954725] angle 1.3175897315748064\n",
            "torch.Size([1, 3, 640, 480])\n",
            "torch.Size([1, 32, 317, 237])\n",
            "torch.Size([1, 32, 157, 117])\n",
            "torch.Size([1, 32, 77, 57])\n",
            "torch.Size([1, 32, 74, 54])\n",
            "torch.Size([1, 127872])\n",
            "torch.Size([1, 127872])\n",
            "torch.Size([1, 256])\n",
            "INFO:gym-duckietown:Pos: [1.01442417 0.         1.32233276] angle 1.3641771995459222\n",
            "torch.Size([1, 3, 640, 480])\n",
            "torch.Size([1, 32, 317, 237])\n",
            "torch.Size([1, 32, 157, 117])\n",
            "torch.Size([1, 32, 77, 57])\n",
            "torch.Size([1, 32, 74, 54])\n",
            "torch.Size([1, 127872])\n",
            "torch.Size([1, 127872])\n",
            "torch.Size([1, 256])\n",
            "INFO:gym-duckietown:Pos: [1.01951945 0.         1.29485117] angle 1.410764667517038\n",
            "torch.Size([1, 3, 640, 480])\n",
            "torch.Size([1, 32, 317, 237])\n",
            "torch.Size([1, 32, 157, 117])\n",
            "torch.Size([1, 32, 77, 57])\n",
            "torch.Size([1, 32, 74, 54])\n",
            "torch.Size([1, 127872])\n",
            "torch.Size([1, 127872])\n",
            "torch.Size([1, 256])\n",
            "INFO:gym-duckietown:Pos: [1.02332937 0.         1.2671621 ] angle 1.4573521354881538\n",
            "torch.Size([1, 3, 640, 480])\n",
            "torch.Size([1, 32, 317, 237])\n",
            "torch.Size([1, 32, 157, 117])\n",
            "torch.Size([1, 32, 77, 57])\n",
            "torch.Size([1, 32, 74, 54])\n",
            "torch.Size([1, 127872])\n",
            "torch.Size([1, 127872])\n",
            "torch.Size([1, 256])\n",
            "INFO:gym-duckietown:Pos: [1.02584566 0.         1.23932565] angle 1.5039396034592696\n",
            "torch.Size([1, 3, 640, 480])\n",
            "torch.Size([1, 32, 317, 237])\n",
            "torch.Size([1, 32, 157, 117])\n",
            "torch.Size([1, 32, 77, 57])\n",
            "torch.Size([1, 32, 74, 54])\n",
            "torch.Size([1, 127872])\n",
            "torch.Size([1, 127872])\n",
            "torch.Size([1, 256])\n",
            "INFO:gym-duckietown:Pos: [1.02706286 0.         1.21140221] angle 1.5505270714303854\n",
            "torch.Size([1, 3, 640, 480])\n",
            "torch.Size([1, 32, 317, 237])\n",
            "torch.Size([1, 32, 157, 117])\n",
            "torch.Size([1, 32, 77, 57])\n",
            "torch.Size([1, 32, 74, 54])\n",
            "torch.Size([1, 127872])\n",
            "torch.Size([1, 127872])\n",
            "torch.Size([1, 256])\n",
            "INFO:gym-duckietown:Pos: [1.02697832 0.         1.18345239] angle 1.5971145394015012\n",
            "torch.Size([1, 3, 640, 480])\n",
            "torch.Size([1, 32, 317, 237])\n",
            "torch.Size([1, 32, 157, 117])\n",
            "torch.Size([1, 32, 77, 57])\n",
            "torch.Size([1, 32, 74, 54])\n",
            "torch.Size([1, 127872])\n",
            "torch.Size([1, 127872])\n",
            "torch.Size([1, 256])\n",
            "INFO:gym-duckietown:Pos: [1.02559224 0.         1.15553683] angle 1.643702007372617\n",
            "torch.Size([1, 3, 640, 480])\n",
            "torch.Size([1, 32, 317, 237])\n",
            "torch.Size([1, 32, 157, 117])\n",
            "torch.Size([1, 32, 77, 57])\n",
            "torch.Size([1, 32, 74, 54])\n",
            "torch.Size([1, 127872])\n",
            "torch.Size([1, 127872])\n",
            "torch.Size([1, 256])\n",
            "torch.Size([20, 3, 640, 480])\n",
            "Traceback (most recent call last):\n",
            "  File \"pytorch_rl/main.py\", line 301, in <module>\n",
            "    main()\n",
            "  File \"pytorch_rl/main.py\", line 171, in main\n",
            "    Variable(rollouts.actions.view(-1, action_shape)))\n",
            "  File \"/content/gym-duckietown/pytorch_rl/model.py\", line 30, in evaluate_actions\n",
            "    value, x, states = self(inputs, states, masks)\n",
            "  File \"/usr/local/lib/python3.6/dist-packages/torch/nn/modules/module.py\", line 727, in _call_impl\n",
            "    result = self.forward(*input, **kwargs)\n",
            "  File \"/content/gym-duckietown/pytorch_rl/model.py\", line 101, in forward\n",
            "    x = self.conv1(inputs)\n",
            "  File \"/usr/local/lib/python3.6/dist-packages/torch/nn/modules/module.py\", line 727, in _call_impl\n",
            "    result = self.forward(*input, **kwargs)\n",
            "  File \"/usr/local/lib/python3.6/dist-packages/torch/nn/modules/conv.py\", line 423, in forward\n",
            "    return self._conv_forward(input, self.weight)\n",
            "  File \"/usr/local/lib/python3.6/dist-packages/torch/nn/modules/conv.py\", line 420, in _conv_forward\n",
            "    self.padding, self.dilation, self.groups)\n",
            "KeyboardInterrupt\n"
          ],
          "name": "stdout"
        }
      ]
    },
    {
      "cell_type": "code",
      "metadata": {
        "colab": {
          "base_uri": "https://localhost:8080/"
        },
        "id": "X1wplTohuhoS",
        "outputId": "c40a3404-bd2d-41d9-b040-778a9339b96e"
      },
      "source": [
        "len((3, 640, 480))"
      ],
      "execution_count": 25,
      "outputs": [
        {
          "output_type": "execute_result",
          "data": {
            "text/plain": [
              "3"
            ]
          },
          "metadata": {
            "tags": []
          },
          "execution_count": 25
        }
      ]
    },
    {
      "cell_type": "markdown",
      "metadata": {
        "id": "KRk6Gj8w5__s"
      },
      "source": [
        "Creating a PPO model"
      ]
    },
    {
      "cell_type": "code",
      "metadata": {
        "id": "zh-9E6NZ2YrB"
      },
      "source": [
        "import tensorforce.core.networks\n",
        "import tensorforce.core.layers\n",
        "\n",
        "from tensorforce.agents import Agent\n",
        "from tensorforce.core.networks import LayeredNetwork"
      ],
      "execution_count": 17,
      "outputs": []
    },
    {
      "cell_type": "code",
      "metadata": {
        "colab": {
          "base_uri": "https://localhost:8080/"
        },
        "id": "DvkPPK5TGLkM",
        "outputId": "c686e125-b38d-4e34-e751-ae7a75345b72"
      },
      "source": [
        "matA = tf.constant([[7], [9]])\n",
        "shapeOp = tf.shape(matA) \n",
        "print(shapeOp) #Tensor(\"Shape:0\", shape=(2,), dtype=int32)"
      ],
      "execution_count": 32,
      "outputs": [
        {
          "output_type": "stream",
          "text": [
            "tf.Tensor([2 1], shape=(2,), dtype=int32)\n"
          ],
          "name": "stdout"
        }
      ]
    },
    {
      "cell_type": "markdown",
      "metadata": {
        "id": "9AjIV_uELp8r"
      },
      "source": [
        "PPO Agent with a CNN which is loosely based on the DT PPO.\n",
        "\n",
        "Feel free to modify.\n",
        "\n",
        "Note: for some reason the Tensorforce's Conv2D layer doesn't work as expected that's why Keras layers are used.\n",
        "\n",
        "Documentation:\n",
        "https://tensorforce.readthedocs.io/en/latest/modules/layers.html#misc-layers"
      ]
    },
    {
      "cell_type": "code",
      "metadata": {
        "id": "lkp2Luwg3Vob"
      },
      "source": [
        "agent = Agent.create(\n",
        "    agent = 'ppo',\n",
        "    environment = environment,\n",
        "    batch_size = 1,\n",
        "    network = dict(type = \"layered\", layers =  [\n",
        "               dict(type = \"keras\", layer = \"Permute\", dims = (2, 1)),\n",
        "               # dict(type = \"reshape\", shape = ( , , )),\n",
        "               dict(type = \"keras\", layer = \"Conv2D\", filters = 32, kernel_size = 8, strides = (2, 2)),\n",
        "               dict(type = \"activation\", nonlinearity = 'leaky-relu'),\n",
        "               dict(type = \"keras\", layer = \"Conv2D\", filters = 32, kernel_size = 3, strides = (2, 2)),\n",
        "               dict(type = \"activation\", nonlinearity = 'leaky-relu'),\n",
        "               dict(type = \"keras\", layer = \"Conv2D\", filters = 32, kernel_size = 4, strides = (2, 2)),\n",
        "               dict(type = \"activation\", nonlinearity = 'leaky-relu'),\n",
        "               dict(type = \"keras\", layer = \"Conv2D\", filters = 32, kernel_size = 4, strides = (2, 2)),\n",
        "               dict(type = \"activation\", nonlinearity = 'leaky-relu'),\n",
        "               dict(type = \"reshape\", shape = (34048)),\n",
        "               dict(type = \"dropout\", rate = 0.5),\n",
        "               dict(type = \"linear\", size = 256),\n",
        "               dict(type = \"activation\", nonlinearity = 'leaky-relu'),\n",
        "               dict(type = \"linear\", size = 1)\n",
        "               ]),\n",
        "    learning_rate = 1e-3\n",
        ")"
      ],
      "execution_count": 49,
      "outputs": []
    },
    {
      "cell_type": "code",
      "metadata": {
        "colab": {
          "base_uri": "https://localhost:8080/"
        },
        "id": "vrjsXl-7FCZr",
        "outputId": "4b8dde90-19a6-4047-e8b6-27645d52ff74"
      },
      "source": [
        "agent.initial_internals()"
      ],
      "execution_count": 50,
      "outputs": [
        {
          "output_type": "execute_result",
          "data": {
            "text/plain": [
              "OrderedDict([('policy', OrderedDict())])"
            ]
          },
          "metadata": {
            "tags": []
          },
          "execution_count": 50
        }
      ]
    },
    {
      "cell_type": "code",
      "metadata": {
        "id": "eVdpTg6h4aF7"
      },
      "source": [
        "from tensorforce.execution import Runner"
      ],
      "execution_count": null,
      "outputs": []
    },
    {
      "cell_type": "code",
      "metadata": {
        "id": "-QDGoAtTwZcs"
      },
      "source": [
        "runner = Runner(\n",
        "    agent = agent,\n",
        "    environment = environment\n",
        ")\n",
        "runner.run(num_episodes = 10)"
      ],
      "execution_count": null,
      "outputs": []
    }
  ]
}