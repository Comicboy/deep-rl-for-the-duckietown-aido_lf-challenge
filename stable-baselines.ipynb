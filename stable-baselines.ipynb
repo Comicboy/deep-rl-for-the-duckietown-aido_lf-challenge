{
  "nbformat": 4,
  "nbformat_minor": 0,
  "metadata": {
    "colab": {
      "name": "Untitled",
      "provenance": []
    },
    "kernelspec": {
      "name": "python3",
      "display_name": "Python 3"
    },
    "accelerator": "GPU"
  },
  "cells": [
    {
      "cell_type": "code",
      "metadata": {
        "colab": {
          "base_uri": "https://localhost:8080/"
        },
        "id": "RZW3YcNreJ2G",
        "outputId": "25177d1b-3b05-4de8-ced5-d2f0ee76c178"
      },
      "source": [
        "!ln -sf /opt/bin/nvidia-smi /usr/bin/nvidia-smi\n",
        "!nvidia-smi"
      ],
      "execution_count": 1,
      "outputs": [
        {
          "output_type": "stream",
          "text": [
            "Thu Dec  3 18:32:00 2020       \n",
            "+-----------------------------------------------------------------------------+\n",
            "| NVIDIA-SMI 418.67       Driver Version: 418.67       CUDA Version: 10.1     |\n",
            "|-------------------------------+----------------------+----------------------+\n",
            "| GPU  Name        Persistence-M| Bus-Id        Disp.A | Volatile Uncorr. ECC |\n",
            "| Fan  Temp  Perf  Pwr:Usage/Cap|         Memory-Usage | GPU-Util  Compute M. |\n",
            "|===============================+======================+======================|\n",
            "|   0  Tesla T4            Off  | 00000000:00:04.0 Off |                    0 |\n",
            "| N/A   61C    P8    11W /  70W |      0MiB / 15079MiB |      0%      Default |\n",
            "+-------------------------------+----------------------+----------------------+\n",
            "                                                                               \n",
            "+-----------------------------------------------------------------------------+\n",
            "| Processes:                                                       GPU Memory |\n",
            "|  GPU       PID   Type   Process name                             Usage      |\n",
            "|=============================================================================|\n",
            "|  No running processes found                                                 |\n",
            "+-----------------------------------------------------------------------------+\n"
          ],
          "name": "stdout"
        }
      ]
    },
    {
      "cell_type": "markdown",
      "metadata": {
        "id": "MqWylYUN4zpa"
      },
      "source": [
        "Clone OpenAI-Gym"
      ]
    },
    {
      "cell_type": "code",
      "metadata": {
        "id": "vk0Ww5nKneiU",
        "colab": {
          "base_uri": "https://localhost:8080/"
        },
        "outputId": "b825083b-7ddc-45b4-9fe7-84384c0224ac"
      },
      "source": [
        "!git clone https://github.com/openai/gym.git"
      ],
      "execution_count": 2,
      "outputs": [
        {
          "output_type": "stream",
          "text": [
            "Cloning into 'gym'...\n",
            "remote: Enumerating objects: 10828, done.\u001b[K\n",
            "remote: Total 10828 (delta 0), reused 0 (delta 0), pack-reused 10828\u001b[K\n",
            "Receiving objects: 100% (10828/10828), 4.14 MiB | 23.92 MiB/s, done.\n",
            "Resolving deltas: 100% (7332/7332), done.\n"
          ],
          "name": "stdout"
        }
      ]
    },
    {
      "cell_type": "markdown",
      "metadata": {
        "id": "McRhtX0W49Sg"
      },
      "source": [
        "Installing requirements for the Gym"
      ]
    },
    {
      "cell_type": "code",
      "metadata": {
        "id": "5jwrcUrIoNtH",
        "colab": {
          "base_uri": "https://localhost:8080/"
        },
        "outputId": "60e0441c-0733-4439-c0ae-c1a0fe26dce5"
      },
      "source": [
        "%cd gym\n",
        "!pip3 install -e ."
      ],
      "execution_count": 3,
      "outputs": [
        {
          "output_type": "stream",
          "text": [
            "/content/gym\n",
            "Obtaining file:///content/gym\n",
            "Requirement already satisfied: scipy in /usr/local/lib/python3.6/dist-packages (from gym==0.17.3) (1.4.1)\n",
            "Requirement already satisfied: numpy>=1.10.4 in /usr/local/lib/python3.6/dist-packages (from gym==0.17.3) (1.18.5)\n",
            "Requirement already satisfied: pyglet<=1.5.0,>=1.4.0 in /usr/local/lib/python3.6/dist-packages (from gym==0.17.3) (1.5.0)\n",
            "Requirement already satisfied: Pillow<=7.2.0 in /usr/local/lib/python3.6/dist-packages (from gym==0.17.3) (7.0.0)\n",
            "Requirement already satisfied: cloudpickle<1.7.0,>=1.2.0 in /usr/local/lib/python3.6/dist-packages (from gym==0.17.3) (1.3.0)\n",
            "Requirement already satisfied: future in /usr/local/lib/python3.6/dist-packages (from pyglet<=1.5.0,>=1.4.0->gym==0.17.3) (0.16.0)\n",
            "Installing collected packages: gym\n",
            "  Found existing installation: gym 0.17.3\n",
            "    Uninstalling gym-0.17.3:\n",
            "      Successfully uninstalled gym-0.17.3\n",
            "  Running setup.py develop for gym\n",
            "Successfully installed gym\n"
          ],
          "name": "stdout"
        }
      ]
    },
    {
      "cell_type": "markdown",
      "metadata": {
        "id": "z2vTuf2N5Dz3"
      },
      "source": [
        "Checking whether the installation was successful by listing all the available environments"
      ]
    },
    {
      "cell_type": "code",
      "metadata": {
        "id": "hjZrD9s_4xxE"
      },
      "source": [
        "from gym import envs\n",
        "envids = [spec.id for spec in envs.registry.all()]\n",
        "for envid in sorted(envids):\n",
        "    print(envid)"
      ],
      "execution_count": null,
      "outputs": []
    },
    {
      "cell_type": "code",
      "metadata": {
        "colab": {
          "base_uri": "https://localhost:8080/"
        },
        "id": "1tNM7mrFoUKi",
        "outputId": "d1de3ee0-ee69-4790-a4ac-ae0a6ffa4b2a"
      },
      "source": [
        "%cd .."
      ],
      "execution_count": 5,
      "outputs": [
        {
          "output_type": "stream",
          "text": [
            "/content\n"
          ],
          "name": "stdout"
        }
      ]
    },
    {
      "cell_type": "markdown",
      "metadata": {
        "id": "R8LRYnhU5Vcl"
      },
      "source": [
        "Cloning the DT Gym and our repository"
      ]
    },
    {
      "cell_type": "code",
      "metadata": {
        "id": "oh3Ti8QB39k2"
      },
      "source": [
        "!git clone https://github.com/Comicboy/deep-rl-for-the-duckietown-aido_lf-challenge"
      ],
      "execution_count": null,
      "outputs": []
    },
    {
      "cell_type": "code",
      "metadata": {
        "id": "sc16IyT7nrI-"
      },
      "source": [
        "!git clone https://github.com/duckietown/gym-duckietown.git"
      ],
      "execution_count": null,
      "outputs": []
    },
    {
      "cell_type": "code",
      "metadata": {
        "id": "Rb77CaT_xx1V",
        "colab": {
          "base_uri": "https://localhost:8080/"
        },
        "outputId": "668d4d20-b188-417d-8529-e170ce204fa4"
      },
      "source": [
        "%cd gym-duckietown"
      ],
      "execution_count": 9,
      "outputs": [
        {
          "output_type": "stream",
          "text": [
            "/content/gym-duckietown\n"
          ],
          "name": "stdout"
        }
      ]
    },
    {
      "cell_type": "markdown",
      "metadata": {
        "id": "vTbtsq4V5aOY"
      },
      "source": [
        "Going back to an older commit because it is possible only with this version to register the environments"
      ]
    },
    {
      "cell_type": "code",
      "metadata": {
        "id": "w4mqbuVVfC02"
      },
      "source": [
        "!git checkout dcf8dd3"
      ],
      "execution_count": null,
      "outputs": []
    },
    {
      "cell_type": "code",
      "metadata": {
        "id": "5JzDYiuboitZ"
      },
      "source": [
        "!pip install -e ."
      ],
      "execution_count": null,
      "outputs": []
    },
    {
      "cell_type": "code",
      "metadata": {
        "colab": {
          "base_uri": "https://localhost:8080/"
        },
        "id": "VC91zAdFo8kT",
        "outputId": "3b54e062-e337-415d-a2c9-f8064ae67553"
      },
      "source": [
        "%cd .."
      ],
      "execution_count": 12,
      "outputs": [
        {
          "output_type": "stream",
          "text": [
            "/content\n"
          ],
          "name": "stdout"
        }
      ]
    },
    {
      "cell_type": "markdown",
      "metadata": {
        "id": "WFAUvRJX420Y"
      },
      "source": [
        "Copy our map into the maps folder"
      ]
    },
    {
      "cell_type": "code",
      "metadata": {
        "id": "gvNO0jyC4qbr"
      },
      "source": [
        "!cp deep-rl-for-the-duckietown-aido_lf-challenge/my.yaml gym-duckietown/gym_duckietown/maps"
      ],
      "execution_count": 13,
      "outputs": []
    },
    {
      "cell_type": "markdown",
      "metadata": {
        "id": "DTdAiFm15wzm"
      },
      "source": [
        "Import Gym"
      ]
    },
    {
      "cell_type": "code",
      "metadata": {
        "id": "EyB1g7MApBb5"
      },
      "source": [
        "import gym"
      ],
      "execution_count": 1,
      "outputs": []
    },
    {
      "cell_type": "markdown",
      "metadata": {
        "id": "zqAfPZqb5ymR"
      },
      "source": [
        "Import the DT Gym"
      ]
    },
    {
      "cell_type": "code",
      "metadata": {
        "colab": {
          "base_uri": "https://localhost:8080/"
        },
        "id": "RJFYtYSTpEWH",
        "outputId": "aff56689-fd42-4192-8aef-9bb5e1d073ac"
      },
      "source": [
        "%cd gym-duckietown/"
      ],
      "execution_count": 15,
      "outputs": [
        {
          "output_type": "stream",
          "text": [
            "/content/gym-duckietown\n"
          ],
          "name": "stdout"
        }
      ]
    },
    {
      "cell_type": "code",
      "metadata": {
        "id": "d4pq-A09pM_Q",
        "colab": {
          "base_uri": "https://localhost:8080/"
        },
        "outputId": "dbe8c0f0-ce3e-4b01-890f-39bc38ed7013"
      },
      "source": [
        "import gym_duckietown.envs.duckietown_env"
      ],
      "execution_count": 2,
      "outputs": [
        {
          "output_type": "stream",
          "text": [
            "INFO:gym-duckietown:gym-duckietown 2018.10.1\n",
            "\n",
            "INFO:gym-duckietown:Registering gym environment id: Duckietown-my-v0\n",
            "INFO:gym-duckietown:Registering gym environment id: Duckietown-loop_pedestrians-v0\n",
            "INFO:gym-duckietown:Registering gym environment id: Duckietown-straight_road-v0\n",
            "INFO:gym-duckietown:Registering gym environment id: Duckietown-udem1-v0\n",
            "INFO:gym-duckietown:Registering gym environment id: Duckietown-loop_obstacles-v0\n",
            "INFO:gym-duckietown:Registering gym environment id: Duckietown-small_loop_cw-v0\n",
            "INFO:gym-duckietown:Registering gym environment id: Duckietown-loop_empty-v0\n",
            "INFO:gym-duckietown:Registering gym environment id: Duckietown-zigzag_dists-v0\n",
            "INFO:gym-duckietown:Registering gym environment id: Duckietown-loop_dyn_duckiebots-v0\n",
            "INFO:gym-duckietown:Registering gym environment id: Duckietown-small_loop-v0\n",
            "INFO:gym-duckietown:Registering gym environment id: Duckietown-4way-v0\n"
          ],
          "name": "stderr"
        }
      ]
    },
    {
      "cell_type": "markdown",
      "metadata": {
        "id": "4lkL6xJe53eC"
      },
      "source": [
        "Get the StableBaselines"
      ]
    },
    {
      "cell_type": "code",
      "metadata": {
        "id": "R0SBqbempbQ9"
      },
      "source": [
        "!pip install stable-baselines3[extra]"
      ],
      "execution_count": null,
      "outputs": []
    },
    {
      "cell_type": "code",
      "metadata": {
        "id": "phwUdoZZp0Mm"
      },
      "source": [
        "import numpy as np\n",
        "from stable_baselines3 import PPO\n",
        "from stable_baselines3.common.evaluation import evaluate_policy"
      ],
      "execution_count": 3,
      "outputs": []
    },
    {
      "cell_type": "markdown",
      "metadata": {
        "id": "5p8Dq7o057cd"
      },
      "source": [
        "Virtual display is necessary for training"
      ]
    },
    {
      "cell_type": "code",
      "metadata": {
        "id": "vDDQ7HUnyrQN"
      },
      "source": [
        "!apt update"
      ],
      "execution_count": null,
      "outputs": []
    },
    {
      "cell_type": "code",
      "metadata": {
        "id": "F7h4x8iV1_ZZ"
      },
      "source": [
        "!apt-get install python-opengl -y\n",
        "!apt-get install xvfb -y"
      ],
      "execution_count": null,
      "outputs": []
    },
    {
      "cell_type": "code",
      "metadata": {
        "id": "5G1hfaYs12Me"
      },
      "source": [
        "!pip install pyvirtualdisplay\n",
        "!pip install piglet"
      ],
      "execution_count": null,
      "outputs": []
    },
    {
      "cell_type": "code",
      "metadata": {
        "id": "AYyiWK4k1XZZ",
        "colab": {
          "base_uri": "https://localhost:8080/"
        },
        "outputId": "be1b404d-19d7-4bb8-f9b9-c647fe81e84f"
      },
      "source": [
        "from pyvirtualdisplay import Display\n",
        "display = Display(visible=0, size=(1400, 900))\n",
        "display.start()"
      ],
      "execution_count": 4,
      "outputs": [
        {
          "output_type": "execute_result",
          "data": {
            "text/plain": [
              "<pyvirtualdisplay.display.Display at 0x7fc3ad8bec50>"
            ]
          },
          "metadata": {
            "tags": []
          },
          "execution_count": 4
        }
      ]
    },
    {
      "cell_type": "markdown",
      "metadata": {
        "id": "dRny-aXfDayM"
      },
      "source": [
        "A different way of creating a virtual display"
      ]
    },
    {
      "cell_type": "code",
      "metadata": {
        "colab": {
          "base_uri": "https://localhost:8080/"
        },
        "id": "Ay6-0kVmDt1F",
        "outputId": "7d375b0f-dfb2-42c4-95b4-db264fce2579"
      },
      "source": [
        "!apt-get install ffmpeg freeglut3-dev xvfb  # For visualization"
      ],
      "execution_count": 4,
      "outputs": [
        {
          "output_type": "stream",
          "text": [
            "Reading package lists... Done\n",
            "Building dependency tree       \n",
            "Reading state information... Done\n",
            "freeglut3-dev is already the newest version (2.8.1-3).\n",
            "freeglut3-dev set to manually installed.\n",
            "ffmpeg is already the newest version (7:3.4.8-0ubuntu0.2).\n",
            "xvfb is already the newest version (2:1.19.6-1ubuntu4.8).\n",
            "0 upgraded, 0 newly installed, 0 to remove and 67 not upgraded.\n"
          ],
          "name": "stdout"
        }
      ]
    },
    {
      "cell_type": "code",
      "metadata": {
        "id": "NnhM0F1gDkeS"
      },
      "source": [
        "import os\n",
        "os.system(\"Xvfb :1 -screen 0 1024x768x24 &\")\n",
        "os.environ['DISPLAY'] = ':1'"
      ],
      "execution_count": 4,
      "outputs": []
    },
    {
      "cell_type": "markdown",
      "metadata": {
        "id": "LnXZUwdX0Q5c"
      },
      "source": [
        "Check if the DT environments follow the Gym interface"
      ]
    },
    {
      "cell_type": "code",
      "metadata": {
        "id": "_0vYUPak0GaN"
      },
      "source": [
        "from gym_duckietown.simulator import Simulator"
      ],
      "execution_count": 5,
      "outputs": []
    },
    {
      "cell_type": "code",
      "metadata": {
        "id": "lG9uDTTc0J56"
      },
      "source": [
        "from stable_baselines3.common.env_checker import check_env\n",
        "check_env(Simulator())"
      ],
      "execution_count": null,
      "outputs": []
    },
    {
      "cell_type": "code",
      "metadata": {
        "id": "3tx572FY0JrH"
      },
      "source": [
        "from gym_duckietown.envs.duckietown_env import DuckietownEnv\n",
        "check_env(DuckietownEnv())"
      ],
      "execution_count": null,
      "outputs": []
    },
    {
      "cell_type": "code",
      "metadata": {
        "colab": {
          "base_uri": "https://localhost:8080/"
        },
        "id": "BqWrOV9tjWwc",
        "outputId": "99ffedff-46cb-4c0e-f3e3-c5c8a6189075"
      },
      "source": [
        "env = gym.make('Duckietown-my-v0')"
      ],
      "execution_count": 5,
      "outputs": [
        {
          "output_type": "stream",
          "text": [
            "DEBUG:gym-duckietown:Falling back to non-multisampled frame buffer\n",
            "DEBUG:gym-duckietown:Falling back to non-multisampled frame buffer\n",
            "DEBUG:gym-duckietown:loading map file \"/content/gym-duckietown/gym_duckietown/maps/my.yaml\"\n",
            "DEBUG:gym-duckietown:loading mesh \"/content/gym-duckietown/gym_duckietown/meshes/duckiebot.obj\"\n",
            "DEBUG:gym-duckietown:loading materials from \"/content/gym-duckietown/gym_duckietown/meshes/duckiebot.mtl\"\n",
            "DEBUG:gym-duckietown:loading mesh \"/content/gym-duckietown/gym_duckietown/meshes/tree.obj\"\n",
            "DEBUG:gym-duckietown:loading materials from \"/content/gym-duckietown/gym_duckietown/meshes/tree.mtl\"\n",
            "DEBUG:gym-duckietown:loading mesh \"/content/gym-duckietown/gym_duckietown/meshes/duckie.obj\"\n",
            "DEBUG:gym-duckietown:loading texture \"/content/gym-duckietown/gym_duckietown/textures/duckie.png\"\n",
            "DEBUG:gym-duckietown:loading texture \"/content/gym-duckietown/gym_duckietown/textures/grass_1.png\"\n",
            "DEBUG:gym-duckietown:loading texture \"/content/gym-duckietown/gym_duckietown/textures/grass_2.png\"\n",
            "DEBUG:gym-duckietown:loading texture \"/content/gym-duckietown/gym_duckietown/textures/curve_right_1.png\"\n",
            "DEBUG:gym-duckietown:loading texture \"/content/gym-duckietown/gym_duckietown/textures/straight_1.png\"\n",
            "DEBUG:gym-duckietown:loading texture \"/content/gym-duckietown/gym_duckietown/textures/curve_left_3.png\"\n",
            "DEBUG:gym-duckietown:loading texture \"/content/gym-duckietown/gym_duckietown/textures/curve_left_1.png\"\n",
            "DEBUG:gym-duckietown:loading texture \"/content/gym-duckietown/gym_duckietown/textures/curve_left_2.png\"\n",
            "DEBUG:gym-duckietown:[5.46439945 0.         1.19047673] corresponds to tile at (9, 2) which is not drivable: {'coords': (9, 2), 'kind': 'grass', 'angle': 0, 'drivable': False, 'texture': <gym_duckietown.graphics.Texture object at 0x7f497154ec50>, 'color': array([0.88534999, 0.98727722, 0.98159807])}\n",
            "DEBUG:gym-duckietown:Invalid pose. Collision free: True On drivable area: False\n",
            "DEBUG:gym-duckietown:safety_factor: 1.3\n",
            "DEBUG:gym-duckietown:pos: [5.40561968 0.         1.0893138 ]\n",
            "DEBUG:gym-duckietown:l_pos: [5.48992212 0.         1.04033066]\n",
            "DEBUG:gym-duckietown:r_pos: [5.32131724 0.         1.13829695]\n",
            "DEBUG:gym-duckietown:f_pos: [5.46439945 0.         1.19047673]\n",
            "INFO:gym-duckietown:Starting at [5.58607067 0.         1.02027958] 5.412880064006462\n",
            "INFO:gym-duckietown:Pos: [5.58607067 0.         1.02027958] angle 5.412880064006462\n",
            "INFO:gym-duckietown:using DuckietownEnv\n",
            "/content/gym/gym/logger.py:30: UserWarning: \u001b[33mWARN: Box bound precision lowered by casting to float32\u001b[0m\n",
            "  warnings.warn(colorize('%s: %s'%('WARN', msg % args), 'yellow'))\n"
          ],
          "name": "stderr"
        }
      ]
    },
    {
      "cell_type": "code",
      "metadata": {
        "colab": {
          "base_uri": "https://localhost:8080/"
        },
        "id": "YpR3UDxw18cG",
        "outputId": "c471ed78-77c1-4f2e-96cc-f33dd7959b3d"
      },
      "source": [
        "env.render()"
      ],
      "execution_count": 34,
      "outputs": [
        {
          "output_type": "stream",
          "text": [
            "INFO:gym-duckietown:Pos: [0.2702807  0.         0.57662245] angle 4.085003799200811\n"
          ],
          "name": "stderr"
        }
      ]
    },
    {
      "cell_type": "markdown",
      "metadata": {
        "id": "8V6rwnSS0j79"
      },
      "source": [
        "If you want to see for yourself that the prewritten PPO doesn't work"
      ]
    },
    {
      "cell_type": "code",
      "metadata": {
        "id": "XoHZg41RdTgi"
      },
      "source": [
        "!python3 pytorch_rl/main.py \\\n",
        "        --algo a2c \\\n",
        "        --env-name Duckietown-loop_obstacles-v0 \\\n",
        "        --lr 0.0002 \\\n",
        "        --max-grad-norm 0.5 \\\n",
        "        --no-vis \\\n",
        "        --num-steps 20"
      ],
      "execution_count": null,
      "outputs": []
    },
    {
      "cell_type": "markdown",
      "metadata": {
        "id": "KRk6Gj8w5__s"
      },
      "source": [
        "Creating a PPO model"
      ]
    },
    {
      "cell_type": "code",
      "metadata": {
        "id": "4qICqd1-Z5gg"
      },
      "source": [
        "import torch as th\n",
        "import torch.nn as nn\n",
        "\n",
        "from stable_baselines3.common.torch_layers import BaseFeaturesExtractor\n",
        "\n",
        "\n",
        "class CustomCNN(BaseFeaturesExtractor):\n",
        "\n",
        "    def __init__(self, observation_space: gym.spaces.Box, features_dim: int = 256):\n",
        "        super(CustomCNN, self).__init__(observation_space, features_dim)\n",
        "        n_input_channels = observation_space.shape[0]\n",
        "        self.cnn = nn.Sequential(\n",
        "            nn.Conv2d(n_input_channels, 32, kernel_size=8, stride=4),\n",
        "            nn.Dropout2d(p=0.2),\n",
        "            nn.Conv2d(32, 32, kernel_size=4, stride=2),\n",
        "            nn.Dropout2d(p=0.2),\n",
        "            nn.Conv2d(32, 32, kernel_size=4, stride=2),\n",
        "            nn.Dropout2d(p=0.2),\n",
        "            nn.Conv2d(32, 32, kernel_size=4, stride=1),\n",
        "        )\n",
        "\n",
        "        # Compute shape by doing one forward pass\n",
        "        with th.no_grad():\n",
        "            n_flatten = self.cnn(\n",
        "                th.as_tensor(observation_space.sample()[None]).float()\n",
        "            ).shape[1]\n",
        "\n",
        "        self.linear = nn.Sequential(\n",
        "            nn.Dropout(p=0.5),\n",
        "            nn.Linear(n_flatten, features_dim),\n",
        "            )\n",
        "\n",
        "    def forward(self, observations: th.Tensor) -> th.Tensor:\n",
        "        return self.linear(self.cnn(observations))"
      ],
      "execution_count": 7,
      "outputs": []
    },
    {
      "cell_type": "code",
      "metadata": {
        "id": "mt4k_TqBFfum"
      },
      "source": [
        "import torch as th\n",
        "import torch.nn as nn\n",
        "\n",
        "from stable_baselines3.common.torch_layers import BaseFeaturesExtractor\n",
        "\n",
        "\n",
        "class CustomCNN(BaseFeaturesExtractor):\n",
        "    \"\"\"\n",
        "    :param observation_space: (gym.Space)\n",
        "    :param features_dim: (int) Number of features extracted.\n",
        "        This corresponds to the number of unit for the last layer.\n",
        "    \"\"\"\n",
        "\n",
        "    def __init__(self, observation_space: gym.spaces.Box, features_dim: int = 256):\n",
        "        super(CustomCNN, self).__init__(observation_space, features_dim)\n",
        "        # We assume CxHxW images (channels first)\n",
        "        # Re-ordering will be done by pre-preprocessing or wrapper\n",
        "        n_input_channels = observation_space.shape[0]\n",
        "        self.cnn = nn.Sequential(\n",
        "            nn.Conv2d(n_input_channels, 32, kernel_size=8, stride=4, padding=0),\n",
        "            nn.ReLU(),\n",
        "            nn.Conv2d(32, 64, kernel_size=4, stride=2, padding=0),\n",
        "            nn.ReLU(),\n",
        "            nn.Flatten(),\n",
        "        )\n",
        "\n",
        "        # Compute shape by doing one forward pass\n",
        "        with th.no_grad():\n",
        "            n_flatten = self.cnn(\n",
        "                th.as_tensor(observation_space.sample()[None]).float()\n",
        "            ).shape[1]\n",
        "\n",
        "        self.linear = nn.Sequential(nn.Linear(n_flatten, features_dim), nn.ReLU())\n",
        "\n",
        "    def forward(self, observations: th.Tensor) -> th.Tensor:\n",
        "        return self.linear(self.cnn(observations))\n"
      ],
      "execution_count": 6,
      "outputs": []
    },
    {
      "cell_type": "code",
      "metadata": {
        "id": "-QDGoAtTwZcs",
        "colab": {
          "base_uri": "https://localhost:8080/"
        },
        "outputId": "f034a296-4d5d-4f27-b355-fd3615481035"
      },
      "source": [
        "policy_kwargs = dict(\n",
        "    features_extractor_class = CustomCNN,\n",
        "    features_extractor_kwargs=dict(features_dim=256),\n",
        ")\n",
        "model = PPO('CnnPolicy', env, batch_size=3, policy_kwargs=policy_kwargs, verbose=0).learn(1000)"
      ],
      "execution_count": null,
      "outputs": [
        {
          "output_type": "stream",
          "text": [
            "INFO:gym-duckietown:Starting at [0.81423897 0.         4.32229395] 1.2528362159312092\n",
            "INFO:gym-duckietown:Pos: [0.81423897 0.         4.32229395] angle 1.2528362159312092\n"
          ],
          "name": "stderr"
        }
      ]
    },
    {
      "cell_type": "code",
      "metadata": {
        "id": "X2BvPLSElcEn"
      },
      "source": [
        "model.get_parameters()"
      ],
      "execution_count": null,
      "outputs": []
    },
    {
      "cell_type": "markdown",
      "metadata": {
        "id": "1_RrE2Vz6C-g"
      },
      "source": [
        "Start learning (at this point you should run out of RAM and experience a crash ;) )"
      ]
    },
    {
      "cell_type": "code",
      "metadata": {
        "colab": {
          "base_uri": "https://localhost:8080/"
        },
        "id": "5nHj4szk4I_7",
        "outputId": "157a515c-154b-46e1-edf6-292082befced"
      },
      "source": [
        "model.learn(total_timesteps=int(1e2))"
      ],
      "execution_count": null,
      "outputs": [
        {
          "output_type": "stream",
          "text": [
            "INFO:gym-duckietown:Starting at [5.54675408 0.         3.9973345 ] 1.8563688869466175\n",
            "INFO:gym-duckietown:Pos: [5.54675408 0.         3.9973345 ] angle 1.8563688869466175\n"
          ],
          "name": "stderr"
        }
      ]
    }
  ]
}