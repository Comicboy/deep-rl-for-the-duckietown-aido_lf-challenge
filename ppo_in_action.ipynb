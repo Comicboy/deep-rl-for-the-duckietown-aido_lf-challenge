{
  "nbformat": 4,
  "nbformat_minor": 0,
  "metadata": {
    "colab": {
      "name": "ppo_in_action.ipynb",
      "provenance": []
    },
    "kernelspec": {
      "name": "python3",
      "display_name": "Python 3"
    }
  },
  "cells": [
    {
      "cell_type": "markdown",
      "metadata": {
        "id": "MV1NQqOLzdQn"
      },
      "source": [
        "Check the type of the GPU (Tensorforce has issues with GPU)"
      ]
    },
    {
      "cell_type": "code",
      "metadata": {
        "id": "RZW3YcNreJ2G",
        "colab": {
          "base_uri": "https://localhost:8080/"
        },
        "outputId": "fce1a8ff-cf6f-4b50-941c-723cf2d69990"
      },
      "source": [
        "!ln -sf /opt/bin/nvidia-smi /usr/bin/nvidia-smi\n",
        "!nvidia-smi"
      ],
      "execution_count": null,
      "outputs": [
        {
          "output_type": "stream",
          "text": [
            "/bin/bash: nvidia-smi: command not found\n"
          ],
          "name": "stdout"
        }
      ]
    },
    {
      "cell_type": "markdown",
      "metadata": {
        "id": "MqWylYUN4zpa"
      },
      "source": [
        "Clone OpenAI-Gym"
      ]
    },
    {
      "cell_type": "code",
      "metadata": {
        "id": "vk0Ww5nKneiU",
        "colab": {
          "base_uri": "https://localhost:8080/"
        },
        "outputId": "26016d60-e312-498c-dc32-02365161c514"
      },
      "source": [
        "!git clone https://github.com/openai/gym.git"
      ],
      "execution_count": 1,
      "outputs": [
        {
          "output_type": "stream",
          "text": [
            "Cloning into 'gym'...\n",
            "remote: Enumerating objects: 10828, done.\u001b[K\n",
            "remote: Total 10828 (delta 0), reused 0 (delta 0), pack-reused 10828\u001b[K\n",
            "Receiving objects: 100% (10828/10828), 4.13 MiB | 19.07 MiB/s, done.\n",
            "Resolving deltas: 100% (7334/7334), done.\n"
          ],
          "name": "stdout"
        }
      ]
    },
    {
      "cell_type": "markdown",
      "metadata": {
        "id": "McRhtX0W49Sg"
      },
      "source": [
        "Installing requirements for the Gym"
      ]
    },
    {
      "cell_type": "code",
      "metadata": {
        "id": "5jwrcUrIoNtH",
        "colab": {
          "base_uri": "https://localhost:8080/"
        },
        "outputId": "0b4afae2-e933-403f-bff4-253ff0554b3f"
      },
      "source": [
        "%cd gym\n",
        "!pip3 install -e ."
      ],
      "execution_count": 2,
      "outputs": [
        {
          "output_type": "stream",
          "text": [
            "/content/gym\n",
            "Obtaining file:///content/gym\n",
            "Requirement already satisfied: scipy in /usr/local/lib/python3.6/dist-packages (from gym==0.17.3) (1.4.1)\n",
            "Requirement already satisfied: numpy>=1.10.4 in /usr/local/lib/python3.6/dist-packages (from gym==0.17.3) (1.18.5)\n",
            "Requirement already satisfied: pyglet<=1.5.0,>=1.4.0 in /usr/local/lib/python3.6/dist-packages (from gym==0.17.3) (1.5.0)\n",
            "Requirement already satisfied: Pillow<=7.2.0 in /usr/local/lib/python3.6/dist-packages (from gym==0.17.3) (7.0.0)\n",
            "Requirement already satisfied: cloudpickle<1.7.0,>=1.2.0 in /usr/local/lib/python3.6/dist-packages (from gym==0.17.3) (1.3.0)\n",
            "Requirement already satisfied: future in /usr/local/lib/python3.6/dist-packages (from pyglet<=1.5.0,>=1.4.0->gym==0.17.3) (0.16.0)\n",
            "Installing collected packages: gym\n",
            "  Found existing installation: gym 0.17.3\n",
            "    Uninstalling gym-0.17.3:\n",
            "      Successfully uninstalled gym-0.17.3\n",
            "  Running setup.py develop for gym\n",
            "Successfully installed gym\n"
          ],
          "name": "stdout"
        }
      ]
    },
    {
      "cell_type": "markdown",
      "metadata": {
        "id": "z2vTuf2N5Dz3"
      },
      "source": [
        "Checking whether the installation was successful by listing all the available environments"
      ]
    },
    {
      "cell_type": "code",
      "metadata": {
        "id": "hjZrD9s_4xxE"
      },
      "source": [
        "from gym import envs\n",
        "envids = [spec.id for spec in envs.registry.all()]\n",
        "for envid in sorted(envids):\n",
        "    print(envid)"
      ],
      "execution_count": null,
      "outputs": []
    },
    {
      "cell_type": "code",
      "metadata": {
        "colab": {
          "base_uri": "https://localhost:8080/"
        },
        "id": "1tNM7mrFoUKi",
        "outputId": "d9d7a1bc-3e70-4d20-a75c-94522be1b9c4"
      },
      "source": [
        "%cd .."
      ],
      "execution_count": 4,
      "outputs": [
        {
          "output_type": "stream",
          "text": [
            "/content\n"
          ],
          "name": "stdout"
        }
      ]
    },
    {
      "cell_type": "markdown",
      "metadata": {
        "id": "R8LRYnhU5Vcl"
      },
      "source": [
        "Cloning our repository"
      ]
    },
    {
      "cell_type": "code",
      "metadata": {
        "id": "oh3Ti8QB39k2"
      },
      "source": [
        "!git clone https://github.com/Comicboy/deep-rl-for-the-duckietown-aido_lf-challenge"
      ],
      "execution_count": null,
      "outputs": []
    },
    {
      "cell_type": "markdown",
      "metadata": {
        "id": "YLvZRSKNzqI9"
      },
      "source": [
        "Checkout the PPO branch if needed"
      ]
    },
    {
      "cell_type": "code",
      "metadata": {
        "colab": {
          "base_uri": "https://localhost:8080/"
        },
        "id": "km1jH8qqZE5_",
        "outputId": "fd7f5743-0681-4ee7-e6fb-cf16c63d7784"
      },
      "source": [
        "%cd /content/deep-rl-for-the-duckietown-aido_lf-challenge/"
      ],
      "execution_count": 6,
      "outputs": [
        {
          "output_type": "stream",
          "text": [
            "/content/deep-rl-for-the-duckietown-aido_lf-challenge\n"
          ],
          "name": "stdout"
        }
      ]
    },
    {
      "cell_type": "code",
      "metadata": {
        "colab": {
          "base_uri": "https://localhost:8080/"
        },
        "id": "XfczhvgQZM7L",
        "outputId": "efec9004-2e1f-4f83-9a73-8ec95f8f1dbd"
      },
      "source": [
        "%ls"
      ],
      "execution_count": 7,
      "outputs": [
        {
          "output_type": "stream",
          "text": [
            "DDPG_1337.npz  LICENSE            \u001b[0m\u001b[01;34mmedia\u001b[0m/   README.md        setup_docker.sh\n",
            "Dockerfile     manual_control.py  my.yaml  \u001b[01;32msetup_conda.sh\u001b[0m*  setup.sh\n"
          ],
          "name": "stdout"
        }
      ]
    },
    {
      "cell_type": "code",
      "metadata": {
        "id": "WoWyouizAJG5",
        "colab": {
          "base_uri": "https://localhost:8080/"
        },
        "outputId": "493d94f3-54cb-406f-f8d8-1f08cbb883a1"
      },
      "source": [
        "!git checkout PPO"
      ],
      "execution_count": 8,
      "outputs": [
        {
          "output_type": "stream",
          "text": [
            "Branch 'PPO' set up to track remote branch 'PPO' from 'origin'.\n",
            "Switched to a new branch 'PPO'\n"
          ],
          "name": "stdout"
        }
      ]
    },
    {
      "cell_type": "code",
      "metadata": {
        "colab": {
          "base_uri": "https://localhost:8080/"
        },
        "id": "lev4JVYGZogg",
        "outputId": "737c50cf-e119-41f3-da4e-576150a6cef6"
      },
      "source": [
        "%cd /content"
      ],
      "execution_count": 9,
      "outputs": [
        {
          "output_type": "stream",
          "text": [
            "/content\n"
          ],
          "name": "stdout"
        }
      ]
    },
    {
      "cell_type": "markdown",
      "metadata": {
        "id": "g1daQCbAzwCm"
      },
      "source": [
        "Cloning the DT Gym"
      ]
    },
    {
      "cell_type": "code",
      "metadata": {
        "id": "sc16IyT7nrI-",
        "colab": {
          "base_uri": "https://localhost:8080/"
        },
        "outputId": "316d037e-903d-431f-8dab-7ea16ebff4cb"
      },
      "source": [
        "!git clone https://github.com/duckietown/gym-duckietown.git"
      ],
      "execution_count": 10,
      "outputs": [
        {
          "output_type": "stream",
          "text": [
            "Cloning into 'gym-duckietown'...\n",
            "remote: Enumerating objects: 206, done.\u001b[K\n",
            "remote: Counting objects: 100% (206/206), done.\u001b[K\n",
            "remote: Compressing objects: 100% (114/114), done.\u001b[K\n",
            "remote: Total 5528 (delta 95), reused 160 (delta 61), pack-reused 5322\u001b[K\n",
            "Receiving objects: 100% (5528/5528), 79.04 MiB | 33.78 MiB/s, done.\n",
            "Resolving deltas: 100% (3204/3204), done.\n"
          ],
          "name": "stdout"
        }
      ]
    },
    {
      "cell_type": "code",
      "metadata": {
        "id": "Rb77CaT_xx1V",
        "colab": {
          "base_uri": "https://localhost:8080/"
        },
        "outputId": "069ca630-a6d4-46f5-cb8f-63e63b518087"
      },
      "source": [
        "%cd gym-duckietown"
      ],
      "execution_count": 11,
      "outputs": [
        {
          "output_type": "stream",
          "text": [
            "/content/gym-duckietown\n"
          ],
          "name": "stdout"
        }
      ]
    },
    {
      "cell_type": "markdown",
      "metadata": {
        "id": "vTbtsq4V5aOY"
      },
      "source": [
        "Going back to an older commit because it is not possible to register the environments with the current DT Gym version (typing -> TypedDict import error)\n",
        "\n",
        "This one contains a PPO implementation by the DT team"
      ]
    },
    {
      "cell_type": "code",
      "metadata": {
        "id": "w4mqbuVVfC02",
        "colab": {
          "base_uri": "https://localhost:8080/"
        },
        "outputId": "8c7e39ff-4394-4a7d-e70c-a20bc2e1706f"
      },
      "source": [
        "!git checkout dcf8dd3"
      ],
      "execution_count": 12,
      "outputs": [
        {
          "output_type": "stream",
          "text": [
            "Note: checking out 'dcf8dd3'.\n",
            "\n",
            "You are in 'detached HEAD' state. You can look around, make experimental\n",
            "changes and commit them, and you can discard any commits you make in this\n",
            "state without impacting any branches by performing another checkout.\n",
            "\n",
            "If you want to create a new branch to retain commits you create, you may\n",
            "do so (now or later) by using -b with the checkout command again. Example:\n",
            "\n",
            "  git checkout -b <new-branch-name>\n",
            "\n",
            "HEAD is now at dcf8dd3 fix\n"
          ],
          "name": "stdout"
        }
      ]
    },
    {
      "cell_type": "code",
      "metadata": {
        "id": "5JzDYiuboitZ"
      },
      "source": [
        "!pip install -e ."
      ],
      "execution_count": null,
      "outputs": []
    },
    {
      "cell_type": "code",
      "metadata": {
        "id": "VC91zAdFo8kT",
        "colab": {
          "base_uri": "https://localhost:8080/"
        },
        "outputId": "bbd67678-7bed-4508-e046-48a03e567aa4"
      },
      "source": [
        "%cd .."
      ],
      "execution_count": 14,
      "outputs": [
        {
          "output_type": "stream",
          "text": [
            "/content\n"
          ],
          "name": "stdout"
        }
      ]
    },
    {
      "cell_type": "markdown",
      "metadata": {
        "id": "WFAUvRJX420Y"
      },
      "source": [
        "Copy our map into the maps folder"
      ]
    },
    {
      "cell_type": "code",
      "metadata": {
        "id": "gvNO0jyC4qbr"
      },
      "source": [
        "%cp deep-rl-for-the-duckietown-aido_lf-challenge/my.yaml gym-duckietown/gym_duckietown/maps"
      ],
      "execution_count": 1,
      "outputs": []
    },
    {
      "cell_type": "code",
      "metadata": {
        "colab": {
          "base_uri": "https://localhost:8080/"
        },
        "id": "vBAj6p2Hbeg2",
        "outputId": "f3a1fb97-f834-41fc-e8a5-e55dcd155aad"
      },
      "source": [
        "%ls"
      ],
      "execution_count": 2,
      "outputs": [
        {
          "output_type": "stream",
          "text": [
            "\u001b[0m\u001b[01;34mdeep-rl-for-the-duckietown-aido_lf-challenge\u001b[0m/  \u001b[01;34mgym-duckietown\u001b[0m/\n",
            "\u001b[01;34mgym\u001b[0m/                                           \u001b[01;34msample_data\u001b[0m/\n"
          ],
          "name": "stdout"
        }
      ]
    },
    {
      "cell_type": "markdown",
      "metadata": {
        "id": "DTdAiFm15wzm"
      },
      "source": [
        "Import Gym"
      ]
    },
    {
      "cell_type": "code",
      "metadata": {
        "id": "EyB1g7MApBb5"
      },
      "source": [
        "import gym"
      ],
      "execution_count": 1,
      "outputs": []
    },
    {
      "cell_type": "markdown",
      "metadata": {
        "id": "zqAfPZqb5ymR"
      },
      "source": [
        "Import the DT Gym"
      ]
    },
    {
      "cell_type": "code",
      "metadata": {
        "colab": {
          "base_uri": "https://localhost:8080/"
        },
        "id": "RJFYtYSTpEWH",
        "outputId": "33d8e9f1-54f5-47cb-9171-a5172c1b4a62"
      },
      "source": [
        "%cd gym-duckietown/"
      ],
      "execution_count": 2,
      "outputs": [
        {
          "output_type": "stream",
          "text": [
            "/content/gym-duckietown\n"
          ],
          "name": "stdout"
        }
      ]
    },
    {
      "cell_type": "code",
      "metadata": {
        "id": "d4pq-A09pM_Q",
        "colab": {
          "base_uri": "https://localhost:8080/"
        },
        "outputId": "510a5f95-fdca-4f3d-8e39-d4124e5acd89"
      },
      "source": [
        "import gym_duckietown.envs.duckietown_env"
      ],
      "execution_count": 2,
      "outputs": [
        {
          "output_type": "stream",
          "text": [
            "INFO:gym-duckietown:gym-duckietown 2018.10.1\n",
            "\n",
            "INFO:gym-duckietown:Registering gym environment id: Duckietown-loop_obstacles-v0\n",
            "INFO:gym-duckietown:Registering gym environment id: Duckietown-small_loop-v0\n",
            "INFO:gym-duckietown:Registering gym environment id: Duckietown-udem1-v0\n",
            "INFO:gym-duckietown:Registering gym environment id: Duckietown-loop_dyn_duckiebots-v0\n",
            "INFO:gym-duckietown:Registering gym environment id: Duckietown-4way-v0\n",
            "INFO:gym-duckietown:Registering gym environment id: Duckietown-loop_pedestrians-v0\n",
            "INFO:gym-duckietown:Registering gym environment id: Duckietown-my-v0\n",
            "INFO:gym-duckietown:Registering gym environment id: Duckietown-small_loop_cw-v0\n",
            "INFO:gym-duckietown:Registering gym environment id: Duckietown-straight_road-v0\n",
            "INFO:gym-duckietown:Registering gym environment id: Duckietown-loop_empty-v0\n",
            "INFO:gym-duckietown:Registering gym environment id: Duckietown-zigzag_dists-v0\n"
          ],
          "name": "stderr"
        }
      ]
    },
    {
      "cell_type": "code",
      "metadata": {
        "colab": {
          "base_uri": "https://localhost:8080/"
        },
        "id": "dsZHyxuEvLQW",
        "outputId": "81f70502-a6c1-4284-bfcf-947712ace0d0"
      },
      "source": [
        "%cd .."
      ],
      "execution_count": 4,
      "outputs": [
        {
          "output_type": "stream",
          "text": [
            "/content\n"
          ],
          "name": "stdout"
        }
      ]
    },
    {
      "cell_type": "markdown",
      "metadata": {
        "id": "4lkL6xJe53eC"
      },
      "source": [
        "Get TensorForce"
      ]
    },
    {
      "cell_type": "code",
      "metadata": {
        "id": "phwUdoZZp0Mm",
        "colab": {
          "base_uri": "https://localhost:8080/"
        },
        "outputId": "1eb1a514-ad59-4741-fe70-345c7f3f91db"
      },
      "source": [
        "!git clone https://github.com/tensorforce/tensorforce.git"
      ],
      "execution_count": 3,
      "outputs": [
        {
          "output_type": "stream",
          "text": [
            "Cloning into 'tensorforce'...\n",
            "remote: Enumerating objects: 223, done.\u001b[K\n",
            "remote: Counting objects: 100% (223/223), done.\u001b[K\n",
            "remote: Compressing objects: 100% (135/135), done.\u001b[K\n",
            "remote: Total 21064 (delta 137), reused 142 (delta 88), pack-reused 20841\u001b[K\n",
            "Receiving objects: 100% (21064/21064), 27.02 MiB | 23.19 MiB/s, done.\n",
            "Resolving deltas: 100% (16567/16567), done.\n"
          ],
          "name": "stdout"
        }
      ]
    },
    {
      "cell_type": "code",
      "metadata": {
        "colab": {
          "base_uri": "https://localhost:8080/"
        },
        "id": "oNrCuyHPvGie",
        "outputId": "3217be43-26a8-4931-f559-45b90a33eb2a"
      },
      "source": [
        "%cd tensorforce"
      ],
      "execution_count": 4,
      "outputs": [
        {
          "output_type": "stream",
          "text": [
            "/content/tensorforce\n"
          ],
          "name": "stdout"
        }
      ]
    },
    {
      "cell_type": "code",
      "metadata": {
        "id": "HW8ErzYYvH0G"
      },
      "source": [
        "!pip3 install -e ."
      ],
      "execution_count": null,
      "outputs": []
    },
    {
      "cell_type": "code",
      "metadata": {
        "colab": {
          "base_uri": "https://localhost:8080/"
        },
        "id": "LvRryauFvV37",
        "outputId": "24b3b075-3ebd-4066-9fae-533d45695246"
      },
      "source": [
        "%cd .."
      ],
      "execution_count": null,
      "outputs": [
        {
          "output_type": "stream",
          "text": [
            "/content\n"
          ],
          "name": "stdout"
        }
      ]
    },
    {
      "cell_type": "markdown",
      "metadata": {
        "id": "5p8Dq7o057cd"
      },
      "source": [
        "Virtual display is necessary for training"
      ]
    },
    {
      "cell_type": "code",
      "metadata": {
        "id": "vDDQ7HUnyrQN"
      },
      "source": [
        "!apt update"
      ],
      "execution_count": null,
      "outputs": []
    },
    {
      "cell_type": "code",
      "metadata": {
        "id": "F7h4x8iV1_ZZ"
      },
      "source": [
        "!apt-get install python-opengl -y\n",
        "!apt-get install xvfb -y"
      ],
      "execution_count": null,
      "outputs": []
    },
    {
      "cell_type": "code",
      "metadata": {
        "id": "5G1hfaYs12Me"
      },
      "source": [
        "!pip install pyvirtualdisplay\n",
        "!pip install piglet"
      ],
      "execution_count": null,
      "outputs": []
    },
    {
      "cell_type": "code",
      "metadata": {
        "id": "AYyiWK4k1XZZ",
        "colab": {
          "base_uri": "https://localhost:8080/"
        },
        "outputId": "fac435bf-dbc0-43ae-c04b-d4189c6ac564"
      },
      "source": [
        "from pyvirtualdisplay import Display\n",
        "display = Display(visible=0, size=(1400, 900))\n",
        "display.start()"
      ],
      "execution_count": 3,
      "outputs": [
        {
          "output_type": "execute_result",
          "data": {
            "text/plain": [
              "<pyvirtualdisplay.display.Display at 0x7f38e2f1b128>"
            ]
          },
          "metadata": {
            "tags": []
          },
          "execution_count": 3
        }
      ]
    },
    {
      "cell_type": "markdown",
      "metadata": {
        "id": "dRny-aXfDayM"
      },
      "source": [
        "A different way of creating a virtual display"
      ]
    },
    {
      "cell_type": "code",
      "metadata": {
        "id": "htEQ-tgU1Q5n"
      },
      "source": [
        "!apt update"
      ],
      "execution_count": null,
      "outputs": []
    },
    {
      "cell_type": "code",
      "metadata": {
        "id": "Ay6-0kVmDt1F",
        "colab": {
          "base_uri": "https://localhost:8080/"
        },
        "outputId": "da8a2dca-fdbb-4d25-8739-77c1520f5d39"
      },
      "source": [
        "!apt-get install ffmpeg freeglut3-dev xvfb  # For visualization"
      ],
      "execution_count": null,
      "outputs": [
        {
          "output_type": "stream",
          "text": [
            "Reading package lists... Done\n",
            "Building dependency tree       \n",
            "Reading state information... Done\n",
            "freeglut3-dev is already the newest version (2.8.1-3).\n",
            "freeglut3-dev set to manually installed.\n",
            "ffmpeg is already the newest version (7:3.4.8-0ubuntu0.2).\n",
            "xvfb is already the newest version (2:1.19.6-1ubuntu4.8).\n",
            "0 upgraded, 0 newly installed, 0 to remove and 15 not upgraded.\n"
          ],
          "name": "stdout"
        }
      ]
    },
    {
      "cell_type": "code",
      "metadata": {
        "id": "NnhM0F1gDkeS"
      },
      "source": [
        "import os\n",
        "os.system(\"Xvfb :1 -screen 0 1024x768x24 &\")\n",
        "os.environ['DISPLAY'] = ':1'"
      ],
      "execution_count": 3,
      "outputs": []
    },
    {
      "cell_type": "markdown",
      "metadata": {
        "id": "LnXZUwdX0Q5c"
      },
      "source": [
        "Check if the DT environments follow the Gym interface"
      ]
    },
    {
      "cell_type": "code",
      "metadata": {
        "colab": {
          "base_uri": "https://localhost:8080/"
        },
        "id": "CkufdWYtcK8B",
        "outputId": "5b9938da-c3d6-46f4-acb7-8ee357f91c00"
      },
      "source": [
        "%cd gym-duckietown/"
      ],
      "execution_count": 9,
      "outputs": [
        {
          "output_type": "stream",
          "text": [
            "/content/gym-duckietown\n"
          ],
          "name": "stdout"
        }
      ]
    },
    {
      "cell_type": "code",
      "metadata": {
        "id": "HNtKOXLr0zge"
      },
      "source": [
        "from tensorforce.environments import Environment"
      ],
      "execution_count": 4,
      "outputs": []
    },
    {
      "cell_type": "code",
      "metadata": {
        "id": "v-HmJukX1Q2p",
        "colab": {
          "base_uri": "https://localhost:8080/"
        },
        "outputId": "b51b069e-b0e0-470c-d9a1-c6af8441816c"
      },
      "source": [
        "environment = Environment.create(\n",
        "    environment='gym',\n",
        "    level = 'Duckietown-my-v0',\n",
        "    max_episode_timesteps = 100\n",
        ")"
      ],
      "execution_count": 5,
      "outputs": [
        {
          "output_type": "stream",
          "text": [
            "DEBUG:gym-duckietown:Falling back to non-multisampled frame buffer\n",
            "DEBUG:gym-duckietown:Falling back to non-multisampled frame buffer\n",
            "DEBUG:gym-duckietown:loading map file \"/content/gym-duckietown/gym_duckietown/maps/my.yaml\"\n",
            "DEBUG:gym-duckietown:loading mesh \"/content/gym-duckietown/gym_duckietown/meshes/duckiebot.obj\"\n",
            "DEBUG:gym-duckietown:loading materials from \"/content/gym-duckietown/gym_duckietown/meshes/duckiebot.mtl\"\n",
            "DEBUG:gym-duckietown:loading mesh \"/content/gym-duckietown/gym_duckietown/meshes/tree.obj\"\n",
            "DEBUG:gym-duckietown:loading materials from \"/content/gym-duckietown/gym_duckietown/meshes/tree.mtl\"\n",
            "DEBUG:gym-duckietown:loading mesh \"/content/gym-duckietown/gym_duckietown/meshes/duckie.obj\"\n",
            "DEBUG:gym-duckietown:loading texture \"/content/gym-duckietown/gym_duckietown/textures/duckie.png\"\n",
            "DEBUG:gym-duckietown:loading texture \"/content/gym-duckietown/gym_duckietown/textures/grass_1.png\"\n",
            "DEBUG:gym-duckietown:loading texture \"/content/gym-duckietown/gym_duckietown/textures/grass_2.png\"\n",
            "DEBUG:gym-duckietown:loading texture \"/content/gym-duckietown/gym_duckietown/textures/curve_right_1.png\"\n",
            "DEBUG:gym-duckietown:loading texture \"/content/gym-duckietown/gym_duckietown/textures/straight_1.png\"\n",
            "DEBUG:gym-duckietown:loading texture \"/content/gym-duckietown/gym_duckietown/textures/curve_left_1.png\"\n",
            "DEBUG:gym-duckietown:loading texture \"/content/gym-duckietown/gym_duckietown/textures/curve_left_3.png\"\n",
            "DEBUG:gym-duckietown:loading texture \"/content/gym-duckietown/gym_duckietown/textures/curve_left_2.png\"\n",
            "DEBUG:gym-duckietown:[1.77464144 0.         2.49155768] corresponds to tile at (3, 4) which is not drivable: {'coords': (3, 4), 'kind': 'grass', 'angle': 0, 'drivable': False, 'texture': <gym_duckietown.graphics.Texture object at 0x7f38a616ea90>, 'color': array([1.08829999, 0.85264533, 0.9523618 ])}\n",
            "DEBUG:gym-duckietown:Invalid pose. Collision free: True On drivable area: False\n",
            "DEBUG:gym-duckietown:safety_factor: 1.3\n",
            "DEBUG:gym-duckietown:pos: [1.66199882 0.         2.52319058]\n",
            "DEBUG:gym-duckietown:l_pos: [1.63563807 0.         2.42932173]\n",
            "DEBUG:gym-duckietown:r_pos: [1.68835956 0.         2.61705943]\n",
            "DEBUG:gym-duckietown:f_pos: [1.77464144 0.         2.49155768]\n",
            "DEBUG:gym-duckietown:[1.54623447 0.         2.26203844] corresponds to tile at (2, 3) which is not drivable: {'coords': (2, 3), 'kind': 'grass', 'angle': 0, 'drivable': False, 'texture': <gym_duckietown.graphics.Texture object at 0x7f38a616ea90>, 'color': array([1.11621199, 0.86104345, 0.80751462])}\n",
            "DEBUG:gym-duckietown:Invalid pose. Collision free: True On drivable area: False\n",
            "DEBUG:gym-duckietown:safety_factor: 1.3\n",
            "DEBUG:gym-duckietown:pos: [1.53119661 0.         2.35837179]\n",
            "DEBUG:gym-duckietown:l_pos: [1.54623447 0.         2.26203844]\n",
            "DEBUG:gym-duckietown:r_pos: [1.51615876 0.         2.45470513]\n",
            "DEBUG:gym-duckietown:f_pos: [1.64679663 0.         2.37641721]\n",
            "DEBUG:gym-duckietown:[1.79326895 0.         2.67320623] corresponds to tile at (3, 4) which is not drivable: {'coords': (3, 4), 'kind': 'grass', 'angle': 0, 'drivable': False, 'texture': <gym_duckietown.graphics.Texture object at 0x7f38a616ea90>, 'color': array([1.08829999, 0.85264533, 0.9523618 ])}\n",
            "DEBUG:gym-duckietown:Invalid pose. Collision free: True On drivable area: False\n",
            "DEBUG:gym-duckietown:safety_factor: 1.3\n",
            "DEBUG:gym-duckietown:pos: [1.70081289 0.         2.70415986]\n",
            "DEBUG:gym-duckietown:l_pos: [1.79326895 0.         2.67320623]\n",
            "DEBUG:gym-duckietown:r_pos: [1.60835683 0.         2.73511349]\n",
            "DEBUG:gym-duckietown:f_pos: [1.73795725 0.         2.81510713]\n",
            "DEBUG:gym-duckietown:[1.76194644 0.         2.46580523] corresponds to tile at (3, 4) which is not drivable: {'coords': (3, 4), 'kind': 'grass', 'angle': 0, 'drivable': False, 'texture': <gym_duckietown.graphics.Texture object at 0x7f38a616ea90>, 'color': array([1.08829999, 0.85264533, 0.9523618 ])}\n",
            "DEBUG:gym-duckietown:Invalid pose. Collision free: True On drivable area: False\n",
            "DEBUG:gym-duckietown:safety_factor: 1.3\n",
            "DEBUG:gym-duckietown:pos: [1.7058598  0.         2.38605225]\n",
            "DEBUG:gym-duckietown:l_pos: [1.76194644 0.         2.46580523]\n",
            "DEBUG:gym-duckietown:r_pos: [1.64977316 0.         2.30629926]\n",
            "DEBUG:gym-duckietown:f_pos: [1.61015621 0.         2.45335621]\n",
            "INFO:gym-duckietown:Starting at [1.20097595 0.         2.77653481] 2.4995490146109334\n",
            "INFO:gym-duckietown:Pos: [1.20097595 0.         2.77653481] angle 2.4995490146109334\n",
            "INFO:gym-duckietown:using DuckietownEnv\n",
            "/content/gym/gym/logger.py:30: UserWarning: \u001b[33mWARN: Box bound precision lowered by casting to float32\u001b[0m\n",
            "  warnings.warn(colorize('%s: %s'%('WARN', msg % args), 'yellow'))\n"
          ],
          "name": "stderr"
        }
      ]
    },
    {
      "cell_type": "markdown",
      "metadata": {
        "id": "kklv_YevArVY"
      },
      "source": [
        "Shape: (Width, Height, Channels)"
      ]
    },
    {
      "cell_type": "code",
      "metadata": {
        "colab": {
          "base_uri": "https://localhost:8080/"
        },
        "id": "3SRVRkhlCW-1",
        "outputId": "e8dd5487-4fe0-41ed-a9a7-9306bb696b21"
      },
      "source": [
        "environment.states()"
      ],
      "execution_count": 11,
      "outputs": [
        {
          "output_type": "execute_result",
          "data": {
            "text/plain": [
              "{'max_value': 255.0, 'min_value': 0.0, 'shape': (480, 640, 3), 'type': 'float'}"
            ]
          },
          "metadata": {
            "tags": []
          },
          "execution_count": 11
        }
      ]
    },
    {
      "cell_type": "code",
      "metadata": {
        "colab": {
          "base_uri": "https://localhost:8080/"
        },
        "id": "KChpumQkCfh_",
        "outputId": "826262ec-ea3b-4f8a-876c-bdcf1b4c18e8"
      },
      "source": [
        "environment.actions()"
      ],
      "execution_count": 12,
      "outputs": [
        {
          "output_type": "execute_result",
          "data": {
            "text/plain": [
              "{'max_value': 1.0, 'min_value': -1.0, 'shape': (2,), 'type': 'float'}"
            ]
          },
          "metadata": {
            "tags": []
          },
          "execution_count": 12
        }
      ]
    },
    {
      "cell_type": "code",
      "metadata": {
        "colab": {
          "base_uri": "https://localhost:8080/"
        },
        "id": "z7IBNRqRCsA4",
        "outputId": "15a1fa9a-8839-4733-f523-6240dfa90ca3"
      },
      "source": [
        "environment.max_episode_timesteps()"
      ],
      "execution_count": 13,
      "outputs": [
        {
          "output_type": "execute_result",
          "data": {
            "text/plain": [
              "100"
            ]
          },
          "metadata": {
            "tags": []
          },
          "execution_count": 13
        }
      ]
    },
    {
      "cell_type": "markdown",
      "metadata": {
        "id": "8V6rwnSS0j79"
      },
      "source": [
        "If you want to see for yourself that the prewritten PPO doesn't work\n",
        "(Now it runs at least)"
      ]
    },
    {
      "cell_type": "code",
      "metadata": {
        "id": "XoHZg41RdTgi"
      },
      "source": [
        "!python3 pytorch_rl/main.py \\\n",
        "        --algo a2c \\\n",
        "        --env-name Duckietown-loop_obstacles-v0 \\\n",
        "        --lr 0.0002 \\\n",
        "        --max-grad-norm 0.5 \\\n",
        "        --no-vis \\\n",
        "        --num-steps 20"
      ],
      "execution_count": null,
      "outputs": []
    },
    {
      "cell_type": "markdown",
      "metadata": {
        "id": "KRk6Gj8w5__s"
      },
      "source": [
        "Creating a PPO model"
      ]
    },
    {
      "cell_type": "code",
      "metadata": {
        "id": "zh-9E6NZ2YrB"
      },
      "source": [
        "import tensorforce.core.networks\n",
        "import tensorforce.core.layers\n",
        "\n",
        "from tensorforce.agents import Agent\n",
        "from tensorforce.core.networks import LayeredNetwork"
      ],
      "execution_count": 6,
      "outputs": []
    },
    {
      "cell_type": "markdown",
      "metadata": {
        "id": "9AjIV_uELp8r"
      },
      "source": [
        "PPO Agent with a CNN which is loosely based on the DT PPO.\n",
        "\n",
        "Feel free to modify.\n",
        "\n",
        "Note: for some reason the Tensorforce's Conv2D layer doesn't work as expected that's why Keras layers are used.\n",
        "\n",
        "Documentation:\n",
        "https://tensorforce.readthedocs.io/en/latest/modules/layers.html#misc-layers"
      ]
    },
    {
      "cell_type": "code",
      "metadata": {
        "id": "lkp2Luwg3Vob"
      },
      "source": [
        "agent = Agent.create(\n",
        "    agent = 'ppo',\n",
        "    environment = environment,\n",
        "    batch_size = 20,\n",
        "    network = dict(type = \"layered\", layers =  [\n",
        "               # dict(type = \"reshape\", shape = ( , , )),\n",
        "               dict(type = \"keras\", layer = \"Conv2D\", filters = 64, kernel_size = 5, strides = (2, 2)),\n",
        "               dict(type = \"activation\", nonlinearity = 'leaky-relu'),\n",
        "               dict(type = \"keras\", layer = \"Conv2D\", filters = 64, kernel_size = 3, strides = (2, 2)),\n",
        "               dict(type = \"activation\", nonlinearity = 'leaky-relu'),\n",
        "               dict(type = \"keras\", layer = \"MaxPooling2D\", pool_size = (2, 2), strides = (2, 2)),\n",
        "               dict(type = \"keras\", layer = \"Conv2D\", filters = 128, kernel_size = 3, strides = (2, 2)),\n",
        "               dict(type = \"activation\", nonlinearity = 'leaky-relu'),\n",
        "               dict(type = \"keras\", layer = \"Conv2D\", filters = 128, kernel_size = 3, strides = (2, 2)),\n",
        "               dict(type = \"activation\", nonlinearity = 'leaky-relu'),\n",
        "               dict(type = \"keras\", layer = \"MaxPooling2D\", pool_size = (2, 2), strides = (2, 2)),\n",
        "               dict(type = \"keras\", layer = \"Conv2D\", filters = 256, kernel_size = 3, strides = (2, 2)),\n",
        "               dict(type = \"activation\", nonlinearity = 'leaky-relu'),\n",
        "               dict(type = \"keras\", layer = \"MaxPooling2D\", pool_size = (2, 2), strides = (2, 2)),\n",
        " \n",
        "\n",
        "               dict(type = \"keras\", layer = \"Flatten\"),\n",
        "               dict(type = \"dropout\", rate = 0.5),\n",
        "               dict(type = \"linear\", size = 2048),\n",
        "               dict(type = \"activation\", nonlinearity = 'leaky-relu'),\n",
        "               dict(type = \"linear\", size = 2048),\n",
        "               dict(type = \"activation\", nonlinearity = 'leaky-relu'),\n",
        "               dict(type = \"linear\", size = 1)\n",
        "               ]),\n",
        "    learning_rate = 0.005,\n",
        "    discount = 0.7,\n",
        "    exploration=0.2,\n",
        "    #saver=dict( directory='/content/data/checkpoints', frequency=100)\n",
        ")"
      ],
      "execution_count": 7,
      "outputs": []
    },
    {
      "cell_type": "code",
      "metadata": {
        "colab": {
          "base_uri": "https://localhost:8080/"
        },
        "id": "vrjsXl-7FCZr",
        "outputId": "36775042-f6ce-4b08-dc4f-1ab00146d975"
      },
      "source": [
        "agent.initial_internals"
      ],
      "execution_count": 16,
      "outputs": [
        {
          "output_type": "execute_result",
          "data": {
            "text/plain": [
              "<bound method Agent.initial_internals of <tensorforce.agents.ppo.ProximalPolicyOptimization object at 0x7f3cb5259eb8>>"
            ]
          },
          "metadata": {
            "tags": []
          },
          "execution_count": 16
        }
      ]
    },
    {
      "cell_type": "code",
      "metadata": {
        "id": "eVdpTg6h4aF7"
      },
      "source": [
        "from tensorforce.execution import Runner"
      ],
      "execution_count": 8,
      "outputs": []
    },
    {
      "cell_type": "code",
      "metadata": {
        "id": "-QDGoAtTwZcs",
        "colab": {
          "base_uri": "https://localhost:8080/"
        },
        "outputId": "830321bf-5525-4f99-91be-08b5c3437df7"
      },
      "source": [
        "runner = Runner(\n",
        "    agent = agent,\n",
        "    environment = environment\n",
        ")\n",
        "runner.run(num_episodes = 100, evaluation = True, save_best_agent = '/content/deep-rl-for-the-duckietown-aido_lf-challenge')"
      ],
      "execution_count": 9,
      "outputs": [
        {
          "output_type": "stream",
          "text": [
            "\rEpisodes:   0%|          | 0/1 [00:00, reward=0.00, ts/ep=0, sec/ep=0.00, ms/ts=0.0, agent=0.0%]DEBUG:gym-duckietown:[4.67875784 0.         3.66185344] corresponds to tile at (7, 6) which is not drivable: {'coords': (7, 6), 'kind': 'grass', 'angle': 0, 'drivable': False, 'texture': <gym_duckietown.graphics.Texture object at 0x7f38a616ea90>, 'color': array([1.18353956, 0.95636796, 1.13870411])}\n",
            "DEBUG:gym-duckietown:Invalid pose. Collision free: True On drivable area: False\n",
            "DEBUG:gym-duckietown:safety_factor: 1.3\n",
            "DEBUG:gym-duckietown:pos: [4.67875784 0.         3.66185344]\n",
            "DEBUG:gym-duckietown:l_pos: [4.75624242 0.         3.60267245]\n",
            "DEBUG:gym-duckietown:r_pos: [4.60127325 0.         3.72103442]\n",
            "DEBUG:gym-duckietown:f_pos: [4.74977502 0.         3.75483494]\n",
            "DEBUG:gym-duckietown:[4.63666929 0.         3.84016539] corresponds to tile at (7, 6) which is not drivable: {'coords': (7, 6), 'kind': 'grass', 'angle': 0, 'drivable': False, 'texture': <gym_duckietown.graphics.Texture object at 0x7f38a616ea90>, 'color': array([1.18353956, 0.95636796, 1.13870411])}\n",
            "DEBUG:gym-duckietown:Invalid pose. Collision free: True On drivable area: False\n",
            "DEBUG:gym-duckietown:safety_factor: 1.3\n",
            "DEBUG:gym-duckietown:pos: [4.69940928 0.         3.76553334]\n",
            "DEBUG:gym-duckietown:l_pos: [4.63666929 0.         3.84016539]\n",
            "DEBUG:gym-duckietown:r_pos: [4.76214928 0.         3.69090129]\n",
            "DEBUG:gym-duckietown:f_pos: [4.60985083 0.         3.69024534]\n",
            "INFO:gym-duckietown:Starting at [4.79319344 0.         3.8873727 ] 5.931796015507898\n",
            "INFO:gym-duckietown:Pos: [4.79319344 0.         3.8873727 ] angle 5.931796015507898\n",
            "INFO:gym-duckietown:Pos: [4.79319362 0.         3.88737277] angle 5.931802535518431\n",
            "INFO:gym-duckietown:Pos: [4.79319375 0.         3.88737282] angle 5.931807344610834\n",
            "INFO:gym-duckietown:Pos: [4.79319385 0.         3.88737285] angle 5.9318106883823205\n",
            "INFO:gym-duckietown:Pos: [4.79319404 0.         3.88737292] angle 5.931817635379875\n",
            "INFO:gym-duckietown:Pos: [4.7931942  0.         3.88737298] angle 5.931823527957109\n",
            "INFO:gym-duckietown:Pos: [4.79319436 0.         3.88737304] angle 5.931829202617972\n",
            "INFO:gym-duckietown:Pos: [4.79319449 0.         3.88737309] angle 5.931833735359912\n",
            "INFO:gym-duckietown:Pos: [4.79319468 0.         3.88737316] angle 5.931840698476771\n",
            "INFO:gym-duckietown:Pos: [4.79319477 0.         3.88737319] angle 5.931843905697532\n",
            "INFO:gym-duckietown:Pos: [4.7931949  0.         3.88737324] angle 5.931848282056042\n",
            "INFO:gym-duckietown:Pos: [4.79319502 0.         3.88737328] angle 5.931852775436967\n",
            "INFO:gym-duckietown:Pos: [4.79319522 0.         3.88737336] angle 5.931860063295085\n",
            "INFO:gym-duckietown:Pos: [4.79319537 0.         3.88737341] angle 5.93186544399743\n",
            "INFO:gym-duckietown:Pos: [4.79319559 0.         3.88737349] angle 5.931873231626552\n",
            "INFO:gym-duckietown:Pos: [4.79319574 0.         3.88737355] angle 5.931878556926878\n",
            "INFO:gym-duckietown:Pos: [4.79319583 0.         3.88737358] angle 5.931881702889941\n",
            "INFO:gym-duckietown:Pos: [4.79319595 0.         3.88737362] angle 5.931885919564825\n",
            "INFO:gym-duckietown:Pos: [4.79319614 0.         3.88737369] angle 5.931892745183881\n",
            "INFO:gym-duckietown:Pos: [4.7931963  0.         3.88737375] angle 5.9318987298181645\n",
            "INFO:gym-duckietown:Pos: [4.79319648 0.         3.88737382] angle 5.9319050016617645\n",
            "INFO:gym-duckietown:Pos: [4.79319665 0.         3.88737388] angle 5.931911089898363\n",
            "INFO:gym-duckietown:Pos: [4.7931968  0.         3.88737394] angle 5.931916427743571\n",
            "INFO:gym-duckietown:Pos: [4.79319694 0.         3.88737399] angle 5.931921600139301\n",
            "INFO:gym-duckietown:Pos: [4.7931971  0.         3.88737405] angle 5.931927242465625\n",
            "INFO:gym-duckietown:Pos: [4.79319724 0.         3.8873741 ] angle 5.9319324241602756\n",
            "INFO:gym-duckietown:Pos: [4.79319749 0.         3.88737419] angle 5.931941111167586\n",
            "INFO:gym-duckietown:Pos: [4.79319768 0.         3.88737426] angle 5.931947941012223\n",
            "INFO:gym-duckietown:Pos: [4.79319789 0.         3.88737434] angle 5.931955656456659\n",
            "INFO:gym-duckietown:Pos: [4.79319807 0.         3.8873744 ] angle 5.931961912403995\n",
            "INFO:gym-duckietown:Pos: [4.79319825 0.         3.88737447] angle 5.93196841292791\n",
            "INFO:gym-duckietown:Pos: [4.79319842 0.         3.88737453] angle 5.93197473766618\n",
            "INFO:gym-duckietown:Pos: [4.79319858 0.         3.88737459] angle 5.931980240306659\n",
            "INFO:gym-duckietown:Pos: [4.79319873 0.         3.88737464] angle 5.931985689411141\n",
            "INFO:gym-duckietown:Pos: [4.79319883 0.         3.88737468] angle 5.931989200205938\n",
            "INFO:gym-duckietown:Pos: [4.79319895 0.         3.88737472] angle 5.931993527515036\n",
            "INFO:gym-duckietown:Pos: [4.79319913 0.         3.88737479] angle 5.931999834392381\n",
            "INFO:gym-duckietown:Pos: [4.79319927 0.         3.88737484] angle 5.9320050033082605\n",
            "INFO:gym-duckietown:Pos: [4.79319938 0.         3.88737488] angle 5.932008898239045\n",
            "INFO:gym-duckietown:Pos: [4.79319947 0.         3.88737491] angle 5.932012177612967\n",
            "INFO:gym-duckietown:Pos: [4.7931996  0.         3.88737496] angle 5.932016854758176\n",
            "INFO:gym-duckietown:Pos: [4.79319976 0.         3.88737502] angle 5.932022510629679\n",
            "INFO:gym-duckietown:Pos: [4.79319987 0.         3.88737506] angle 5.932026530263563\n",
            "INFO:gym-duckietown:Pos: [4.7932     0.         3.88737511] angle 5.932031018449797\n",
            "INFO:gym-duckietown:Pos: [4.79320017 0.         3.88737517] angle 5.932037266421205\n",
            "INFO:gym-duckietown:Pos: [4.79320029 0.         3.88737521] angle 5.932041527129446\n",
            "INFO:gym-duckietown:Pos: [4.79320041 0.         3.88737526] angle 5.93204573385425\n",
            "INFO:gym-duckietown:Pos: [4.79320053 0.         3.8873753 ] angle 5.932050193185117\n",
            "INFO:gym-duckietown:Pos: [4.79320067 0.         3.88737535] angle 5.932055068853634\n",
            "INFO:gym-duckietown:Pos: [4.79320079 0.         3.8873754 ] angle 5.932059540407025\n",
            "INFO:gym-duckietown:Pos: [4.79320096 0.         3.88737546] angle 5.932065743114622\n",
            "INFO:gym-duckietown:Pos: [4.79320108 0.         3.88737551] angle 5.932069941547581\n",
            "INFO:gym-duckietown:Pos: [4.79320128 0.         3.88737558] angle 5.932077006363108\n",
            "INFO:gym-duckietown:Pos: [4.79320145 0.         3.88737564] angle 5.932083043791049\n",
            "INFO:gym-duckietown:Pos: [4.79320162 0.         3.8873757 ] angle 5.932089036968015\n",
            "INFO:gym-duckietown:Pos: [4.79320172 0.         3.88737574] angle 5.932092826594523\n",
            "INFO:gym-duckietown:Pos: [4.79320179 0.         3.88737577] angle 5.9320954558762935\n",
            "INFO:gym-duckietown:Pos: [4.79320194 0.         3.88737582] angle 5.932100719789434\n",
            "INFO:gym-duckietown:Pos: [4.79320213 0.         3.88737589] angle 5.932107469705991\n",
            "INFO:gym-duckietown:Pos: [4.79320228 0.         3.88737594] angle 5.932112847118986\n",
            "INFO:gym-duckietown:Pos: [4.79320245 0.         3.88737601] angle 5.93211905064214\n",
            "INFO:gym-duckietown:Pos: [4.79320263 0.         3.88737607] angle 5.932125447828136\n",
            "INFO:gym-duckietown:Pos: [4.79320274 0.         3.88737611] angle 5.932129241622939\n",
            "INFO:gym-duckietown:Pos: [4.7932029  0.         3.88737617] angle 5.932135015705619\n",
            "INFO:gym-duckietown:Pos: [4.79320307 0.         3.88737623] angle 5.932140997139362\n",
            "INFO:gym-duckietown:Pos: [4.79320324 0.         3.8873763 ] angle 5.932147311361475\n",
            "INFO:gym-duckietown:Pos: [4.79320338 0.         3.88737635] angle 5.932152272738501\n",
            "INFO:gym-duckietown:Pos: [4.79320353 0.         3.8873764 ] angle 5.932157526420897\n",
            "INFO:gym-duckietown:Pos: [4.7932037  0.         3.88737646] angle 5.93216370476412\n",
            "INFO:gym-duckietown:Pos: [4.79320387 0.         3.88737653] angle 5.932169942293945\n",
            "INFO:gym-duckietown:Pos: [4.793204   0.         3.88737657] angle 5.932174509456775\n",
            "INFO:gym-duckietown:Pos: [4.7932042  0.         3.88737665] angle 5.932181585338944\n",
            "INFO:gym-duckietown:Pos: [4.79320433 0.         3.88737669] angle 5.93218617893894\n",
            "INFO:gym-duckietown:Pos: [4.79320449 0.         3.88737675] angle 5.932192082073684\n",
            "INFO:gym-duckietown:Pos: [4.79320466 0.         3.88737682] angle 5.932198240230659\n",
            "INFO:gym-duckietown:Pos: [4.79320481 0.         3.88737687] angle 5.932203362999374\n",
            "INFO:gym-duckietown:Pos: [4.79320499 0.         3.88737694] angle 5.932209903563597\n",
            "INFO:gym-duckietown:Pos: [4.79320513 0.         3.88737699] angle 5.932215047839182\n",
            "INFO:gym-duckietown:Pos: [4.79320521 0.         3.88737702] angle 5.9322179174870335\n",
            "INFO:gym-duckietown:Pos: [4.7932053  0.         3.88737705] angle 5.932221050595396\n",
            "INFO:gym-duckietown:Pos: [4.79320549 0.         3.88737712] angle 5.932228015424045\n",
            "INFO:gym-duckietown:Pos: [4.79320565 0.         3.88737718] angle 5.9322336139495455\n",
            "INFO:gym-duckietown:Pos: [4.79320578 0.         3.88737722] angle 5.932238079723525\n",
            "INFO:gym-duckietown:Pos: [4.79320592 0.         3.88737728] angle 5.9322432460310415\n",
            "INFO:gym-duckietown:Pos: [4.79320612 0.         3.88737735] angle 5.932250311180792\n",
            "INFO:gym-duckietown:Pos: [4.79320626 0.         3.8873774 ] angle 5.9322554184732255\n",
            "INFO:gym-duckietown:Pos: [4.79320645 0.         3.88737747] angle 5.932262162195473\n",
            "INFO:gym-duckietown:Pos: [4.79320661 0.         3.88737753] angle 5.932267980858604\n",
            "INFO:gym-duckietown:Pos: [4.79320672 0.         3.88737757] angle 5.932271840750897\n",
            "INFO:gym-duckietown:Pos: [4.79320683 0.         3.88737761] angle 5.932276002777628\n",
            "INFO:gym-duckietown:Pos: [4.79320703 0.         3.88737768] angle 5.932282916415941\n",
            "INFO:gym-duckietown:Pos: [4.79320721 0.         3.88737775] angle 5.932289344730764\n",
            "INFO:gym-duckietown:Pos: [4.79320739 0.         3.88737781] angle 5.932295898564923\n",
            "INFO:gym-duckietown:Pos: [4.79320757 0.         3.88737788] angle 5.932302402535468\n",
            "INFO:gym-duckietown:Pos: [4.79320765 0.         3.88737791] angle 5.932305286367115\n",
            "INFO:gym-duckietown:Pos: [4.79320784 0.         3.88737798] angle 5.9323120323224865\n",
            "INFO:gym-duckietown:Pos: [4.79320799 0.         3.88737803] angle 5.932317383966762\n",
            "INFO:gym-duckietown:Pos: [4.79320815 0.         3.88737809] angle 5.932323195420712\n",
            "INFO:gym-duckietown:Pos: [4.79320831 0.         3.88737815] angle 5.9323287997517244\n",
            "INFO:gym-duckietown:Pos: [4.79320853 0.         3.88737823] angle 5.932336677361375\n",
            "INFO:gym-duckietown:Pos: [4.79320868 0.         3.88737829] angle 5.932342267546557\n",
            "Episodes: 100%|██████████| 1/1 [00:11, reward=-1649.66, ts/ep=100, sec/ep=11.74, ms/ts=117.4, agent=75.1%]"
          ],
          "name": "stderr"
        }
      ]
    },
    {
      "cell_type": "code",
      "metadata": {
        "id": "h8qpazWEZ-Re",
        "colab": {
          "base_uri": "https://localhost:8080/"
        },
        "outputId": "5b3e1840-a374-48dc-c0fd-34a1cd4787d8"
      },
      "source": [
        "runner.close()"
      ],
      "execution_count": 11,
      "outputs": [
        {
          "output_type": "stream",
          "text": [
            "\rEpisodes: 100%|██████████| 1/1 [01:54, reward=-16.87, ts/ep=100, sec/ep=12.65, ms/ts=126.5, agent=74.7%]\n"
          ],
          "name": "stderr"
        }
      ]
    },
    {
      "cell_type": "code",
      "metadata": {
        "id": "iVmbEDfTNVrg"
      },
      "source": [
        "# Evaluate for 100 episodes\n",
        "sum_rewards = 0.0\n",
        "for _ in range(100):\n",
        "    states = environment.reset()\n",
        "    internals = agent.initial_internals()\n",
        "    terminal = False\n",
        "    while not terminal:\n",
        "        actions, internals = agent.act(\n",
        "            states=states, internals=internals,\n",
        "            independent=True, deterministic=True\n",
        "        )\n",
        "        states, terminal, reward = environment.execute(actions=actions)\n",
        "        sum_rewards += reward\n",
        "\n",
        "print('Mean episode reward:', sum_rewards / 100)"
      ],
      "execution_count": null,
      "outputs": []
    },
    {
      "cell_type": "code",
      "metadata": {
        "id": "LxjxTsbukfAc"
      },
      "source": [
        "agent.close()"
      ],
      "execution_count": 12,
      "outputs": []
    },
    {
      "cell_type": "code",
      "metadata": {
        "id": "Z4oHzxB_lSPE"
      },
      "source": [
        "environment.close()"
      ],
      "execution_count": 13,
      "outputs": []
    },
    {
      "cell_type": "code",
      "metadata": {
        "id": "EuXlm3-PlsPz"
      },
      "source": [
        "agent.save(directory = '/content/model', format = 'saved-model')"
      ],
      "execution_count": 10,
      "outputs": []
    }
  ]
}